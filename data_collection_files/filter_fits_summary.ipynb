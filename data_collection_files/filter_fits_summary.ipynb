{
 "cells": [
  {
   "cell_type": "markdown",
   "id": "464155bb",
   "metadata": {},
   "source": [
    "## Filters the \"fits_summary_combined.csv\""
   ]
  },
  {
   "cell_type": "markdown",
   "id": "b8b4ddbe",
   "metadata": {},
   "source": [
    "#### filter out any file with NIC and doesnt start with hst_* (plus remove hst_skycell)"
   ]
  },
  {
   "cell_type": "code",
   "execution_count": 3,
   "id": "584c7c04",
   "metadata": {},
   "outputs": [],
   "source": [
    "import pandas as pd "
   ]
  },
  {
   "cell_type": "code",
   "execution_count": 4,
   "id": "d8ec9a8c",
   "metadata": {},
   "outputs": [
    {
     "name": "stdout",
     "output_type": "stream",
     "text": [
      "38288\n"
     ]
    }
   ],
   "source": [
    "#fits_summary = pd.read_csv('data_files/fits_summary.csv')\n",
    "fits_summary = pd.read_csv('/home/epadill/photometry_ds9/STScI_pantheon/fits_summary.csv')\n",
    "\n",
    "print(len(fits_summary))"
   ]
  },
  {
   "cell_type": "code",
   "execution_count": 5,
   "id": "84bb9eb7",
   "metadata": {},
   "outputs": [],
   "source": [
    "file_key = fits_summary['File_key']\n",
    "filter = fits_summary['Filter']"
   ]
  },
  {
   "cell_type": "code",
   "execution_count": 6,
   "id": "abc0837d",
   "metadata": {},
   "outputs": [],
   "source": [
    "sub_string_NIC = 'NIC'\n",
    "sub_string_sky = 'hst_skycell'"
   ]
  },
  {
   "cell_type": "code",
   "execution_count": 9,
   "id": "5dad4333",
   "metadata": {},
   "outputs": [
    {
     "name": "stdout",
     "output_type": "stream",
     "text": [
      "Total number of JWSTfiles:  392\n",
      "Total number of unique JWST SNID:  42\n"
     ]
    }
   ],
   "source": [
    "# create a file with just JWST data\n",
    "fits_summary_jw = fits_summary[file_key.str.startswith('jw')]\n",
    "print('Total number of JWSTfiles: ', len(fits_summary_jw))\n",
    "print('Total number of unique JWST SNID: ', fits_summary_jw['SNID'].nunique())\n",
    "fits_summary_jw.to_csv(\"data_files/fits_cleaned_JWST_data.csv\", index=False)"
   ]
  },
  {
   "cell_type": "code",
   "execution_count": 8,
   "id": "ad5a4b73",
   "metadata": {},
   "outputs": [
    {
     "data": {
      "text/html": [
       "<div>\n",
       "<style scoped>\n",
       "    .dataframe tbody tr th:only-of-type {\n",
       "        vertical-align: middle;\n",
       "    }\n",
       "\n",
       "    .dataframe tbody tr th {\n",
       "        vertical-align: top;\n",
       "    }\n",
       "\n",
       "    .dataframe thead th {\n",
       "        text-align: right;\n",
       "    }\n",
       "</style>\n",
       "<table border=\"1\" class=\"dataframe\">\n",
       "  <thead>\n",
       "    <tr style=\"text-align: right;\">\n",
       "      <th></th>\n",
       "      <th>SNID</th>\n",
       "      <th>filename</th>\n",
       "      <th>File_key</th>\n",
       "      <th>Date</th>\n",
       "      <th>Telescope</th>\n",
       "      <th>Instrument</th>\n",
       "      <th>Filter</th>\n",
       "      <th>CD1_1</th>\n",
       "      <th>CD1_2</th>\n",
       "      <th>CD2_1</th>\n",
       "      <th>CD2_2</th>\n",
       "    </tr>\n",
       "  </thead>\n",
       "  <tbody>\n",
       "    <tr>\n",
       "      <th>780</th>\n",
       "      <td>1998bu</td>\n",
       "      <td>/astro/armin/bhoomika/pantheon_data_folder/199...</td>\n",
       "      <td>jw03707-o126_t023_nircam_clear-f187n_i2d</td>\n",
       "      <td>2025-05-30T10:56:06.069</td>\n",
       "      <td>JWST</td>\n",
       "      <td>NIRCAM</td>\n",
       "      <td>F187N</td>\n",
       "      <td>0.000004</td>\n",
       "      <td>0.000008</td>\n",
       "      <td>0.000008</td>\n",
       "      <td>-0.000004</td>\n",
       "    </tr>\n",
       "    <tr>\n",
       "      <th>781</th>\n",
       "      <td>1998bu</td>\n",
       "      <td>/astro/armin/bhoomika/pantheon_data_folder/199...</td>\n",
       "      <td>jw03707-o125_t023_miri_f2100w_i2d</td>\n",
       "      <td>2025-05-30T10:50:24.076</td>\n",
       "      <td>JWST</td>\n",
       "      <td>MIRI</td>\n",
       "      <td>F2100W</td>\n",
       "      <td>0.000015</td>\n",
       "      <td>0.000027</td>\n",
       "      <td>0.000027</td>\n",
       "      <td>-0.000015</td>\n",
       "    </tr>\n",
       "    <tr>\n",
       "      <th>782</th>\n",
       "      <td>1998bu</td>\n",
       "      <td>/astro/armin/bhoomika/pantheon_data_folder/199...</td>\n",
       "      <td>jw03707-c1108_t023_miri_f2100w_i2d</td>\n",
       "      <td>2025-05-08T03:54:17.065</td>\n",
       "      <td>JWST</td>\n",
       "      <td>MIRI</td>\n",
       "      <td>F2100W</td>\n",
       "      <td>0.000015</td>\n",
       "      <td>0.000027</td>\n",
       "      <td>0.000027</td>\n",
       "      <td>-0.000015</td>\n",
       "    </tr>\n",
       "    <tr>\n",
       "      <th>783</th>\n",
       "      <td>1998bu</td>\n",
       "      <td>/astro/armin/bhoomika/pantheon_data_folder/199...</td>\n",
       "      <td>jw03707-o126_t023_nircam_clear-f335m_i2d</td>\n",
       "      <td>2025-05-30T07:49:17.227</td>\n",
       "      <td>JWST</td>\n",
       "      <td>NIRCAM</td>\n",
       "      <td>F335M</td>\n",
       "      <td>0.000007</td>\n",
       "      <td>0.000016</td>\n",
       "      <td>0.000016</td>\n",
       "      <td>-0.000007</td>\n",
       "    </tr>\n",
       "    <tr>\n",
       "      <th>784</th>\n",
       "      <td>1998bu</td>\n",
       "      <td>/astro/armin/bhoomika/pantheon_data_folder/199...</td>\n",
       "      <td>jw03707-o126_t023_nircam_clear-f300m_i2d</td>\n",
       "      <td>2025-05-30T10:50:58.732</td>\n",
       "      <td>JWST</td>\n",
       "      <td>NIRCAM</td>\n",
       "      <td>F300M</td>\n",
       "      <td>0.000007</td>\n",
       "      <td>0.000016</td>\n",
       "      <td>0.000016</td>\n",
       "      <td>-0.000007</td>\n",
       "    </tr>\n",
       "    <tr>\n",
       "      <th>...</th>\n",
       "      <td>...</td>\n",
       "      <td>...</td>\n",
       "      <td>...</td>\n",
       "      <td>...</td>\n",
       "      <td>...</td>\n",
       "      <td>...</td>\n",
       "      <td>...</td>\n",
       "      <td>...</td>\n",
       "      <td>...</td>\n",
       "      <td>...</td>\n",
       "      <td>...</td>\n",
       "    </tr>\n",
       "    <tr>\n",
       "      <th>37758</th>\n",
       "      <td>2009Y</td>\n",
       "      <td>/astro/armin/bhoomika/pantheon_data_folder/200...</td>\n",
       "      <td>jw02064-o013_t007_miri_f1500w-sub256_i2d</td>\n",
       "      <td>2025-03-21T05:28:04.646</td>\n",
       "      <td>JWST</td>\n",
       "      <td>MIRI</td>\n",
       "      <td>F1500W</td>\n",
       "      <td>0.000011</td>\n",
       "      <td>0.000029</td>\n",
       "      <td>0.000029</td>\n",
       "      <td>-0.000011</td>\n",
       "    </tr>\n",
       "    <tr>\n",
       "      <th>37759</th>\n",
       "      <td>2009Y</td>\n",
       "      <td>/astro/armin/bhoomika/pantheon_data_folder/200...</td>\n",
       "      <td>jw01670-c1008_t003_miri_ch1-medium_s3d</td>\n",
       "      <td>2025-06-13T05:15:11.921</td>\n",
       "      <td>JWST</td>\n",
       "      <td>MIRI</td>\n",
       "      <td>NaN</td>\n",
       "      <td>-0.000036</td>\n",
       "      <td>0.000000</td>\n",
       "      <td>0.000000</td>\n",
       "      <td>0.000036</td>\n",
       "    </tr>\n",
       "    <tr>\n",
       "      <th>37760</th>\n",
       "      <td>2009Y</td>\n",
       "      <td>/astro/armin/bhoomika/pantheon_data_folder/200...</td>\n",
       "      <td>jw01670-o010_t010_miri_f1500w-sub256_i2d</td>\n",
       "      <td>2025-06-13T04:18:40.192</td>\n",
       "      <td>JWST</td>\n",
       "      <td>MIRI</td>\n",
       "      <td>F1500W</td>\n",
       "      <td>-0.000010</td>\n",
       "      <td>-0.000029</td>\n",
       "      <td>-0.000029</td>\n",
       "      <td>0.000010</td>\n",
       "    </tr>\n",
       "    <tr>\n",
       "      <th>37761</th>\n",
       "      <td>2009Y</td>\n",
       "      <td>/astro/armin/bhoomika/pantheon_data_folder/200...</td>\n",
       "      <td>jw02064-o063_t007_miri_f1800w-sub256_i2d</td>\n",
       "      <td>2025-03-21T05:28:45.635</td>\n",
       "      <td>JWST</td>\n",
       "      <td>MIRI</td>\n",
       "      <td>F1800W</td>\n",
       "      <td>-0.000012</td>\n",
       "      <td>-0.000028</td>\n",
       "      <td>-0.000028</td>\n",
       "      <td>0.000012</td>\n",
       "    </tr>\n",
       "    <tr>\n",
       "      <th>37762</th>\n",
       "      <td>2009Y</td>\n",
       "      <td>/astro/armin/bhoomika/pantheon_data_folder/200...</td>\n",
       "      <td>jw02064-o063_t007_miri_f560w-sub256_i2d</td>\n",
       "      <td>2025-03-21T05:28:42.679</td>\n",
       "      <td>JWST</td>\n",
       "      <td>MIRI</td>\n",
       "      <td>F560W</td>\n",
       "      <td>-0.000012</td>\n",
       "      <td>-0.000028</td>\n",
       "      <td>-0.000028</td>\n",
       "      <td>0.000012</td>\n",
       "    </tr>\n",
       "  </tbody>\n",
       "</table>\n",
       "<p>392 rows × 11 columns</p>\n",
       "</div>"
      ],
      "text/plain": [
       "         SNID                                           filename  \\\n",
       "780    1998bu  /astro/armin/bhoomika/pantheon_data_folder/199...   \n",
       "781    1998bu  /astro/armin/bhoomika/pantheon_data_folder/199...   \n",
       "782    1998bu  /astro/armin/bhoomika/pantheon_data_folder/199...   \n",
       "783    1998bu  /astro/armin/bhoomika/pantheon_data_folder/199...   \n",
       "784    1998bu  /astro/armin/bhoomika/pantheon_data_folder/199...   \n",
       "...       ...                                                ...   \n",
       "37758   2009Y  /astro/armin/bhoomika/pantheon_data_folder/200...   \n",
       "37759   2009Y  /astro/armin/bhoomika/pantheon_data_folder/200...   \n",
       "37760   2009Y  /astro/armin/bhoomika/pantheon_data_folder/200...   \n",
       "37761   2009Y  /astro/armin/bhoomika/pantheon_data_folder/200...   \n",
       "37762   2009Y  /astro/armin/bhoomika/pantheon_data_folder/200...   \n",
       "\n",
       "                                       File_key                     Date  \\\n",
       "780    jw03707-o126_t023_nircam_clear-f187n_i2d  2025-05-30T10:56:06.069   \n",
       "781           jw03707-o125_t023_miri_f2100w_i2d  2025-05-30T10:50:24.076   \n",
       "782          jw03707-c1108_t023_miri_f2100w_i2d  2025-05-08T03:54:17.065   \n",
       "783    jw03707-o126_t023_nircam_clear-f335m_i2d  2025-05-30T07:49:17.227   \n",
       "784    jw03707-o126_t023_nircam_clear-f300m_i2d  2025-05-30T10:50:58.732   \n",
       "...                                         ...                      ...   \n",
       "37758  jw02064-o013_t007_miri_f1500w-sub256_i2d  2025-03-21T05:28:04.646   \n",
       "37759    jw01670-c1008_t003_miri_ch1-medium_s3d  2025-06-13T05:15:11.921   \n",
       "37760  jw01670-o010_t010_miri_f1500w-sub256_i2d  2025-06-13T04:18:40.192   \n",
       "37761  jw02064-o063_t007_miri_f1800w-sub256_i2d  2025-03-21T05:28:45.635   \n",
       "37762   jw02064-o063_t007_miri_f560w-sub256_i2d  2025-03-21T05:28:42.679   \n",
       "\n",
       "      Telescope Instrument  Filter     CD1_1     CD1_2     CD2_1     CD2_2  \n",
       "780        JWST     NIRCAM   F187N  0.000004  0.000008  0.000008 -0.000004  \n",
       "781        JWST       MIRI  F2100W  0.000015  0.000027  0.000027 -0.000015  \n",
       "782        JWST       MIRI  F2100W  0.000015  0.000027  0.000027 -0.000015  \n",
       "783        JWST     NIRCAM   F335M  0.000007  0.000016  0.000016 -0.000007  \n",
       "784        JWST     NIRCAM   F300M  0.000007  0.000016  0.000016 -0.000007  \n",
       "...         ...        ...     ...       ...       ...       ...       ...  \n",
       "37758      JWST       MIRI  F1500W  0.000011  0.000029  0.000029 -0.000011  \n",
       "37759      JWST       MIRI     NaN -0.000036  0.000000  0.000000  0.000036  \n",
       "37760      JWST       MIRI  F1500W -0.000010 -0.000029 -0.000029  0.000010  \n",
       "37761      JWST       MIRI  F1800W -0.000012 -0.000028 -0.000028  0.000012  \n",
       "37762      JWST       MIRI   F560W -0.000012 -0.000028 -0.000028  0.000012  \n",
       "\n",
       "[392 rows x 11 columns]"
      ]
     },
     "execution_count": 8,
     "metadata": {},
     "output_type": "execute_result"
    }
   ],
   "source": [
    "fits_summary_jw\n"
   ]
  },
  {
   "cell_type": "code",
   "execution_count": 44,
   "id": "20f52fb9",
   "metadata": {},
   "outputs": [],
   "source": [
    "for i in range(len(file_key)):\n",
    "    if file_key[i].startswith('hst_'):\n",
    "        if sub_string_sky in file_key[i]:\n",
    "            fits_summary = fits_summary.drop(i)\n",
    "        elif sub_string_NIC in file_key[i]:\n",
    "            fits_summary = fits_summary.drop(i)\n",
    "        elif filter[i] == 'detection':\n",
    "            fits_summary = fits_summary.drop(i)\n",
    "    else:\n",
    "        fits_summary = fits_summary.drop(i)"
   ]
  },
  {
   "cell_type": "code",
   "execution_count": 45,
   "id": "97bd2684",
   "metadata": {},
   "outputs": [
    {
     "name": "stdout",
     "output_type": "stream",
     "text": [
      "Total Number of Files: 6106\n",
      "Total Number of Supernova: 260\n"
     ]
    }
   ],
   "source": [
    "print('Total Number of Files: {}'.format(len(fits_summary)))\n",
    "print('Total Number of Supernova: {}'.format(len(fits_summary['SNID'].unique())))\n"
   ]
  },
  {
   "cell_type": "code",
   "execution_count": 46,
   "id": "79f7bde9",
   "metadata": {},
   "outputs": [],
   "source": [
    "fits_summary.to_csv(\"data_files/fits_cleaned_HST_data.csv\", index=False)"
   ]
  }
 ],
 "metadata": {
  "kernelspec": {
   "display_name": "pantheon-312",
   "language": "python",
   "name": "python3"
  },
  "language_info": {
   "codemirror_mode": {
    "name": "ipython",
    "version": 3
   },
   "file_extension": ".py",
   "mimetype": "text/x-python",
   "name": "python",
   "nbconvert_exporter": "python",
   "pygments_lexer": "ipython3",
   "version": "3.12.11"
  }
 },
 "nbformat": 4,
 "nbformat_minor": 5
}
