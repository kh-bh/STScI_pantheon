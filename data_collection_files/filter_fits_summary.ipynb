{
 "cells": [
  {
   "cell_type": "markdown",
   "id": "464155bb",
   "metadata": {},
   "source": [
    "## Filters the \"fits_summary_combined.csv\""
   ]
  },
  {
   "cell_type": "markdown",
   "id": "b8b4ddbe",
   "metadata": {},
   "source": [
    "#### filter out any file with NIC and doesnt start with hst_* (plus remove hst_skycell)"
   ]
  },
  {
   "cell_type": "code",
   "execution_count": 21,
   "id": "584c7c04",
   "metadata": {},
   "outputs": [],
   "source": [
    "import pandas as pd "
   ]
  },
  {
   "cell_type": "code",
   "execution_count": 22,
   "id": "d8ec9a8c",
   "metadata": {},
   "outputs": [
    {
     "name": "stdout",
     "output_type": "stream",
     "text": [
      "17664\n"
     ]
    }
   ],
   "source": [
    "fits_summary = pd.read_csv('data_files/fits_summary_combined.csv')\n",
    "print(len(fits_summary))"
   ]
  },
  {
   "cell_type": "code",
   "execution_count": 23,
   "id": "56457bfc",
   "metadata": {},
   "outputs": [],
   "source": [
    "fits_summary = fits_summary.drop(fits_summary.columns[0], axis=1)"
   ]
  },
  {
   "cell_type": "code",
   "execution_count": 24,
   "id": "84bb9eb7",
   "metadata": {},
   "outputs": [],
   "source": [
    "file_key = fits_summary['File_key']\n",
    "filter = fits_summary['Filter']"
   ]
  },
  {
   "cell_type": "code",
   "execution_count": 25,
   "id": "abc0837d",
   "metadata": {},
   "outputs": [],
   "source": [
    "sub_string_NIC = 'NIC'\n",
    "sub_string_sky = 'hst_skycell'"
   ]
  },
  {
   "cell_type": "code",
   "execution_count": 26,
   "id": "20f52fb9",
   "metadata": {},
   "outputs": [],
   "source": [
    "for i in range(len(file_key)):\n",
    "    if file_key[i].startswith('hst_'):\n",
    "        if sub_string_sky in file_key[i]:\n",
    "            fits_summary = fits_summary.drop(i)\n",
    "        elif sub_string_NIC in file_key[i]:\n",
    "            fits_summary = fits_summary.drop(i)\n",
    "        elif filter[i] == 'detection':\n",
    "            fits_summary = fits_summary.drop(i)\n",
    "    else:\n",
    "        fits_summary = fits_summary.drop(i)"
   ]
  },
  {
   "cell_type": "code",
   "execution_count": 31,
   "id": "97bd2684",
   "metadata": {},
   "outputs": [
    {
     "name": "stdout",
     "output_type": "stream",
     "text": [
      "Total Number of Files: 6106\n",
      "Total Number of Supernova: 260\n"
     ]
    }
   ],
   "source": [
    "print('Total Number of Files: {}'.format(len(fits_summary)))\n",
    "print('Total Number of Supernova: {}'.format(len(fits_summary['SNID'].unique())))\n"
   ]
  },
  {
   "cell_type": "code",
   "execution_count": 32,
   "id": "79f7bde9",
   "metadata": {},
   "outputs": [],
   "source": [
    "fits_summary.to_csv(\"data_files/fits_cleaned_HST_data.csv\", index=False)"
   ]
  }
 ],
 "metadata": {
  "kernelspec": {
   "display_name": "Python 3",
   "language": "python",
   "name": "python3"
  },
  "language_info": {
   "codemirror_mode": {
    "name": "ipython",
    "version": 3
   },
   "file_extension": ".py",
   "mimetype": "text/x-python",
   "name": "python",
   "nbconvert_exporter": "python",
   "pygments_lexer": "ipython3",
   "version": "3.11.8"
  }
 },
 "nbformat": 4,
 "nbformat_minor": 5
}
