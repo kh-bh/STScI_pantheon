{
 "cells": [
  {
   "cell_type": "markdown",
   "id": "905d2e7b",
   "metadata": {},
   "source": [
    "## Data Collection Code from MAST"
   ]
  },
  {
   "cell_type": "code",
   "execution_count": 24,
   "id": "2cab58d8",
   "metadata": {},
   "outputs": [],
   "source": [
    "import sys,os,glob\n",
    "from astropy.io import fits\n",
    "from astropy.table import Table\n",
    "from astropy.nddata import extract_array\n",
    "from astropy.coordinates import SkyCoord\n",
    "from astropy import wcs\n",
    "from astropy.wcs.utils import skycoord_to_pixel\n",
    "from astropy import units as u\n",
    "import numpy as np\n",
    "import matplotlib.pyplot as plt\n",
    "from astroquery.mast import Observations\n",
    "from astropy.visualization import (simple_norm,LinearStretch)\n",
    "import pandas as pd"
   ]
  },
  {
   "cell_type": "code",
   "execution_count": 25,
   "id": "587fa7b2",
   "metadata": {},
   "outputs": [
    {
     "name": "stdout",
     "output_type": "stream",
     "text": [
      "0    int64\n",
      "dtype: object\n"
     ]
    }
   ],
   "source": [
    "#Open and read the unmatched pantheon dataset\n",
    "df = pd.read_csv('unmatched_pantheon.csv')\n",
    "vp = pd.read_csv('valid_points_index_list.csv')\n",
    "print(vp.dtypes)"
   ]
  },
  {
   "cell_type": "code",
   "execution_count": 26,
   "id": "209b3535",
   "metadata": {},
   "outputs": [
    {
     "name": "stdout",
     "output_type": "stream",
     "text": [
      "211.65662 -5.43942\n",
      "19\n",
      "intentType obs_collection provenance_name ...   objID1       distance     \n",
      "---------- -------------- --------------- ... --------- ------------------\n",
      "   science           JWST         CALJWST ... 759738914                0.0\n",
      "   science           JWST         CALJWST ... 760489567                0.0\n",
      "   science           JWST         CALJWST ... 760557180                0.0\n",
      "   science            HST         HAP-SVM ... 653163140                0.0\n",
      "   science            HST         HAP-SVM ... 657100566                0.0\n",
      "   science            HST         HAP-SVM ... 658287973                0.0\n",
      "   science            HST         HAP-SVM ... 658460871                0.0\n",
      "   science            HST         HAP-SVM ... 658925460                0.0\n",
      "   science            HST         HAP-MVM ... 662996461 12.680915717477268\n",
      "   science            HST         HAP-MVM ... 662996467 12.760854502984333\n",
      "   science            HST         HAP-MVM ... 663002042                0.0\n",
      "   science            HST          CALWF3 ... 754829999                0.0\n",
      "   science            HST          CALWF3 ... 754835139                0.0\n",
      "   science            HST          CALWF3 ... 758908784                0.0\n",
      "   science            HST          CALWF3 ... 758930624                0.0\n",
      "   science            HST          CALWF3 ... 769204663                0.0\n",
      "   science            HST         HAP-SVM ... 654593532                0.0\n",
      "   science            HST         HAP-MVM ... 663002041                0.0\n",
      "   science            HST          CALWF3 ... 765231171                0.0\n"
     ]
    },
    {
     "name": "stderr",
     "output_type": "stream",
     "text": [
      "WARNING: InputWarning: Coordinate string is being interpreted as an ICRS coordinate provided in degrees. [astroquery.utils.commons]\n"
     ]
    }
   ],
   "source": [
    "i = 12\n",
    "print(df['resolved_coord'][i]) \n",
    "\n",
    "obs_table = Observations.query_criteria(coordinates=df['resolved_coord'][i],\n",
    "                                        radius=\"0.006 deg\",\n",
    "                                        intentType = 'science',\n",
    "                                        filters = ['F1*'],\n",
    "                                        #calibration = 1,\n",
    "                                        obs_collection=['HST', 'JWST'])\n",
    "obs_table = obs_table[obs_table['calib_level']==3]\n",
    "print(len(obs_table))\n",
    "print(obs_table)"
   ]
  },
  {
   "cell_type": "code",
   "execution_count": 27,
   "id": "96bbb44c",
   "metadata": {},
   "outputs": [],
   "source": [
    "#Creating a function that will create a folder for the data (named the resolved coordinate) and keep the query there\n",
    "\n",
    "def save_images_supernova(resolved_coord_index):\n",
    "    \"\"\"\n",
    "    If there are images for the supernovae in JWST or HST at the resolved query, create a folder and keep the data there\n",
    "    Parameters:\n",
    "        resolved_coord_index: integer, the index number of the query\n",
    "    Returns:\n",
    "        Folder of Data at requested file path (pantheon_data_folder/{resolved coord})\n",
    "    \"\"\"\n",
    "    print(resolved_coord_index, df['resolved_coord'][resolved_coord_index])\n",
    "\n",
    "    #try the the query, if a error is thrown then print \"No Data Points\" and \"skip\" this data point, else make folder and store data\n",
    "    try:\n",
    "        obs_table = Observations.query_criteria(coordinates=df['resolved_coord'][resolved_coord_index],\n",
    "                                            radius=\"0.006 deg\",\n",
    "                                            intentType = 'science',\n",
    "                                            filters = ['F1*'],\n",
    "                                            obs_collection=['HST', 'JWST'])\n",
    "        obs_table = obs_table[obs_table['calib_level']==3]\n",
    "        data_products = Observations.get_product_list(obs_table)\n",
    "    except: \n",
    "        print(\"No Data Points :(\")\n",
    "        exit\n",
    "    else:\n",
    "        print(\"Has Data Points!\")\n",
    "        folder_path = \"pantheon_data_folder/{}\".format(df['SNID'][resolved_coord_index])\n",
    "        os.makedirs(folder_path, exist_ok=True)\n",
    "        manifest = Observations.download_products(data_products, download_dir=folder_path, extension=['fits'])\n",
    "        print(manifest)"
   ]
  },
  {
   "cell_type": "code",
   "execution_count": 28,
   "id": "518cafbe",
   "metadata": {},
   "outputs": [
    {
     "name": "stdout",
     "output_type": "stream",
     "text": [
      "12 211.65662 -5.43942\n",
      "Has Data Points!\n",
      "INFO: 5846 of 6876 products were duplicates. Only returning 1030 unique product(s). [astroquery.mast.utils]\n",
      "Downloading URL https://mast.stsci.edu/api/v0.1/Download/file?uri=mast:HST/product/hst_15145_51_wfc3_ir_f160w_idgg51_drz.fits to pantheon_data_folder/2002cr/mastDownload/HST/hst_15145_51_wfc3_ir_f160w_idgg51/hst_15145_51_wfc3_ir_f160w_idgg51_drz.fits ... [Done]\n",
      "Downloading URL https://mast.stsci.edu/api/v0.1/Download/file?uri=mast:HST/product/hst_15145_51_wfc3_ir_f160w_idgg51wp_drz.fits to pantheon_data_folder/2002cr/mastDownload/HST/hst_15145_51_wfc3_ir_f160w_idgg51wp/hst_15145_51_wfc3_ir_f160w_idgg51wp_drz.fits ... [Done]\n",
      "Downloading URL https://mast.stsci.edu/api/v0.1/Download/file?uri=mast:HST/product/hst_15145_51_wfc3_ir_f160w_idgg51wp_flt.fits to pantheon_data_folder/2002cr/mastDownload/HST/hst_15145_51_wfc3_ir_f160w_idgg51wp/hst_15145_51_wfc3_ir_f160w_idgg51wp_flt.fits ... [Done]\n",
      "Downloading URL https://mast.stsci.edu/api/v0.1/Download/file?uri=mast:HST/product/hst_15145_51_wfc3_ir_f160w_idgg51wp_hlet.fits to pantheon_data_folder/2002cr/mastDownload/HST/hst_15145_51_wfc3_ir_f160w_idgg51wp/hst_15145_51_wfc3_ir_f160w_idgg51wp_hlet.fits ... [Done]\n",
      "Downloading URL https://mast.stsci.edu/api/v0.1/Download/file?uri=mast:HST/product/hst_15145_51_wfc3_ir_f160w_idgg51wu_drz.fits to pantheon_data_folder/2002cr/mastDownload/HST/hst_15145_51_wfc3_ir_f160w_idgg51wu/hst_15145_51_wfc3_ir_f160w_idgg51wu_drz.fits ... [Done]\n",
      "Downloading URL https://mast.stsci.edu/api/v0.1/Download/file?uri=mast:HST/product/hst_15145_51_wfc3_ir_f160w_idgg51wu_flt.fits to pantheon_data_folder/2002cr/mastDownload/HST/hst_15145_51_wfc3_ir_f160w_idgg51wu/hst_15145_51_wfc3_ir_f160w_idgg51wu_flt.fits ... [Done]\n",
      "Downloading URL https://mast.stsci.edu/api/v0.1/Download/file?uri=mast:HST/product/hst_15145_51_wfc3_ir_f160w_idgg51wu_hlet.fits to pantheon_data_folder/2002cr/mastDownload/HST/hst_15145_51_wfc3_ir_f160w_idgg51wu/hst_15145_51_wfc3_ir_f160w_idgg51wu_hlet.fits ... [Done]\n",
      "Downloading URL https://mast.stsci.edu/api/v0.1/Download/file?uri=mast:HST/product/hst_15145_51_wfc3_ir_f160w_idgg51wx_drz.fits to pantheon_data_folder/2002cr/mastDownload/HST/hst_15145_51_wfc3_ir_f160w_idgg51wx/hst_15145_51_wfc3_ir_f160w_idgg51wx_drz.fits ... [Done]\n",
      "Downloading URL https://mast.stsci.edu/api/v0.1/Download/file?uri=mast:HST/product/hst_15145_51_wfc3_ir_f160w_idgg51wx_flt.fits to pantheon_data_folder/2002cr/mastDownload/HST/hst_15145_51_wfc3_ir_f160w_idgg51wx/hst_15145_51_wfc3_ir_f160w_idgg51wx_flt.fits ... [Done]\n",
      "Downloading URL https://mast.stsci.edu/api/v0.1/Download/file?uri=mast:HST/product/hst_15145_51_wfc3_ir_f160w_idgg51wx_hlet.fits to pantheon_data_folder/2002cr/mastDownload/HST/hst_15145_51_wfc3_ir_f160w_idgg51wx/hst_15145_51_wfc3_ir_f160w_idgg51wx_hlet.fits ... [Done]\n",
      "Downloading URL https://mast.stsci.edu/api/v0.1/Download/file?uri=mast:HST/product/hst_15145_51_wfc3_ir_f160w_idgg51wz_drz.fits to pantheon_data_folder/2002cr/mastDownload/HST/hst_15145_51_wfc3_ir_f160w_idgg51wz/hst_15145_51_wfc3_ir_f160w_idgg51wz_drz.fits ... [Done]\n",
      "Downloading URL https://mast.stsci.edu/api/v0.1/Download/file?uri=mast:HST/product/hst_15145_51_wfc3_ir_f160w_idgg51wz_flt.fits to pantheon_data_folder/2002cr/mastDownload/HST/hst_15145_51_wfc3_ir_f160w_idgg51wz/hst_15145_51_wfc3_ir_f160w_idgg51wz_flt.fits ... [Done]\n",
      "Downloading URL https://mast.stsci.edu/api/v0.1/Download/file?uri=mast:HST/product/hst_15145_51_wfc3_ir_f160w_idgg51wz_hlet.fits to pantheon_data_folder/2002cr/mastDownload/HST/hst_15145_51_wfc3_ir_f160w_idgg51wz/hst_15145_51_wfc3_ir_f160w_idgg51wz_hlet.fits ... [Done]\n",
      "Downloading URL https://mast.stsci.edu/api/v0.1/Download/file?uri=mast:HST/product/hst_15145_51_wfc3_ir_total_idgg51_drz.fits to pantheon_data_folder/2002cr/mastDownload/HST/hst_15145_51_wfc3_ir_total_idgg51/hst_15145_51_wfc3_ir_total_idgg51_drz.fits ... [Done]\n",
      "Downloading URL https://mast.stsci.edu/api/v0.1/Download/file?uri=mast:HST/product/hst_15145_53_wfc3_ir_f160w_idgg53_drz.fits to pantheon_data_folder/2002cr/mastDownload/HST/hst_15145_53_wfc3_ir_f160w_idgg53/hst_15145_53_wfc3_ir_f160w_idgg53_drz.fits ... [Done]\n",
      "Downloading URL https://mast.stsci.edu/api/v0.1/Download/file?uri=mast:HST/product/hst_15145_53_wfc3_ir_f160w_idgg53se_drz.fits to pantheon_data_folder/2002cr/mastDownload/HST/hst_15145_53_wfc3_ir_f160w_idgg53se/hst_15145_53_wfc3_ir_f160w_idgg53se_drz.fits ... [Done]\n",
      "Downloading URL https://mast.stsci.edu/api/v0.1/Download/file?uri=mast:HST/product/hst_15145_53_wfc3_ir_f160w_idgg53se_flt.fits to pantheon_data_folder/2002cr/mastDownload/HST/hst_15145_53_wfc3_ir_f160w_idgg53se/hst_15145_53_wfc3_ir_f160w_idgg53se_flt.fits ... [Done]\n",
      "Downloading URL https://mast.stsci.edu/api/v0.1/Download/file?uri=mast:HST/product/hst_15145_53_wfc3_ir_f160w_idgg53se_hlet.fits to pantheon_data_folder/2002cr/mastDownload/HST/hst_15145_53_wfc3_ir_f160w_idgg53se/hst_15145_53_wfc3_ir_f160w_idgg53se_hlet.fits ... [Done]\n",
      "Downloading URL https://mast.stsci.edu/api/v0.1/Download/file?uri=mast:HST/product/hst_15145_53_wfc3_ir_f160w_idgg53sg_drz.fits to pantheon_data_folder/2002cr/mastDownload/HST/hst_15145_53_wfc3_ir_f160w_idgg53sg/hst_15145_53_wfc3_ir_f160w_idgg53sg_drz.fits ... [Done]\n",
      "Downloading URL https://mast.stsci.edu/api/v0.1/Download/file?uri=mast:HST/product/hst_15145_53_wfc3_ir_f160w_idgg53sg_flt.fits to pantheon_data_folder/2002cr/mastDownload/HST/hst_15145_53_wfc3_ir_f160w_idgg53sg/hst_15145_53_wfc3_ir_f160w_idgg53sg_flt.fits ... [Done]\n",
      "Downloading URL https://mast.stsci.edu/api/v0.1/Download/file?uri=mast:HST/product/hst_15145_53_wfc3_ir_f160w_idgg53sg_hlet.fits to pantheon_data_folder/2002cr/mastDownload/HST/hst_15145_53_wfc3_ir_f160w_idgg53sg/hst_15145_53_wfc3_ir_f160w_idgg53sg_hlet.fits ... [Done]\n",
      "Downloading URL https://mast.stsci.edu/api/v0.1/Download/file?uri=mast:HST/product/hst_15145_53_wfc3_ir_f160w_idgg53si_drz.fits to pantheon_data_folder/2002cr/mastDownload/HST/hst_15145_53_wfc3_ir_f160w_idgg53si/hst_15145_53_wfc3_ir_f160w_idgg53si_drz.fits ... [Done]\n",
      "Downloading URL https://mast.stsci.edu/api/v0.1/Download/file?uri=mast:HST/product/hst_15145_53_wfc3_ir_f160w_idgg53si_flt.fits to pantheon_data_folder/2002cr/mastDownload/HST/hst_15145_53_wfc3_ir_f160w_idgg53si/hst_15145_53_wfc3_ir_f160w_idgg53si_flt.fits ... [Done]\n",
      "Downloading URL https://mast.stsci.edu/api/v0.1/Download/file?uri=mast:HST/product/hst_15145_53_wfc3_ir_f160w_idgg53si_hlet.fits to pantheon_data_folder/2002cr/mastDownload/HST/hst_15145_53_wfc3_ir_f160w_idgg53si/hst_15145_53_wfc3_ir_f160w_idgg53si_hlet.fits ... [Done]\n",
      "Downloading URL https://mast.stsci.edu/api/v0.1/Download/file?uri=mast:HST/product/hst_15145_53_wfc3_ir_f160w_idgg53sj_drz.fits to pantheon_data_folder/2002cr/mastDownload/HST/hst_15145_53_wfc3_ir_f160w_idgg53sj/hst_15145_53_wfc3_ir_f160w_idgg53sj_drz.fits ... [Done]\n",
      "Downloading URL https://mast.stsci.edu/api/v0.1/Download/file?uri=mast:HST/product/hst_15145_53_wfc3_ir_f160w_idgg53sj_flt.fits to pantheon_data_folder/2002cr/mastDownload/HST/hst_15145_53_wfc3_ir_f160w_idgg53sj/hst_15145_53_wfc3_ir_f160w_idgg53sj_flt.fits ... [Done]\n",
      "Downloading URL https://mast.stsci.edu/api/v0.1/Download/file?uri=mast:HST/product/hst_15145_53_wfc3_ir_f160w_idgg53sj_hlet.fits to pantheon_data_folder/2002cr/mastDownload/HST/hst_15145_53_wfc3_ir_f160w_idgg53sj/hst_15145_53_wfc3_ir_f160w_idgg53sj_hlet.fits ... [Done]\n",
      "Downloading URL https://mast.stsci.edu/api/v0.1/Download/file?uri=mast:HST/product/hst_15145_53_wfc3_ir_total_idgg53_drz.fits to pantheon_data_folder/2002cr/mastDownload/HST/hst_15145_53_wfc3_ir_total_idgg53/hst_15145_53_wfc3_ir_total_idgg53_drz.fits ... [Done]\n",
      "Downloading URL https://mast.stsci.edu/api/v0.1/Download/file?uri=mast:HST/product/hst_15145_55_wfc3_ir_f160w_idgg55_drz.fits to pantheon_data_folder/2002cr/mastDownload/HST/hst_15145_55_wfc3_ir_f160w_idgg55/hst_15145_55_wfc3_ir_f160w_idgg55_drz.fits ... [Done]\n",
      "Downloading URL https://mast.stsci.edu/api/v0.1/Download/file?uri=mast:HST/product/hst_15145_55_wfc3_ir_f160w_idgg55kt_drz.fits to pantheon_data_folder/2002cr/mastDownload/HST/hst_15145_55_wfc3_ir_f160w_idgg55kt/hst_15145_55_wfc3_ir_f160w_idgg55kt_drz.fits ... [Done]\n",
      "Downloading URL https://mast.stsci.edu/api/v0.1/Download/file?uri=mast:HST/product/hst_15145_55_wfc3_ir_f160w_idgg55kt_flt.fits to pantheon_data_folder/2002cr/mastDownload/HST/hst_15145_55_wfc3_ir_f160w_idgg55kt/hst_15145_55_wfc3_ir_f160w_idgg55kt_flt.fits ... [Done]\n",
      "Downloading URL https://mast.stsci.edu/api/v0.1/Download/file?uri=mast:HST/product/hst_15145_55_wfc3_ir_f160w_idgg55kt_hlet.fits to pantheon_data_folder/2002cr/mastDownload/HST/hst_15145_55_wfc3_ir_f160w_idgg55kt/hst_15145_55_wfc3_ir_f160w_idgg55kt_hlet.fits ... [Done]\n",
      "Downloading URL https://mast.stsci.edu/api/v0.1/Download/file?uri=mast:HST/product/hst_15145_55_wfc3_ir_f160w_idgg55kv_drz.fits to pantheon_data_folder/2002cr/mastDownload/HST/hst_15145_55_wfc3_ir_f160w_idgg55kv/hst_15145_55_wfc3_ir_f160w_idgg55kv_drz.fits ... [Done]\n",
      "Downloading URL https://mast.stsci.edu/api/v0.1/Download/file?uri=mast:HST/product/hst_15145_55_wfc3_ir_f160w_idgg55kv_flt.fits to pantheon_data_folder/2002cr/mastDownload/HST/hst_15145_55_wfc3_ir_f160w_idgg55kv/hst_15145_55_wfc3_ir_f160w_idgg55kv_flt.fits ... [Done]\n",
      "Downloading URL https://mast.stsci.edu/api/v0.1/Download/file?uri=mast:HST/product/hst_15145_55_wfc3_ir_f160w_idgg55kv_hlet.fits to pantheon_data_folder/2002cr/mastDownload/HST/hst_15145_55_wfc3_ir_f160w_idgg55kv/hst_15145_55_wfc3_ir_f160w_idgg55kv_hlet.fits ... [Done]\n",
      "Downloading URL https://mast.stsci.edu/api/v0.1/Download/file?uri=mast:HST/product/hst_15145_55_wfc3_ir_f160w_idgg55kx_drz.fits to pantheon_data_folder/2002cr/mastDownload/HST/hst_15145_55_wfc3_ir_f160w_idgg55kx/hst_15145_55_wfc3_ir_f160w_idgg55kx_drz.fits ... [Done]\n",
      "Downloading URL https://mast.stsci.edu/api/v0.1/Download/file?uri=mast:HST/product/hst_15145_55_wfc3_ir_f160w_idgg55kx_flt.fits to pantheon_data_folder/2002cr/mastDownload/HST/hst_15145_55_wfc3_ir_f160w_idgg55kx/hst_15145_55_wfc3_ir_f160w_idgg55kx_flt.fits ... [Done]\n",
      "Downloading URL https://mast.stsci.edu/api/v0.1/Download/file?uri=mast:HST/product/hst_15145_55_wfc3_ir_f160w_idgg55kx_hlet.fits to pantheon_data_folder/2002cr/mastDownload/HST/hst_15145_55_wfc3_ir_f160w_idgg55kx/hst_15145_55_wfc3_ir_f160w_idgg55kx_hlet.fits ... [Done]\n",
      "Downloading URL https://mast.stsci.edu/api/v0.1/Download/file?uri=mast:HST/product/hst_15145_55_wfc3_ir_f160w_idgg55ky_drz.fits to pantheon_data_folder/2002cr/mastDownload/HST/hst_15145_55_wfc3_ir_f160w_idgg55ky/hst_15145_55_wfc3_ir_f160w_idgg55ky_drz.fits ... [Done]\n",
      "Downloading URL https://mast.stsci.edu/api/v0.1/Download/file?uri=mast:HST/product/hst_15145_55_wfc3_ir_f160w_idgg55ky_flt.fits to pantheon_data_folder/2002cr/mastDownload/HST/hst_15145_55_wfc3_ir_f160w_idgg55ky/hst_15145_55_wfc3_ir_f160w_idgg55ky_flt.fits ... [Done]\n",
      "Downloading URL https://mast.stsci.edu/api/v0.1/Download/file?uri=mast:HST/product/hst_15145_55_wfc3_ir_f160w_idgg55ky_hlet.fits to pantheon_data_folder/2002cr/mastDownload/HST/hst_15145_55_wfc3_ir_f160w_idgg55ky/hst_15145_55_wfc3_ir_f160w_idgg55ky_hlet.fits ... [Done]\n",
      "Downloading URL https://mast.stsci.edu/api/v0.1/Download/file?uri=mast:HST/product/hst_15145_55_wfc3_ir_total_idgg55_drz.fits to pantheon_data_folder/2002cr/mastDownload/HST/hst_15145_55_wfc3_ir_total_idgg55/hst_15145_55_wfc3_ir_total_idgg55_drz.fits ... [Done]\n",
      "Downloading URL https://mast.stsci.edu/api/v0.1/Download/file?uri=mast:HST/product/hst_15145_57_wfc3_ir_f160w_idgg57_drz.fits to pantheon_data_folder/2002cr/mastDownload/HST/hst_15145_57_wfc3_ir_f160w_idgg57/hst_15145_57_wfc3_ir_f160w_idgg57_drz.fits ... [Done]\n",
      "Downloading URL https://mast.stsci.edu/api/v0.1/Download/file?uri=mast:HST/product/hst_15145_57_wfc3_ir_f160w_idgg57l0_drz.fits to pantheon_data_folder/2002cr/mastDownload/HST/hst_15145_57_wfc3_ir_f160w_idgg57l0/hst_15145_57_wfc3_ir_f160w_idgg57l0_drz.fits ... [Done]\n",
      "Downloading URL https://mast.stsci.edu/api/v0.1/Download/file?uri=mast:HST/product/hst_15145_57_wfc3_ir_f160w_idgg57l0_flt.fits to pantheon_data_folder/2002cr/mastDownload/HST/hst_15145_57_wfc3_ir_f160w_idgg57l0/hst_15145_57_wfc3_ir_f160w_idgg57l0_flt.fits ... [Done]\n",
      "Downloading URL https://mast.stsci.edu/api/v0.1/Download/file?uri=mast:HST/product/hst_15145_57_wfc3_ir_f160w_idgg57l0_hlet.fits to pantheon_data_folder/2002cr/mastDownload/HST/hst_15145_57_wfc3_ir_f160w_idgg57l0/hst_15145_57_wfc3_ir_f160w_idgg57l0_hlet.fits ... [Done]\n",
      "Downloading URL https://mast.stsci.edu/api/v0.1/Download/file?uri=mast:HST/product/hst_15145_57_wfc3_ir_f160w_idgg57l2_drz.fits to pantheon_data_folder/2002cr/mastDownload/HST/hst_15145_57_wfc3_ir_f160w_idgg57l2/hst_15145_57_wfc3_ir_f160w_idgg57l2_drz.fits ... [Done]\n",
      "Downloading URL https://mast.stsci.edu/api/v0.1/Download/file?uri=mast:HST/product/hst_15145_57_wfc3_ir_f160w_idgg57l2_flt.fits to pantheon_data_folder/2002cr/mastDownload/HST/hst_15145_57_wfc3_ir_f160w_idgg57l2/hst_15145_57_wfc3_ir_f160w_idgg57l2_flt.fits ... [Done]\n",
      "Downloading URL https://mast.stsci.edu/api/v0.1/Download/file?uri=mast:HST/product/hst_15145_57_wfc3_ir_f160w_idgg57l2_hlet.fits to pantheon_data_folder/2002cr/mastDownload/HST/hst_15145_57_wfc3_ir_f160w_idgg57l2/hst_15145_57_wfc3_ir_f160w_idgg57l2_hlet.fits ... [Done]\n",
      "Downloading URL https://mast.stsci.edu/api/v0.1/Download/file?uri=mast:HST/product/hst_15145_57_wfc3_ir_f160w_idgg57l4_drz.fits to pantheon_data_folder/2002cr/mastDownload/HST/hst_15145_57_wfc3_ir_f160w_idgg57l4/hst_15145_57_wfc3_ir_f160w_idgg57l4_drz.fits ... [Done]\n",
      "Downloading URL https://mast.stsci.edu/api/v0.1/Download/file?uri=mast:HST/product/hst_15145_57_wfc3_ir_f160w_idgg57l4_flt.fits to pantheon_data_folder/2002cr/mastDownload/HST/hst_15145_57_wfc3_ir_f160w_idgg57l4/hst_15145_57_wfc3_ir_f160w_idgg57l4_flt.fits ... [Done]\n",
      "Downloading URL https://mast.stsci.edu/api/v0.1/Download/file?uri=mast:HST/product/hst_15145_57_wfc3_ir_f160w_idgg57l4_hlet.fits to pantheon_data_folder/2002cr/mastDownload/HST/hst_15145_57_wfc3_ir_f160w_idgg57l4/hst_15145_57_wfc3_ir_f160w_idgg57l4_hlet.fits ... [Done]\n",
      "Downloading URL https://mast.stsci.edu/api/v0.1/Download/file?uri=mast:HST/product/hst_15145_57_wfc3_ir_f160w_idgg57l5_drz.fits to pantheon_data_folder/2002cr/mastDownload/HST/hst_15145_57_wfc3_ir_f160w_idgg57l5/hst_15145_57_wfc3_ir_f160w_idgg57l5_drz.fits ... [Done]\n",
      "Downloading URL https://mast.stsci.edu/api/v0.1/Download/file?uri=mast:HST/product/hst_15145_57_wfc3_ir_f160w_idgg57l5_flt.fits to pantheon_data_folder/2002cr/mastDownload/HST/hst_15145_57_wfc3_ir_f160w_idgg57l5/hst_15145_57_wfc3_ir_f160w_idgg57l5_flt.fits ... [Done]\n",
      "Downloading URL https://mast.stsci.edu/api/v0.1/Download/file?uri=mast:HST/product/hst_15145_57_wfc3_ir_f160w_idgg57l5_hlet.fits to pantheon_data_folder/2002cr/mastDownload/HST/hst_15145_57_wfc3_ir_f160w_idgg57l5/hst_15145_57_wfc3_ir_f160w_idgg57l5_hlet.fits ... [Done]\n",
      "Downloading URL https://mast.stsci.edu/api/v0.1/Download/file?uri=mast:HST/product/hst_15145_57_wfc3_ir_total_idgg57_drz.fits to pantheon_data_folder/2002cr/mastDownload/HST/hst_15145_57_wfc3_ir_total_idgg57/hst_15145_57_wfc3_ir_total_idgg57_drz.fits ... [Done]\n",
      "Downloading URL https://mast.stsci.edu/api/v0.1/Download/file?uri=mast:HST/product/hst_15145_59_wfc3_ir_f160w_idgg59_drz.fits to pantheon_data_folder/2002cr/mastDownload/HST/hst_15145_59_wfc3_ir_f160w_idgg59/hst_15145_59_wfc3_ir_f160w_idgg59_drz.fits ... [Done]\n",
      "Downloading URL https://mast.stsci.edu/api/v0.1/Download/file?uri=mast:HST/product/hst_15145_59_wfc3_ir_f160w_idgg59p9_drz.fits to pantheon_data_folder/2002cr/mastDownload/HST/hst_15145_59_wfc3_ir_f160w_idgg59p9/hst_15145_59_wfc3_ir_f160w_idgg59p9_drz.fits ... [Done]\n",
      "Downloading URL https://mast.stsci.edu/api/v0.1/Download/file?uri=mast:HST/product/hst_15145_59_wfc3_ir_f160w_idgg59p9_flt.fits to pantheon_data_folder/2002cr/mastDownload/HST/hst_15145_59_wfc3_ir_f160w_idgg59p9/hst_15145_59_wfc3_ir_f160w_idgg59p9_flt.fits ... [Done]\n",
      "Downloading URL https://mast.stsci.edu/api/v0.1/Download/file?uri=mast:HST/product/hst_15145_59_wfc3_ir_f160w_idgg59p9_hlet.fits to pantheon_data_folder/2002cr/mastDownload/HST/hst_15145_59_wfc3_ir_f160w_idgg59p9/hst_15145_59_wfc3_ir_f160w_idgg59p9_hlet.fits ... [Done]\n",
      "Downloading URL https://mast.stsci.edu/api/v0.1/Download/file?uri=mast:HST/product/hst_15145_59_wfc3_ir_f160w_idgg59pb_drz.fits to pantheon_data_folder/2002cr/mastDownload/HST/hst_15145_59_wfc3_ir_f160w_idgg59pb/hst_15145_59_wfc3_ir_f160w_idgg59pb_drz.fits ... [Done]\n",
      "Downloading URL https://mast.stsci.edu/api/v0.1/Download/file?uri=mast:HST/product/hst_15145_59_wfc3_ir_f160w_idgg59pb_flt.fits to pantheon_data_folder/2002cr/mastDownload/HST/hst_15145_59_wfc3_ir_f160w_idgg59pb/hst_15145_59_wfc3_ir_f160w_idgg59pb_flt.fits ... [Done]\n",
      "Downloading URL https://mast.stsci.edu/api/v0.1/Download/file?uri=mast:HST/product/hst_15145_59_wfc3_ir_f160w_idgg59pb_hlet.fits to pantheon_data_folder/2002cr/mastDownload/HST/hst_15145_59_wfc3_ir_f160w_idgg59pb/hst_15145_59_wfc3_ir_f160w_idgg59pb_hlet.fits ... [Done]\n",
      "Downloading URL https://mast.stsci.edu/api/v0.1/Download/file?uri=mast:HST/product/hst_15145_59_wfc3_ir_f160w_idgg59pd_drz.fits to pantheon_data_folder/2002cr/mastDownload/HST/hst_15145_59_wfc3_ir_f160w_idgg59pd/hst_15145_59_wfc3_ir_f160w_idgg59pd_drz.fits ... [Done]\n",
      "Downloading URL https://mast.stsci.edu/api/v0.1/Download/file?uri=mast:HST/product/hst_15145_59_wfc3_ir_f160w_idgg59pd_flt.fits to pantheon_data_folder/2002cr/mastDownload/HST/hst_15145_59_wfc3_ir_f160w_idgg59pd/hst_15145_59_wfc3_ir_f160w_idgg59pd_flt.fits ... [Done]\n",
      "Downloading URL https://mast.stsci.edu/api/v0.1/Download/file?uri=mast:HST/product/hst_15145_59_wfc3_ir_f160w_idgg59pd_hlet.fits to pantheon_data_folder/2002cr/mastDownload/HST/hst_15145_59_wfc3_ir_f160w_idgg59pd/hst_15145_59_wfc3_ir_f160w_idgg59pd_hlet.fits ... [Done]\n",
      "Downloading URL https://mast.stsci.edu/api/v0.1/Download/file?uri=mast:HST/product/hst_15145_59_wfc3_ir_f160w_idgg59pe_drz.fits to pantheon_data_folder/2002cr/mastDownload/HST/hst_15145_59_wfc3_ir_f160w_idgg59pe/hst_15145_59_wfc3_ir_f160w_idgg59pe_drz.fits ... [Done]\n",
      "Downloading URL https://mast.stsci.edu/api/v0.1/Download/file?uri=mast:HST/product/hst_15145_59_wfc3_ir_f160w_idgg59pe_flt.fits to pantheon_data_folder/2002cr/mastDownload/HST/hst_15145_59_wfc3_ir_f160w_idgg59pe/hst_15145_59_wfc3_ir_f160w_idgg59pe_flt.fits ... [Done]\n",
      "Downloading URL https://mast.stsci.edu/api/v0.1/Download/file?uri=mast:HST/product/hst_15145_59_wfc3_ir_f160w_idgg59pe_hlet.fits to pantheon_data_folder/2002cr/mastDownload/HST/hst_15145_59_wfc3_ir_f160w_idgg59pe/hst_15145_59_wfc3_ir_f160w_idgg59pe_hlet.fits ... [Done]\n",
      "Downloading URL https://mast.stsci.edu/api/v0.1/Download/file?uri=mast:HST/product/hst_15145_59_wfc3_ir_total_idgg59_drz.fits to pantheon_data_folder/2002cr/mastDownload/HST/hst_15145_59_wfc3_ir_total_idgg59/hst_15145_59_wfc3_ir_total_idgg59_drz.fits ... [Done]\n",
      "Downloading URL https://mast.stsci.edu/api/v0.1/Download/file?uri=mast:HST/product/hst_15145_5b_wfc3_ir_f160w_idgg5b_drz.fits to pantheon_data_folder/2002cr/mastDownload/HST/hst_15145_5b_wfc3_ir_f160w_idgg5b/hst_15145_5b_wfc3_ir_f160w_idgg5b_drz.fits ... [Done]\n",
      "Downloading URL https://mast.stsci.edu/api/v0.1/Download/file?uri=mast:HST/product/hst_15145_5b_wfc3_ir_f160w_idgg5bd2_drz.fits to pantheon_data_folder/2002cr/mastDownload/HST/hst_15145_5b_wfc3_ir_f160w_idgg5bd2/hst_15145_5b_wfc3_ir_f160w_idgg5bd2_drz.fits ... [Done]\n",
      "Downloading URL https://mast.stsci.edu/api/v0.1/Download/file?uri=mast:HST/product/hst_15145_5b_wfc3_ir_f160w_idgg5bd2_flt.fits to pantheon_data_folder/2002cr/mastDownload/HST/hst_15145_5b_wfc3_ir_f160w_idgg5bd2/hst_15145_5b_wfc3_ir_f160w_idgg5bd2_flt.fits ... [Done]\n",
      "Downloading URL https://mast.stsci.edu/api/v0.1/Download/file?uri=mast:HST/product/hst_15145_5b_wfc3_ir_f160w_idgg5bd2_hlet.fits to pantheon_data_folder/2002cr/mastDownload/HST/hst_15145_5b_wfc3_ir_f160w_idgg5bd2/hst_15145_5b_wfc3_ir_f160w_idgg5bd2_hlet.fits ... [Done]\n",
      "Downloading URL https://mast.stsci.edu/api/v0.1/Download/file?uri=mast:HST/product/hst_15145_5b_wfc3_ir_f160w_idgg5bd4_drz.fits to pantheon_data_folder/2002cr/mastDownload/HST/hst_15145_5b_wfc3_ir_f160w_idgg5bd4/hst_15145_5b_wfc3_ir_f160w_idgg5bd4_drz.fits ... [Done]\n",
      "Downloading URL https://mast.stsci.edu/api/v0.1/Download/file?uri=mast:HST/product/hst_15145_5b_wfc3_ir_f160w_idgg5bd4_flt.fits to pantheon_data_folder/2002cr/mastDownload/HST/hst_15145_5b_wfc3_ir_f160w_idgg5bd4/hst_15145_5b_wfc3_ir_f160w_idgg5bd4_flt.fits ... [Done]\n",
      "Downloading URL https://mast.stsci.edu/api/v0.1/Download/file?uri=mast:HST/product/hst_15145_5b_wfc3_ir_f160w_idgg5bd4_hlet.fits to pantheon_data_folder/2002cr/mastDownload/HST/hst_15145_5b_wfc3_ir_f160w_idgg5bd4/hst_15145_5b_wfc3_ir_f160w_idgg5bd4_hlet.fits ... [Done]\n",
      "Downloading URL https://mast.stsci.edu/api/v0.1/Download/file?uri=mast:HST/product/hst_15145_5b_wfc3_ir_f160w_idgg5bd6_drz.fits to pantheon_data_folder/2002cr/mastDownload/HST/hst_15145_5b_wfc3_ir_f160w_idgg5bd6/hst_15145_5b_wfc3_ir_f160w_idgg5bd6_drz.fits ... [Done]\n",
      "Downloading URL https://mast.stsci.edu/api/v0.1/Download/file?uri=mast:HST/product/hst_15145_5b_wfc3_ir_f160w_idgg5bd6_flt.fits to pantheon_data_folder/2002cr/mastDownload/HST/hst_15145_5b_wfc3_ir_f160w_idgg5bd6/hst_15145_5b_wfc3_ir_f160w_idgg5bd6_flt.fits ... [Done]\n",
      "Downloading URL https://mast.stsci.edu/api/v0.1/Download/file?uri=mast:HST/product/hst_15145_5b_wfc3_ir_f160w_idgg5bd6_hlet.fits to pantheon_data_folder/2002cr/mastDownload/HST/hst_15145_5b_wfc3_ir_f160w_idgg5bd6/hst_15145_5b_wfc3_ir_f160w_idgg5bd6_hlet.fits ... [Done]\n",
      "Downloading URL https://mast.stsci.edu/api/v0.1/Download/file?uri=mast:HST/product/hst_15145_5b_wfc3_ir_f160w_idgg5bd7_drz.fits to pantheon_data_folder/2002cr/mastDownload/HST/hst_15145_5b_wfc3_ir_f160w_idgg5bd7/hst_15145_5b_wfc3_ir_f160w_idgg5bd7_drz.fits ... [Done]\n",
      "Downloading URL https://mast.stsci.edu/api/v0.1/Download/file?uri=mast:HST/product/hst_15145_5b_wfc3_ir_f160w_idgg5bd7_flt.fits to pantheon_data_folder/2002cr/mastDownload/HST/hst_15145_5b_wfc3_ir_f160w_idgg5bd7/hst_15145_5b_wfc3_ir_f160w_idgg5bd7_flt.fits ... [Done]\n",
      "Downloading URL https://mast.stsci.edu/api/v0.1/Download/file?uri=mast:HST/product/hst_15145_5b_wfc3_ir_f160w_idgg5bd7_hlet.fits to pantheon_data_folder/2002cr/mastDownload/HST/hst_15145_5b_wfc3_ir_f160w_idgg5bd7/hst_15145_5b_wfc3_ir_f160w_idgg5bd7_hlet.fits ... [Done]\n",
      "Downloading URL https://mast.stsci.edu/api/v0.1/Download/file?uri=mast:HST/product/hst_15145_5b_wfc3_ir_total_idgg5b_drz.fits to pantheon_data_folder/2002cr/mastDownload/HST/hst_15145_5b_wfc3_ir_total_idgg5b/hst_15145_5b_wfc3_ir_total_idgg5b_drz.fits ... [Done]\n",
      "Downloading URL https://mast.stsci.edu/api/v0.1/Download/file?uri=mast:HST/product/hst_skycell-p1195x05y13_wfc3_ir_f160w_all_drz.fits to pantheon_data_folder/2002cr/mastDownload/HST/hst_skycell-p1195x05y13_wfc3_ir_f160w_all/hst_skycell-p1195x05y13_wfc3_ir_f160w_all_drz.fits ... [Done]\n",
      "Downloading URL https://mast.stsci.edu/api/v0.1/Download/file?uri=mast:HST/product/hst_skycell-p1195x05y13_wfc3_ir_f160w_coarse-all_drz.fits to pantheon_data_folder/2002cr/mastDownload/HST/hst_skycell-p1195x05y13_wfc3_ir_f160w_coarse-all/hst_skycell-p1195x05y13_wfc3_ir_f160w_coarse-all_drz.fits ... [Done]\n",
      "Downloading URL https://mast.stsci.edu/api/v0.1/Download/file?uri=mast:HST/product/hst_skycell-p1195x06y13_wfc3_ir_f160w_all_drz.fits to pantheon_data_folder/2002cr/mastDownload/HST/hst_skycell-p1195x06y13_wfc3_ir_f160w_all/hst_skycell-p1195x06y13_wfc3_ir_f160w_all_drz.fits ... [Done]\n",
      "Downloading URL https://mast.stsci.edu/api/v0.1/Download/file?uri=mast:HST/product/hst_skycell-p1195x06y13_wfc3_ir_f160w_coarse-all_drz.fits to pantheon_data_folder/2002cr/mastDownload/HST/hst_skycell-p1195x06y13_wfc3_ir_f160w_coarse-all/hst_skycell-p1195x06y13_wfc3_ir_f160w_coarse-all_drz.fits ... [Done]\n",
      "Downloading URL https://mast.stsci.edu/api/v0.1/Download/file?uri=mast:HST/product/idgg51020_asn.fits to pantheon_data_folder/2002cr/mastDownload/HST/idgg51020/idgg51020_asn.fits ... [Done]\n",
      "Downloading URL https://mast.stsci.edu/api/v0.1/Download/file?uri=mast:HST/product/idgg51020_drz.fits to pantheon_data_folder/2002cr/mastDownload/HST/idgg51020/idgg51020_drz.fits ... [Done]\n",
      "Downloading URL https://mast.stsci.edu/api/v0.1/Download/file?uri=mast:HST/product/idgg51020_jif.fits to pantheon_data_folder/2002cr/mastDownload/HST/idgg51020/idgg51020_jif.fits ... [Done]\n",
      "Downloading URL https://mast.stsci.edu/api/v0.1/Download/file?uri=mast:HST/product/idgg51020_jit.fits to pantheon_data_folder/2002cr/mastDownload/HST/idgg51020/idgg51020_jit.fits ... [Done]\n",
      "Downloading URL https://mast.stsci.edu/api/v0.1/Download/file?uri=mast:HST/product/idgg51020_spt.fits to pantheon_data_folder/2002cr/mastDownload/HST/idgg51020/idgg51020_spt.fits ... [Done]\n",
      "Downloading URL https://mast.stsci.edu/api/v0.1/Download/file?uri=mast:HST/product/idgg51020_trl.fits to pantheon_data_folder/2002cr/mastDownload/HST/idgg51020/idgg51020_trl.fits ... [Done]\n",
      "Downloading URL https://mast.stsci.edu/api/v0.1/Download/file?uri=mast:HST/product/idgg51wpq_flt.fits to pantheon_data_folder/2002cr/mastDownload/HST/idgg51wpq/idgg51wpq_flt.fits ... [Done]\n",
      "Downloading URL https://mast.stsci.edu/api/v0.1/Download/file?uri=mast:HST/product/idgg51wpq_flt_hlet.fits to pantheon_data_folder/2002cr/mastDownload/HST/idgg51wpq/idgg51wpq_flt_hlet.fits ... [Done]\n",
      "Downloading URL https://mast.stsci.edu/api/v0.1/Download/file?uri=mast:HST/product/idgg51wpq_ima.fits to pantheon_data_folder/2002cr/mastDownload/HST/idgg51wpq/idgg51wpq_ima.fits ... [Failed]\n"
     ]
    },
    {
     "ename": "KeyboardInterrupt",
     "evalue": "",
     "output_type": "error",
     "traceback": [
      "\u001b[31m---------------------------------------------------------------------------\u001b[39m",
      "\u001b[31mKeyboardInterrupt\u001b[39m                         Traceback (most recent call last)",
      "\u001b[36mCell\u001b[39m\u001b[36m \u001b[39m\u001b[32mIn[28]\u001b[39m\u001b[32m, line 2\u001b[39m\n\u001b[32m      1\u001b[39m \u001b[38;5;28;01mfor\u001b[39;00m i \u001b[38;5;129;01min\u001b[39;00m \u001b[38;5;28mrange\u001b[39m(\u001b[38;5;28mlen\u001b[39m(vp[\u001b[33m'\u001b[39m\u001b[33m0\u001b[39m\u001b[33m'\u001b[39m])):\n\u001b[32m----> \u001b[39m\u001b[32m2\u001b[39m     \u001b[43msave_images_supernova\u001b[49m\u001b[43m(\u001b[49m\u001b[43mvp\u001b[49m\u001b[43m[\u001b[49m\u001b[33;43m'\u001b[39;49m\u001b[33;43m0\u001b[39;49m\u001b[33;43m'\u001b[39;49m\u001b[43m]\u001b[49m\u001b[43m[\u001b[49m\u001b[43mi\u001b[49m\u001b[43m]\u001b[49m\u001b[43m)\u001b[49m\n",
      "\u001b[36mCell\u001b[39m\u001b[36m \u001b[39m\u001b[32mIn[27]\u001b[39m\u001b[32m, line 29\u001b[39m, in \u001b[36msave_images_supernova\u001b[39m\u001b[34m(resolved_coord_index)\u001b[39m\n\u001b[32m     27\u001b[39m folder_path = \u001b[33m\"\u001b[39m\u001b[33mpantheon_data_folder/\u001b[39m\u001b[38;5;132;01m{}\u001b[39;00m\u001b[33m\"\u001b[39m.format(df[\u001b[33m'\u001b[39m\u001b[33mSNID\u001b[39m\u001b[33m'\u001b[39m][resolved_coord_index])\n\u001b[32m     28\u001b[39m os.makedirs(folder_path, exist_ok=\u001b[38;5;28;01mTrue\u001b[39;00m)\n\u001b[32m---> \u001b[39m\u001b[32m29\u001b[39m manifest = \u001b[43mObservations\u001b[49m\u001b[43m.\u001b[49m\u001b[43mdownload_products\u001b[49m\u001b[43m(\u001b[49m\u001b[43mdata_products\u001b[49m\u001b[43m,\u001b[49m\u001b[43m \u001b[49m\u001b[43mdownload_dir\u001b[49m\u001b[43m=\u001b[49m\u001b[43mfolder_path\u001b[49m\u001b[43m,\u001b[49m\u001b[43m \u001b[49m\u001b[43mextension\u001b[49m\u001b[43m=\u001b[49m\u001b[43m[\u001b[49m\u001b[33;43m'\u001b[39;49m\u001b[33;43mfits\u001b[39;49m\u001b[33;43m'\u001b[39;49m\u001b[43m]\u001b[49m\u001b[43m)\u001b[49m\n\u001b[32m     30\u001b[39m \u001b[38;5;28mprint\u001b[39m(manifest)\n",
      "\u001b[36mFile \u001b[39m\u001b[32m~/Documents/STScI/STScI_pantheon/.conda/lib/python3.11/site-packages/astroquery/mast/observations.py:841\u001b[39m, in \u001b[36mObservationsClass.download_products\u001b[39m\u001b[34m(self, products, download_dir, flat, cache, curl_flag, mrp_only, cloud_only, verbose, **filters)\u001b[39m\n\u001b[32m    839\u001b[39m     \u001b[38;5;28;01melse\u001b[39;00m:\n\u001b[32m    840\u001b[39m         base_dir = os.path.join(download_dir, \u001b[33m\"\u001b[39m\u001b[33mmastDownload\u001b[39m\u001b[33m\"\u001b[39m)\n\u001b[32m--> \u001b[39m\u001b[32m841\u001b[39m     manifest = \u001b[38;5;28;43mself\u001b[39;49m\u001b[43m.\u001b[49m\u001b[43m_download_files\u001b[49m\u001b[43m(\u001b[49m\u001b[43mproducts\u001b[49m\u001b[43m,\u001b[49m\n\u001b[32m    842\u001b[39m \u001b[43m                                    \u001b[49m\u001b[43mbase_dir\u001b[49m\u001b[43m=\u001b[49m\u001b[43mbase_dir\u001b[49m\u001b[43m,\u001b[49m\u001b[43m \u001b[49m\u001b[43mflat\u001b[49m\u001b[43m=\u001b[49m\u001b[43mflat\u001b[49m\u001b[43m,\u001b[49m\n\u001b[32m    843\u001b[39m \u001b[43m                                    \u001b[49m\u001b[43mcache\u001b[49m\u001b[43m=\u001b[49m\u001b[43mcache\u001b[49m\u001b[43m,\u001b[49m\n\u001b[32m    844\u001b[39m \u001b[43m                                    \u001b[49m\u001b[43mcloud_only\u001b[49m\u001b[43m=\u001b[49m\u001b[43mcloud_only\u001b[49m\u001b[43m,\u001b[49m\n\u001b[32m    845\u001b[39m \u001b[43m                                    \u001b[49m\u001b[43mverbose\u001b[49m\u001b[43m=\u001b[49m\u001b[43mverbose\u001b[49m\u001b[43m)\u001b[49m\n\u001b[32m    847\u001b[39m \u001b[38;5;28;01mreturn\u001b[39;00m manifest\n",
      "\u001b[36mFile \u001b[39m\u001b[32m~/Documents/STScI/STScI_pantheon/.conda/lib/python3.11/site-packages/astroquery/mast/observations.py:702\u001b[39m, in \u001b[36mObservationsClass._download_files\u001b[39m\u001b[34m(self, products, base_dir, flat, cache, cloud_only, verbose)\u001b[39m\n\u001b[32m    699\u001b[39m     local_path = os.path.join(local_path, os.path.basename(data_product[\u001b[33m'\u001b[39m\u001b[33mproductFilename\u001b[39m\u001b[33m'\u001b[39m]))\n\u001b[32m    701\u001b[39m     \u001b[38;5;66;03m# download the files\u001b[39;00m\n\u001b[32m--> \u001b[39m\u001b[32m702\u001b[39m     status, msg, url = \u001b[38;5;28;43mself\u001b[39;49m\u001b[43m.\u001b[49m\u001b[43mdownload_file\u001b[49m\u001b[43m(\u001b[49m\u001b[43mdata_product\u001b[49m\u001b[43m[\u001b[49m\u001b[33;43m\"\u001b[39;49m\u001b[33;43mdataURI\u001b[39;49m\u001b[33;43m\"\u001b[39;49m\u001b[43m]\u001b[49m\u001b[43m,\u001b[49m\u001b[43m \u001b[49m\u001b[43mlocal_path\u001b[49m\u001b[43m=\u001b[49m\u001b[43mlocal_path\u001b[49m\u001b[43m,\u001b[49m\n\u001b[32m    703\u001b[39m \u001b[43m                                          \u001b[49m\u001b[43mcache\u001b[49m\u001b[43m=\u001b[49m\u001b[43mcache\u001b[49m\u001b[43m,\u001b[49m\u001b[43m \u001b[49m\u001b[43mcloud_only\u001b[49m\u001b[43m=\u001b[49m\u001b[43mcloud_only\u001b[49m\u001b[43m,\u001b[49m\u001b[43m \u001b[49m\u001b[43mverbose\u001b[49m\u001b[43m=\u001b[49m\u001b[43mverbose\u001b[49m\u001b[43m)\u001b[49m\n\u001b[32m    705\u001b[39m     manifest_array.append([local_path, status, msg, url])\n\u001b[32m    707\u001b[39m manifest = Table(rows=manifest_array, names=(\u001b[33m'\u001b[39m\u001b[33mLocal Path\u001b[39m\u001b[33m'\u001b[39m, \u001b[33m'\u001b[39m\u001b[33mStatus\u001b[39m\u001b[33m'\u001b[39m, \u001b[33m'\u001b[39m\u001b[33mMessage\u001b[39m\u001b[33m'\u001b[39m, \u001b[33m\"\u001b[39m\u001b[33mURL\u001b[39m\u001b[33m\"\u001b[39m))\n",
      "\u001b[36mFile \u001b[39m\u001b[32m~/Documents/STScI/STScI_pantheon/.conda/lib/python3.11/site-packages/astroquery/mast/observations.py:644\u001b[39m, in \u001b[36mObservationsClass.download_file\u001b[39m\u001b[34m(self, uri, local_path, base_url, cache, cloud_only, verbose)\u001b[39m\n\u001b[32m    640\u001b[39m             \u001b[38;5;28mself\u001b[39m._download_file(escaped_url, local_path,\n\u001b[32m    641\u001b[39m                                 cache=cache, head_safe=\u001b[38;5;28;01mTrue\u001b[39;00m, continuation=\u001b[38;5;28;01mFalse\u001b[39;00m,\n\u001b[32m    642\u001b[39m                                 verbose=verbose)\n\u001b[32m    643\u001b[39m \u001b[38;5;28;01melse\u001b[39;00m:\n\u001b[32m--> \u001b[39m\u001b[32m644\u001b[39m     \u001b[38;5;28;43mself\u001b[39;49m\u001b[43m.\u001b[49m\u001b[43m_download_file\u001b[49m\u001b[43m(\u001b[49m\u001b[43mescaped_url\u001b[49m\u001b[43m,\u001b[49m\u001b[43m \u001b[49m\u001b[43mlocal_path\u001b[49m\u001b[43m,\u001b[49m\n\u001b[32m    645\u001b[39m \u001b[43m                        \u001b[49m\u001b[43mcache\u001b[49m\u001b[43m=\u001b[49m\u001b[43mcache\u001b[49m\u001b[43m,\u001b[49m\u001b[43m \u001b[49m\u001b[43mhead_safe\u001b[49m\u001b[43m=\u001b[49m\u001b[38;5;28;43;01mTrue\u001b[39;49;00m\u001b[43m,\u001b[49m\u001b[43m \u001b[49m\u001b[43mcontinuation\u001b[49m\u001b[43m=\u001b[49m\u001b[38;5;28;43;01mFalse\u001b[39;49;00m\u001b[43m,\u001b[49m\n\u001b[32m    646\u001b[39m \u001b[43m                        \u001b[49m\u001b[43mverbose\u001b[49m\u001b[43m=\u001b[49m\u001b[43mverbose\u001b[49m\u001b[43m)\u001b[49m\n\u001b[32m    648\u001b[39m \u001b[38;5;66;03m# check if file exists also this is where would perform md5,\u001b[39;00m\n\u001b[32m    649\u001b[39m \u001b[38;5;66;03m# and also check the filesize if the database reliably reported file sizes\u001b[39;00m\n\u001b[32m    650\u001b[39m \u001b[38;5;28;01mif\u001b[39;00m (\u001b[38;5;129;01mnot\u001b[39;00m os.path.isfile(local_path)) \u001b[38;5;129;01mand\u001b[39;00m (status != \u001b[33m\"\u001b[39m\u001b[33mSKIPPED\u001b[39m\u001b[33m\"\u001b[39m):\n",
      "\u001b[36mFile \u001b[39m\u001b[32m~/Documents/STScI/STScI_pantheon/.conda/lib/python3.11/site-packages/astroquery/query.py:505\u001b[39m, in \u001b[36mBaseQuery._download_file\u001b[39m\u001b[34m(self, url, local_filepath, timeout, auth, continuation, cache, method, head_safe, verbose, **kwargs)\u001b[39m\n\u001b[32m    502\u001b[39m \u001b[38;5;28;01mwith\u001b[39;00m ProgressBarOrSpinner(length, \u001b[33mf\u001b[39m\u001b[33m'\u001b[39m\u001b[33mDownloading URL \u001b[39m\u001b[38;5;132;01m{\u001b[39;00murl\u001b[38;5;132;01m}\u001b[39;00m\u001b[33m to \u001b[39m\u001b[38;5;132;01m{\u001b[39;00mlocal_filepath\u001b[38;5;132;01m}\u001b[39;00m\u001b[33m ...\u001b[39m\u001b[33m'\u001b[39m,\n\u001b[32m    503\u001b[39m                           file=progress_stream) \u001b[38;5;28;01mas\u001b[39;00m pb:\n\u001b[32m    504\u001b[39m     \u001b[38;5;28;01mwith\u001b[39;00m \u001b[38;5;28mopen\u001b[39m(local_filepath, open_mode) \u001b[38;5;28;01mas\u001b[39;00m f:\n\u001b[32m--> \u001b[39m\u001b[32m505\u001b[39m \u001b[43m        \u001b[49m\u001b[38;5;28;43;01mfor\u001b[39;49;00m\u001b[43m \u001b[49m\u001b[43mblock\u001b[49m\u001b[43m \u001b[49m\u001b[38;5;129;43;01min\u001b[39;49;00m\u001b[43m \u001b[49m\u001b[43mresponse\u001b[49m\u001b[43m.\u001b[49m\u001b[43miter_content\u001b[49m\u001b[43m(\u001b[49m\u001b[43mblocksize\u001b[49m\u001b[43m)\u001b[49m\u001b[43m:\u001b[49m\n\u001b[32m    506\u001b[39m \u001b[43m            \u001b[49m\u001b[43mf\u001b[49m\u001b[43m.\u001b[49m\u001b[43mwrite\u001b[49m\u001b[43m(\u001b[49m\u001b[43mblock\u001b[49m\u001b[43m)\u001b[49m\n\u001b[32m    507\u001b[39m \u001b[43m            \u001b[49m\u001b[43mbytes_read\u001b[49m\u001b[43m \u001b[49m\u001b[43m+\u001b[49m\u001b[43m=\u001b[49m\u001b[43m \u001b[49m\u001b[38;5;28;43mlen\u001b[39;49m\u001b[43m(\u001b[49m\u001b[43mblock\u001b[49m\u001b[43m)\u001b[49m\n",
      "\u001b[36mFile \u001b[39m\u001b[32m~/Documents/STScI/STScI_pantheon/.conda/lib/python3.11/site-packages/requests/models.py:820\u001b[39m, in \u001b[36mResponse.iter_content.<locals>.generate\u001b[39m\u001b[34m()\u001b[39m\n\u001b[32m    818\u001b[39m \u001b[38;5;28;01mif\u001b[39;00m \u001b[38;5;28mhasattr\u001b[39m(\u001b[38;5;28mself\u001b[39m.raw, \u001b[33m\"\u001b[39m\u001b[33mstream\u001b[39m\u001b[33m\"\u001b[39m):\n\u001b[32m    819\u001b[39m     \u001b[38;5;28;01mtry\u001b[39;00m:\n\u001b[32m--> \u001b[39m\u001b[32m820\u001b[39m         \u001b[38;5;28;01myield from\u001b[39;00m \u001b[38;5;28mself\u001b[39m.raw.stream(chunk_size, decode_content=\u001b[38;5;28;01mTrue\u001b[39;00m)\n\u001b[32m    821\u001b[39m     \u001b[38;5;28;01mexcept\u001b[39;00m ProtocolError \u001b[38;5;28;01mas\u001b[39;00m e:\n\u001b[32m    822\u001b[39m         \u001b[38;5;28;01mraise\u001b[39;00m ChunkedEncodingError(e)\n",
      "\u001b[36mFile \u001b[39m\u001b[32m~/Documents/STScI/STScI_pantheon/.conda/lib/python3.11/site-packages/urllib3/response.py:1066\u001b[39m, in \u001b[36mHTTPResponse.stream\u001b[39m\u001b[34m(self, amt, decode_content)\u001b[39m\n\u001b[32m   1064\u001b[39m \u001b[38;5;28;01melse\u001b[39;00m:\n\u001b[32m   1065\u001b[39m     \u001b[38;5;28;01mwhile\u001b[39;00m \u001b[38;5;129;01mnot\u001b[39;00m is_fp_closed(\u001b[38;5;28mself\u001b[39m._fp) \u001b[38;5;129;01mor\u001b[39;00m \u001b[38;5;28mlen\u001b[39m(\u001b[38;5;28mself\u001b[39m._decoded_buffer) > \u001b[32m0\u001b[39m:\n\u001b[32m-> \u001b[39m\u001b[32m1066\u001b[39m         data = \u001b[38;5;28;43mself\u001b[39;49m\u001b[43m.\u001b[49m\u001b[43mread\u001b[49m\u001b[43m(\u001b[49m\u001b[43mamt\u001b[49m\u001b[43m=\u001b[49m\u001b[43mamt\u001b[49m\u001b[43m,\u001b[49m\u001b[43m \u001b[49m\u001b[43mdecode_content\u001b[49m\u001b[43m=\u001b[49m\u001b[43mdecode_content\u001b[49m\u001b[43m)\u001b[49m\n\u001b[32m   1068\u001b[39m         \u001b[38;5;28;01mif\u001b[39;00m data:\n\u001b[32m   1069\u001b[39m             \u001b[38;5;28;01myield\u001b[39;00m data\n",
      "\u001b[36mFile \u001b[39m\u001b[32m~/Documents/STScI/STScI_pantheon/.conda/lib/python3.11/site-packages/urllib3/response.py:955\u001b[39m, in \u001b[36mHTTPResponse.read\u001b[39m\u001b[34m(self, amt, decode_content, cache_content)\u001b[39m\n\u001b[32m    952\u001b[39m     \u001b[38;5;28;01mif\u001b[39;00m \u001b[38;5;28mlen\u001b[39m(\u001b[38;5;28mself\u001b[39m._decoded_buffer) >= amt:\n\u001b[32m    953\u001b[39m         \u001b[38;5;28;01mreturn\u001b[39;00m \u001b[38;5;28mself\u001b[39m._decoded_buffer.get(amt)\n\u001b[32m--> \u001b[39m\u001b[32m955\u001b[39m data = \u001b[38;5;28;43mself\u001b[39;49m\u001b[43m.\u001b[49m\u001b[43m_raw_read\u001b[49m\u001b[43m(\u001b[49m\u001b[43mamt\u001b[49m\u001b[43m)\u001b[49m\n\u001b[32m    957\u001b[39m flush_decoder = amt \u001b[38;5;129;01mis\u001b[39;00m \u001b[38;5;28;01mNone\u001b[39;00m \u001b[38;5;129;01mor\u001b[39;00m (amt != \u001b[32m0\u001b[39m \u001b[38;5;129;01mand\u001b[39;00m \u001b[38;5;129;01mnot\u001b[39;00m data)\n\u001b[32m    959\u001b[39m \u001b[38;5;28;01mif\u001b[39;00m \u001b[38;5;129;01mnot\u001b[39;00m data \u001b[38;5;129;01mand\u001b[39;00m \u001b[38;5;28mlen\u001b[39m(\u001b[38;5;28mself\u001b[39m._decoded_buffer) == \u001b[32m0\u001b[39m:\n",
      "\u001b[36mFile \u001b[39m\u001b[32m~/Documents/STScI/STScI_pantheon/.conda/lib/python3.11/site-packages/urllib3/response.py:879\u001b[39m, in \u001b[36mHTTPResponse._raw_read\u001b[39m\u001b[34m(self, amt, read1)\u001b[39m\n\u001b[32m    876\u001b[39m fp_closed = \u001b[38;5;28mgetattr\u001b[39m(\u001b[38;5;28mself\u001b[39m._fp, \u001b[33m\"\u001b[39m\u001b[33mclosed\u001b[39m\u001b[33m\"\u001b[39m, \u001b[38;5;28;01mFalse\u001b[39;00m)\n\u001b[32m    878\u001b[39m \u001b[38;5;28;01mwith\u001b[39;00m \u001b[38;5;28mself\u001b[39m._error_catcher():\n\u001b[32m--> \u001b[39m\u001b[32m879\u001b[39m     data = \u001b[38;5;28;43mself\u001b[39;49m\u001b[43m.\u001b[49m\u001b[43m_fp_read\u001b[49m\u001b[43m(\u001b[49m\u001b[43mamt\u001b[49m\u001b[43m,\u001b[49m\u001b[43m \u001b[49m\u001b[43mread1\u001b[49m\u001b[43m=\u001b[49m\u001b[43mread1\u001b[49m\u001b[43m)\u001b[49m \u001b[38;5;28;01mif\u001b[39;00m \u001b[38;5;129;01mnot\u001b[39;00m fp_closed \u001b[38;5;28;01melse\u001b[39;00m \u001b[33mb\u001b[39m\u001b[33m\"\u001b[39m\u001b[33m\"\u001b[39m\n\u001b[32m    880\u001b[39m     \u001b[38;5;28;01mif\u001b[39;00m amt \u001b[38;5;129;01mis\u001b[39;00m \u001b[38;5;129;01mnot\u001b[39;00m \u001b[38;5;28;01mNone\u001b[39;00m \u001b[38;5;129;01mand\u001b[39;00m amt != \u001b[32m0\u001b[39m \u001b[38;5;129;01mand\u001b[39;00m \u001b[38;5;129;01mnot\u001b[39;00m data:\n\u001b[32m    881\u001b[39m         \u001b[38;5;66;03m# Platform-specific: Buggy versions of Python.\u001b[39;00m\n\u001b[32m    882\u001b[39m         \u001b[38;5;66;03m# Close the connection when no data is returned\u001b[39;00m\n\u001b[32m   (...)\u001b[39m\u001b[32m    887\u001b[39m         \u001b[38;5;66;03m# not properly close the connection in all cases. There is\u001b[39;00m\n\u001b[32m    888\u001b[39m         \u001b[38;5;66;03m# no harm in redundantly calling close.\u001b[39;00m\n\u001b[32m    889\u001b[39m         \u001b[38;5;28mself\u001b[39m._fp.close()\n",
      "\u001b[36mFile \u001b[39m\u001b[32m~/Documents/STScI/STScI_pantheon/.conda/lib/python3.11/site-packages/urllib3/response.py:862\u001b[39m, in \u001b[36mHTTPResponse._fp_read\u001b[39m\u001b[34m(self, amt, read1)\u001b[39m\n\u001b[32m    859\u001b[39m     \u001b[38;5;28;01mreturn\u001b[39;00m \u001b[38;5;28mself\u001b[39m._fp.read1(amt) \u001b[38;5;28;01mif\u001b[39;00m amt \u001b[38;5;129;01mis\u001b[39;00m \u001b[38;5;129;01mnot\u001b[39;00m \u001b[38;5;28;01mNone\u001b[39;00m \u001b[38;5;28;01melse\u001b[39;00m \u001b[38;5;28mself\u001b[39m._fp.read1()\n\u001b[32m    860\u001b[39m \u001b[38;5;28;01melse\u001b[39;00m:\n\u001b[32m    861\u001b[39m     \u001b[38;5;66;03m# StringIO doesn't like amt=None\u001b[39;00m\n\u001b[32m--> \u001b[39m\u001b[32m862\u001b[39m     \u001b[38;5;28;01mreturn\u001b[39;00m \u001b[38;5;28;43mself\u001b[39;49m\u001b[43m.\u001b[49m\u001b[43m_fp\u001b[49m\u001b[43m.\u001b[49m\u001b[43mread\u001b[49m\u001b[43m(\u001b[49m\u001b[43mamt\u001b[49m\u001b[43m)\u001b[49m \u001b[38;5;28;01mif\u001b[39;00m amt \u001b[38;5;129;01mis\u001b[39;00m \u001b[38;5;129;01mnot\u001b[39;00m \u001b[38;5;28;01mNone\u001b[39;00m \u001b[38;5;28;01melse\u001b[39;00m \u001b[38;5;28mself\u001b[39m._fp.read()\n",
      "\u001b[36mFile \u001b[39m\u001b[32m~/Documents/STScI/STScI_pantheon/.conda/lib/python3.11/http/client.py:473\u001b[39m, in \u001b[36mHTTPResponse.read\u001b[39m\u001b[34m(self, amt)\u001b[39m\n\u001b[32m    470\u001b[39m \u001b[38;5;28;01mif\u001b[39;00m \u001b[38;5;28mself\u001b[39m.length \u001b[38;5;129;01mis\u001b[39;00m \u001b[38;5;129;01mnot\u001b[39;00m \u001b[38;5;28;01mNone\u001b[39;00m \u001b[38;5;129;01mand\u001b[39;00m amt > \u001b[38;5;28mself\u001b[39m.length:\n\u001b[32m    471\u001b[39m     \u001b[38;5;66;03m# clip the read to the \"end of response\"\u001b[39;00m\n\u001b[32m    472\u001b[39m     amt = \u001b[38;5;28mself\u001b[39m.length\n\u001b[32m--> \u001b[39m\u001b[32m473\u001b[39m s = \u001b[38;5;28mself\u001b[39m.fp.read(amt)\n\u001b[32m    474\u001b[39m \u001b[38;5;28;01mif\u001b[39;00m \u001b[38;5;129;01mnot\u001b[39;00m s \u001b[38;5;129;01mand\u001b[39;00m amt:\n\u001b[32m    475\u001b[39m     \u001b[38;5;66;03m# Ideally, we would raise IncompleteRead if the content-length\u001b[39;00m\n\u001b[32m    476\u001b[39m     \u001b[38;5;66;03m# wasn't satisfied, but it might break compatibility.\u001b[39;00m\n\u001b[32m    477\u001b[39m     \u001b[38;5;28mself\u001b[39m._close_conn()\n",
      "\u001b[36mFile \u001b[39m\u001b[32m~/Documents/STScI/STScI_pantheon/.conda/lib/python3.11/socket.py:706\u001b[39m, in \u001b[36mSocketIO.readinto\u001b[39m\u001b[34m(self, b)\u001b[39m\n\u001b[32m    704\u001b[39m \u001b[38;5;28;01mwhile\u001b[39;00m \u001b[38;5;28;01mTrue\u001b[39;00m:\n\u001b[32m    705\u001b[39m     \u001b[38;5;28;01mtry\u001b[39;00m:\n\u001b[32m--> \u001b[39m\u001b[32m706\u001b[39m         \u001b[38;5;28;01mreturn\u001b[39;00m \u001b[38;5;28;43mself\u001b[39;49m\u001b[43m.\u001b[49m\u001b[43m_sock\u001b[49m\u001b[43m.\u001b[49m\u001b[43mrecv_into\u001b[49m\u001b[43m(\u001b[49m\u001b[43mb\u001b[49m\u001b[43m)\u001b[49m\n\u001b[32m    707\u001b[39m     \u001b[38;5;28;01mexcept\u001b[39;00m timeout:\n\u001b[32m    708\u001b[39m         \u001b[38;5;28mself\u001b[39m._timeout_occurred = \u001b[38;5;28;01mTrue\u001b[39;00m\n",
      "\u001b[36mFile \u001b[39m\u001b[32m~/Documents/STScI/STScI_pantheon/.conda/lib/python3.11/ssl.py:1314\u001b[39m, in \u001b[36mSSLSocket.recv_into\u001b[39m\u001b[34m(self, buffer, nbytes, flags)\u001b[39m\n\u001b[32m   1310\u001b[39m     \u001b[38;5;28;01mif\u001b[39;00m flags != \u001b[32m0\u001b[39m:\n\u001b[32m   1311\u001b[39m         \u001b[38;5;28;01mraise\u001b[39;00m \u001b[38;5;167;01mValueError\u001b[39;00m(\n\u001b[32m   1312\u001b[39m           \u001b[33m\"\u001b[39m\u001b[33mnon-zero flags not allowed in calls to recv_into() on \u001b[39m\u001b[38;5;132;01m%s\u001b[39;00m\u001b[33m\"\u001b[39m %\n\u001b[32m   1313\u001b[39m           \u001b[38;5;28mself\u001b[39m.\u001b[34m__class__\u001b[39m)\n\u001b[32m-> \u001b[39m\u001b[32m1314\u001b[39m     \u001b[38;5;28;01mreturn\u001b[39;00m \u001b[38;5;28;43mself\u001b[39;49m\u001b[43m.\u001b[49m\u001b[43mread\u001b[49m\u001b[43m(\u001b[49m\u001b[43mnbytes\u001b[49m\u001b[43m,\u001b[49m\u001b[43m \u001b[49m\u001b[43mbuffer\u001b[49m\u001b[43m)\u001b[49m\n\u001b[32m   1315\u001b[39m \u001b[38;5;28;01melse\u001b[39;00m:\n\u001b[32m   1316\u001b[39m     \u001b[38;5;28;01mreturn\u001b[39;00m \u001b[38;5;28msuper\u001b[39m().recv_into(buffer, nbytes, flags)\n",
      "\u001b[36mFile \u001b[39m\u001b[32m~/Documents/STScI/STScI_pantheon/.conda/lib/python3.11/ssl.py:1166\u001b[39m, in \u001b[36mSSLSocket.read\u001b[39m\u001b[34m(self, len, buffer)\u001b[39m\n\u001b[32m   1164\u001b[39m \u001b[38;5;28;01mtry\u001b[39;00m:\n\u001b[32m   1165\u001b[39m     \u001b[38;5;28;01mif\u001b[39;00m buffer \u001b[38;5;129;01mis\u001b[39;00m \u001b[38;5;129;01mnot\u001b[39;00m \u001b[38;5;28;01mNone\u001b[39;00m:\n\u001b[32m-> \u001b[39m\u001b[32m1166\u001b[39m         \u001b[38;5;28;01mreturn\u001b[39;00m \u001b[38;5;28;43mself\u001b[39;49m\u001b[43m.\u001b[49m\u001b[43m_sslobj\u001b[49m\u001b[43m.\u001b[49m\u001b[43mread\u001b[49m\u001b[43m(\u001b[49m\u001b[38;5;28;43mlen\u001b[39;49m\u001b[43m,\u001b[49m\u001b[43m \u001b[49m\u001b[43mbuffer\u001b[49m\u001b[43m)\u001b[49m\n\u001b[32m   1167\u001b[39m     \u001b[38;5;28;01melse\u001b[39;00m:\n\u001b[32m   1168\u001b[39m         \u001b[38;5;28;01mreturn\u001b[39;00m \u001b[38;5;28mself\u001b[39m._sslobj.read(\u001b[38;5;28mlen\u001b[39m)\n",
      "\u001b[31mKeyboardInterrupt\u001b[39m: "
     ]
    }
   ],
   "source": [
    "for i in range(len(vp['0'])):\n",
    "    save_images_supernova(vp['0'][i])"
   ]
  }
 ],
 "metadata": {
  "kernelspec": {
   "display_name": "Python 3",
   "language": "python",
   "name": "python3"
  },
  "language_info": {
   "codemirror_mode": {
    "name": "ipython",
    "version": 3
   },
   "file_extension": ".py",
   "mimetype": "text/x-python",
   "name": "python",
   "nbconvert_exporter": "python",
   "pygments_lexer": "ipython3",
   "version": "3.11.8"
  }
 },
 "nbformat": 4,
 "nbformat_minor": 5
}
