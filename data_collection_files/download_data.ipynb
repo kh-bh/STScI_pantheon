{
 "cells": [
  {
   "cell_type": "markdown",
   "id": "905d2e7b",
   "metadata": {},
   "source": [
    "## Data Collection Code from MAST"
   ]
  },
  {
   "cell_type": "code",
   "execution_count": null,
   "id": "2cab58d8",
   "metadata": {},
   "outputs": [],
   "source": [
    "import sys,os,glob\n",
    "from astropy.io import fits\n",
    "from astropy.table import Table\n",
    "from astropy.nddata import extract_array\n",
    "from astropy.coordinates import SkyCoord\n",
    "from astropy import wcs\n",
    "from astropy.wcs.utils import skycoord_to_pixel\n",
    "from astropy import units as u\n",
    "import numpy as np\n",
    "import matplotlib.pyplot as plt\n",
    "from astroquery.mast import Observations\n",
    "from astropy.visualization import (simple_norm,LinearStretch)\n",
    "import pandas as pd\n",
    "import subprocess"
   ]
  },
  {
   "cell_type": "code",
   "execution_count": null,
   "id": "11d554de",
   "metadata": {},
   "outputs": [],
   "source": [
    "#My very bad way of getting things done\n",
    "subprocess.call(\"cd ..\", shell = True)"
   ]
  },
  {
   "cell_type": "code",
   "execution_count": null,
   "id": "587fa7b2",
   "metadata": {},
   "outputs": [],
   "source": [
    "#Open and read the unmatched pantheon dataset\n",
    "df = pd.read_csv('data_files/unmatched_pantheon.csv')\n",
    "vp = pd.read_csv('data_files/valid_points_index_list.csv')\n",
    "print(vp.dtypes)"
   ]
  },
  {
   "cell_type": "code",
   "execution_count": null,
   "id": "209b3535",
   "metadata": {},
   "outputs": [],
   "source": [
    "resolved_coord_index = 12\n",
    "print(df['resolved_coord'][resolved_coord_index]) \n",
    "\n",
    "obs_table = Observations.query_criteria(coordinates=df['resolved_coord'][resolved_coord_index],\n",
    "                                            radius=\"0.006 deg\",\n",
    "                                            intentType = 'science',\n",
    "                                            filters = ['F1*'],\n",
    "                                            obs_collection=['HST'])\n",
    "obs_table = obs_table[obs_table['calib_level']==3]\n",
    "data_products = Observations.get_product_list(obs_table)\n",
    "data_products = data_products[data_products['calib_level'] == 3]\n",
    "data_products = data_products[data_products['productType'] == 'SCIENCE']\n",
    "print(data_products)"
   ]
  },
  {
   "cell_type": "code",
   "execution_count": null,
   "id": "96bbb44c",
   "metadata": {},
   "outputs": [],
   "source": [
    "#Creating a function that will create a folder for the data (named the resolved coordinate) and keep the query there\n",
    "\n",
    "def save_images_supernova(resolved_coord_index):\n",
    "    \"\"\"\n",
    "    If there are images for the supernovae in JWST or HST at the resolved query, create a folder and keep the data there\n",
    "    Parameters:\n",
    "        resolved_coord_index: integer, the index number of the query\n",
    "    Returns:\n",
    "        Folder of Data at requested file path (pantheon_data_folder/{resolved coord})\n",
    "    \"\"\"\n",
    "    print(resolved_coord_index, df['resolved_coord'][resolved_coord_index])\n",
    "\n",
    "    #try the the query, if a error is thrown then print \"No Data Points\" and \"skip\" this data point, else make folder and store data\n",
    "    try:\n",
    "        obs_table = Observations.query_criteria(coordinates=df['resolved_coord'][resolved_coord_index],\n",
    "                                            radius=\"0.006 deg\",\n",
    "                                            intentType = 'science',\n",
    "                                            filters = ['F1*'],\n",
    "                                            obs_collection=['HST'])\n",
    "        obs_table = obs_table[obs_table['calib_level']==3]\n",
    "        data_products = Observations.get_product_list(obs_table)\n",
    "        data_products = data_products[data_products['calib_level'] == 3]\n",
    "        data_products = data_products[data_products['productType'] == 'SCIENCE']\n",
    "    except: \n",
    "        print(\"No Data Points :(\")\n",
    "        exit\n",
    "    else:\n",
    "        print(\"Has Data Points!\")\n",
    "        folder_path = \"pantheon_data_folder/{}\".format(df['SNID'][resolved_coord_index])\n",
    "        os.makedirs(folder_path, exist_ok=True)\n",
    "        manifest = Observations.download_products(data_products, download_dir=folder_path, extension=['fits'])\n",
    "        print(manifest)"
   ]
  },
  {
   "cell_type": "code",
   "execution_count": null,
   "id": "518cafbe",
   "metadata": {},
   "outputs": [],
   "source": [
    "for i in range(len(vp['0'])):\n",
    "    save_images_supernova(vp['0'][i])"
   ]
  }
 ],
 "metadata": {
  "kernelspec": {
   "display_name": "Python 3",
   "language": "python",
   "name": "python3"
  },
  "language_info": {
   "codemirror_mode": {
    "name": "ipython",
    "version": 3
   },
   "file_extension": ".py",
   "mimetype": "text/x-python",
   "name": "python",
   "nbconvert_exporter": "python",
   "pygments_lexer": "ipython3",
   "version": "3.11.8"
  }
 },
 "nbformat": 4,
 "nbformat_minor": 5
}
