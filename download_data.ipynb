{
 "cells": [
  {
   "cell_type": "markdown",
   "id": "905d2e7b",
   "metadata": {},
   "source": [
    "## Data Collection Code from MAST"
   ]
  },
  {
   "cell_type": "code",
   "execution_count": 2,
   "id": "2cab58d8",
   "metadata": {},
   "outputs": [],
   "source": [
    "import sys,os,glob\n",
    "from astropy.io import fits\n",
    "from astropy.table import Table\n",
    "from astropy.nddata import extract_array\n",
    "from astropy.coordinates import SkyCoord\n",
    "from astropy import wcs\n",
    "from astropy.wcs.utils import skycoord_to_pixel\n",
    "from astropy import units as u\n",
    "import numpy as np\n",
    "import matplotlib.pyplot as plt\n",
    "from astroquery.mast import Observations\n",
    "from astropy.visualization import (simple_norm,LinearStretch)\n",
    "import pandas as pd"
   ]
  },
  {
   "cell_type": "code",
   "execution_count": 3,
   "id": "587fa7b2",
   "metadata": {},
   "outputs": [
    {
     "name": "stdout",
     "output_type": "stream",
     "text": [
      "SNID               object\n",
      "IAUC               object\n",
      "host               object\n",
      "RA                float64\n",
      "Dec               float64\n",
      "RA_host           float64\n",
      "Dec_host          float64\n",
      "zhel              float64\n",
      "zcmb              float64\n",
      "zhelerr           float64\n",
      "zHD               float64\n",
      "zHDerr            float64\n",
      "PV                  int64\n",
      "vpecerr             int64\n",
      "RA_group          float64\n",
      "Dec_group         float64\n",
      "zhel_group        float64\n",
      "zcmb_group        float64\n",
      "zHD_group         float64\n",
      "PV_group          float64\n",
      "in_group            int64\n",
      "has_host            int64\n",
      "is_SNz              int64\n",
      "resolved_coord     object\n",
      "dtype: object\n"
     ]
    }
   ],
   "source": [
    "#Open and read the unmatched pantheon dataset\n",
    "df = pd.read_csv('unmatched_pantheon.csv')\n",
    "\n",
    "print(df.dtypes)"
   ]
  },
  {
   "cell_type": "code",
   "execution_count": 4,
   "id": "209b3535",
   "metadata": {},
   "outputs": [
    {
     "name": "stdout",
     "output_type": "stream",
     "text": [
      "211.65662 -5.43942\n"
     ]
    },
    {
     "name": "stderr",
     "output_type": "stream",
     "text": [
      "WARNING: InputWarning: Coordinate string is being interpreted as an ICRS coordinate provided in degrees. [astroquery.utils.commons]\n"
     ]
    },
    {
     "name": "stdout",
     "output_type": "stream",
     "text": [
      "19\n"
     ]
    }
   ],
   "source": [
    "i = 12\n",
    "print(df['resolved_coord'][i]) \n",
    "\n",
    "obs_table = Observations.query_criteria(coordinates=df['resolved_coord'][i],\n",
    "                                        radius=\"0.006 deg\",\n",
    "                                        intentType = 'science',\n",
    "                                        filters = ['F1*'],\n",
    "                                        #calibration = 1,\n",
    "                                        obs_collection=['HST', 'JWST'])\n",
    "obs_table = obs_table[obs_table['calib_level']==3]\n",
    "print(len(obs_table))"
   ]
  },
  {
   "cell_type": "code",
   "execution_count": null,
   "id": "96bbb44c",
   "metadata": {},
   "outputs": [],
   "source": [
    "#Creating a function that will create a folder for the data (named the resolved coordinate) and keep the query there\n",
    "valid_points = []\n",
    "def save_images_supernova(resolved_coord_index):\n",
    "    \"\"\"\n",
    "    If there are images for the supernovae in JWST or HST at the resolved query, create a folder and keep the data there\n",
    "    Parameters:\n",
    "        resolved_coord_index: integer, the index number of the query\n",
    "    Returns:\n",
    "        Folder of Data at requested file path (pantheon_data_folder/{resolved coord})\n",
    "    \"\"\"\n",
    "    print(resolved_coord_index, df['resolved_coord'][resolved_coord_index])\n",
    "\n",
    "    #try the the query, if a error is thrown then print \"No Data Points\" and \"skip\" this data point, else make folder and store data\n",
    "    try:\n",
    "        obs_table = Observations.query_criteria(coordinates=df['resolved_coord'][resolved_coord_index],\n",
    "                                            radius=\"0.006 deg\",\n",
    "                                            intentType = 'science',\n",
    "                                            filters = ['F1*'],\n",
    "                                            obs_collection=['HST', 'JWST'])\n",
    "        obs_table = obs_table[obs_table['calib_level']==3]\n",
    "        data_products = Observations.get_product_list(obs_table)\n",
    "    except: \n",
    "        print(\"No Data Points :(\")\n",
    "        exit\n",
    "    else:\n",
    "        print(\"Has Data Points!\")\n",
    "        folder_path = \"pantheon_data_folder/{}\".format(df['resolved_coord'][resolved_coord_index])\n",
    "        os.makedirs(folder_path, exist_ok=True)\n",
    "        #Fits is what we need for space_phot, jpg to see image\n",
    "        manifest = Observations.download_products(data_products, download_dir=folder_path, extension=['fits'])\n",
    "        print(manifest)"
   ]
  }
 ],
 "metadata": {
  "kernelspec": {
   "display_name": "Python 3",
   "language": "python",
   "name": "python3"
  },
  "language_info": {
   "codemirror_mode": {
    "name": "ipython",
    "version": 3
   },
   "file_extension": ".py",
   "mimetype": "text/x-python",
   "name": "python",
   "nbconvert_exporter": "python",
   "pygments_lexer": "ipython3",
   "version": "3.11.8"
  }
 },
 "nbformat": 4,
 "nbformat_minor": 5
}
