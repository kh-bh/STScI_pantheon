{
 "cells": [
  {
   "cell_type": "markdown",
   "id": "464155bb",
   "metadata": {},
   "source": [
    "## Filters the \"fits_summary_combined.csv\""
   ]
  },
  {
   "cell_type": "markdown",
   "id": "b8b4ddbe",
   "metadata": {},
   "source": [
    "#### filter out any file with NIC and doesnt start with hst_* (plus remove hst_skycell)"
   ]
  },
  {
   "cell_type": "code",
   "execution_count": 9,
   "id": "584c7c04",
   "metadata": {},
   "outputs": [],
   "source": [
    "import pandas as pd "
   ]
  },
  {
   "cell_type": "code",
   "execution_count": 10,
   "id": "d8ec9a8c",
   "metadata": {},
   "outputs": [
    {
     "name": "stdout",
     "output_type": "stream",
     "text": [
      "17664\n"
     ]
    }
   ],
   "source": [
    "fits_summary = pd.read_csv('data_files/fits_summary.csv')\n",
    "print(len(fits_summary))"
   ]
  },
  {
   "cell_type": "code",
   "execution_count": 11,
   "id": "84bb9eb7",
   "metadata": {},
   "outputs": [],
   "source": [
    "file_key = fits_summary['File_key']\n",
    "filter = fits_summary['Filter']"
   ]
  },
  {
   "cell_type": "code",
   "execution_count": 12,
   "id": "abc0837d",
   "metadata": {},
   "outputs": [],
   "source": [
    "sub_string_NIC = 'NIC'\n",
    "sub_string_sky = 'hst_skycell'"
   ]
  },
  {
   "cell_type": "code",
   "execution_count": 14,
   "id": "5dad4333",
   "metadata": {},
   "outputs": [
    {
     "name": "stdout",
     "output_type": "stream",
     "text": [
      "Total number of JWSTfiles:  554\n",
      "Total number of unique JWST SNID:  42\n"
     ]
    },
    {
     "name": "stderr",
     "output_type": "stream",
     "text": [
      "/tmp/ipykernel_2392166/4228484249.py:2: UserWarning: Boolean Series key will be reindexed to match DataFrame index.\n",
      "  fits_summary_jw = fits_summary[file_key.str.startswith('jw')]\n"
     ]
    }
   ],
   "source": [
    "# create a file with just JWST data\n",
    "fits_summary_jw = fits_summary[file_key.str.startswith('jw')]\n",
    "print('Total number of JWSTfiles: ', len(fits_summary_jw))\n",
    "print('Total number of unique JWST SNID: ', fits_summary_jw['SNID'].nunique())\n",
    "fits_summary_jw.to_csv(\"data_files/fits_cleaned_JWST_data.csv\", index=False)"
   ]
  },
  {
   "cell_type": "code",
   "execution_count": 44,
   "id": "20f52fb9",
   "metadata": {},
   "outputs": [],
   "source": [
    "for i in range(len(file_key)):\n",
    "    if file_key[i].startswith('hst_'):\n",
    "        if sub_string_sky in file_key[i]:\n",
    "            fits_summary = fits_summary.drop(i)\n",
    "        elif sub_string_NIC in file_key[i]:\n",
    "            fits_summary = fits_summary.drop(i)\n",
    "        elif filter[i] == 'detection':\n",
    "            fits_summary = fits_summary.drop(i)\n",
    "    else:\n",
    "        fits_summary = fits_summary.drop(i)"
   ]
  },
  {
   "cell_type": "code",
   "execution_count": 45,
   "id": "97bd2684",
   "metadata": {},
   "outputs": [
    {
     "name": "stdout",
     "output_type": "stream",
     "text": [
      "Total Number of Files: 6106\n",
      "Total Number of Supernova: 260\n"
     ]
    }
   ],
   "source": [
    "print('Total Number of Files: {}'.format(len(fits_summary)))\n",
    "print('Total Number of Supernova: {}'.format(len(fits_summary['SNID'].unique())))\n"
   ]
  },
  {
   "cell_type": "code",
   "execution_count": 46,
   "id": "79f7bde9",
   "metadata": {},
   "outputs": [],
   "source": [
    "fits_summary.to_csv(\"data_files/fits_cleaned_HST_data.csv\", index=False)"
   ]
  }
 ],
 "metadata": {
  "kernelspec": {
   "display_name": "pantheon-312",
   "language": "python",
   "name": "python3"
  },
  "language_info": {
   "codemirror_mode": {
    "name": "ipython",
    "version": 3
   },
   "file_extension": ".py",
   "mimetype": "text/x-python",
   "name": "python",
   "nbconvert_exporter": "python",
   "pygments_lexer": "ipython3",
   "version": "3.12.11"
  }
 },
 "nbformat": 4,
 "nbformat_minor": 5
}
