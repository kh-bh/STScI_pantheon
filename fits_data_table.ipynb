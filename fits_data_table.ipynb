{
 "cells": [
  {
   "cell_type": "markdown",
   "id": "d2e86bbc",
   "metadata": {},
   "source": [
    "# Creating a Data Table that contains the individual .fits file information"
   ]
  },
  {
   "cell_type": "code",
   "execution_count": 1,
   "id": "081de9e0",
   "metadata": {},
   "outputs": [],
   "source": [
    "import pandas as pd \n",
    "from astropy.io import fits\n",
    "import glob\n",
    "import os\n",
    "from pathlib import Path"
   ]
  },
  {
   "cell_type": "code",
   "execution_count": 2,
   "id": "d937ccda",
   "metadata": {},
   "outputs": [],
   "source": [
    "def get_snid_folders(base_path=\"pantheon_data_folder\"):\n",
    "    \"\"\"\n",
    "    Returns a list of folder names (SNIDs) under the base path\n",
    "    \"\"\"\n",
    "    return [p.name for p in Path(base_path).iterdir() if p.is_dir()]"
   ]
  },
  {
   "cell_type": "code",
   "execution_count": 3,
   "id": "97b959ec",
   "metadata": {},
   "outputs": [],
   "source": [
    "def extract_fits_by_snid(snid_list, base_path=\"pantheon_data_folder\", output_csv=\"fits_summary.csv\", recursive=False, data_list = []):\n",
    "    \"\"\"\n",
    "    Loops over SNIDs, reads .fits files in /pantheon/{SNID}/ folders\n",
    "        - Extracts the Telescope, Instrument Used, and Filter\n",
    "    Parameters:\n",
    "    - snid_list: list of str, SNID folder names\n",
    "    - base_path: str, base directory containing SNID subfolders (defaults to pantheon_data_folder)\n",
    "    - output_csv: str, name of output CSV file\n",
    "    - recursive: bool, whether to search subdirectories inside each SNID folder\n",
    "    \"\"\"\n",
    "\n",
    "    for snid in snid_list:\n",
    "        folder_path = os.path.join(base_path, snid)\n",
    "        pattern = \"**/*.fits\" if recursive else \"*.fits\"\n",
    "        file_paths = glob.glob(os.path.join(folder_path, pattern), recursive=recursive)\n",
    "\n",
    "        for file_path in file_paths:\n",
    "            try:\n",
    "                with fits.open(file_path) as hdul:\n",
    "                    header = hdul[0].header\n",
    "\n",
    "                    info = {\n",
    "                        \"SNID\": snid,\n",
    "                        \"filename\": os.path.basename(file_path),\n",
    "                        \"Telescope\": header.get(\"TELESCOP\"),\n",
    "                        \"Instrument\": header.get(\"INSTRUME\"),\n",
    "                        \"Filter\": header.get(\"FILTER\"),\n",
    "                    }\n",
    "\n",
    "                    data_list.append(info)\n",
    "            except Exception as e:\n",
    "                print(f\"Error reading {file_path}: {e}\")\n",
    "\n",
    "    # Convert to DataFrame and export\n",
    "    df = pd.DataFrame(data_list)\n",
    "    df.to_csv(output_csv, index=False)\n",
    "    print(f\"CSV exported: {output_csv}\")\n"
   ]
  },
  {
   "cell_type": "code",
   "execution_count": 4,
   "id": "4cfa2f97",
   "metadata": {},
   "outputs": [
    {
     "name": "stdout",
     "output_type": "stream",
     "text": [
      "38\n",
      "Error reading pantheon_data_folder/2002cr/mastDownload/HST/hst_skycell-p1195x05y13_wfc3_ir_f160w_all/hst_skycell-p1195x05y13_wfc3_ir_f160w_all_drz.fits: Empty or corrupt FITS file\n",
      "Error reading pantheon_data_folder/2006mr/mastDownload/HST/hst_skycell-p0497x09y14_wfc3_ir_f160w_all/hst_skycell-p0497x09y14_wfc3_ir_f160w_all_drz.fits: Empty or corrupt FITS file\n",
      "CSV exported: fits_summary.csv\n"
     ]
    }
   ],
   "source": [
    "snids = get_snid_folders()\n",
    "print(len(snids))\n",
    "extract_fits_by_snid(snids, output_csv=\"fits_summary.csv\", recursive=True)\n"
   ]
  }
 ],
 "metadata": {
  "kernelspec": {
   "display_name": "Python 3",
   "language": "python",
   "name": "python3"
  },
  "language_info": {
   "codemirror_mode": {
    "name": "ipython",
    "version": 3
   },
   "file_extension": ".py",
   "mimetype": "text/x-python",
   "name": "python",
   "nbconvert_exporter": "python",
   "pygments_lexer": "ipython3",
   "version": "3.11.8"
  }
 },
 "nbformat": 4,
 "nbformat_minor": 5
}
