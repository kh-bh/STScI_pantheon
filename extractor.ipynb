{
 "cells": [
  {
   "cell_type": "code",
   "execution_count": 6,
   "id": "ac6965c9",
   "metadata": {},
   "outputs": [],
   "source": [
    "import subprocess\n",
    "import os\n",
    "import numpy\n",
    "import astropy\n",
    "import pandas as pd"
   ]
  },
  {
   "cell_type": "code",
   "execution_count": 5,
   "id": "da0bf88b",
   "metadata": {},
   "outputs": [
    {
     "name": "stdout",
     "output_type": "stream",
     "text": [
      "/Users/bhoomika_khatri/Documents/STScI/STScI_pantheon\n"
     ]
    },
    {
     "data": {
      "text/plain": [
       "CompletedProcess(args='pwd', returncode=0)"
      ]
     },
     "execution_count": 5,
     "metadata": {},
     "output_type": "execute_result"
    }
   ],
   "source": [
    "subprocess.run(\"pwd\", shell=True)"
   ]
  },
  {
   "cell_type": "code",
   "execution_count": null,
   "id": "6d5a7c21",
   "metadata": {},
   "outputs": [],
   "source": [
    "cmd = f\"sex {os.path.join(image_dir, img_file)} -c {config_file} -PARAMETERS_NAME {param_file} -FILTER_NAME {conv_file}\"\n",
    "        subprocess.run(cmd, shell=True)"
   ]
  },
  {
   "cell_type": "code",
   "execution_count": 12,
   "id": "69fca9bc",
   "metadata": {},
   "outputs": [
    {
     "name": "stdout",
     "output_type": "stream",
     "text": [
      "/Users/bhoomika_khatri/Documents/STScI/STScI_pantheon\n",
      "\n"
     ]
    }
   ],
   "source": [
    "df = pd.read_csv('data_files/fits_summary.csv')\n",
    "#HEY! MAKE SURE THE WORKING DIRECTORY IS RIGHT!!!\n",
    "pwd = subprocess.run(\"pwd\", capture_output=True, text=True, shell=True)\n",
    "print(pwd.stdout)"
   ]
  }
 ],
 "metadata": {
  "kernelspec": {
   "display_name": "Python 3",
   "language": "python",
   "name": "python3"
  },
  "language_info": {
   "codemirror_mode": {
    "name": "ipython",
    "version": 3
   },
   "file_extension": ".py",
   "mimetype": "text/x-python",
   "name": "python",
   "nbconvert_exporter": "python",
   "pygments_lexer": "ipython3",
   "version": "3.11.8"
  }
 },
 "nbformat": 4,
 "nbformat_minor": 5
}
