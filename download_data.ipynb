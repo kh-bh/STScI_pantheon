{
 "cells": [
  {
   "cell_type": "markdown",
   "id": "905d2e7b",
   "metadata": {},
   "source": [
    "## Data Collection Code from MAST"
   ]
  },
  {
   "cell_type": "code",
   "execution_count": 3,
   "id": "2cab58d8",
   "metadata": {},
   "outputs": [],
   "source": [
    "import sys,os,glob\n",
    "from astropy.io import fits\n",
    "from astropy.table import Table\n",
    "from astropy.nddata import extract_array\n",
    "from astropy.coordinates import SkyCoord\n",
    "from astropy import wcs\n",
    "from astropy.wcs.utils import skycoord_to_pixel\n",
    "from astropy import units as u\n",
    "import numpy as np\n",
    "import matplotlib.pyplot as plt\n",
    "from astroquery.mast import Observations\n",
    "from astropy.visualization import (simple_norm,LinearStretch)\n",
    "import pandas as pd"
   ]
  },
  {
   "cell_type": "code",
   "execution_count": 4,
   "id": "587fa7b2",
   "metadata": {},
   "outputs": [
    {
     "name": "stdout",
     "output_type": "stream",
     "text": [
      "0    int64\n",
      "dtype: object\n"
     ]
    }
   ],
   "source": [
    "#Open and read the unmatched pantheon dataset\n",
    "df = pd.read_csv('unmatched_pantheon.csv')\n",
    "vp = pd.read_csv('valid_points_index_list.csv')\n",
    "print(vp.dtypes)"
   ]
  },
  {
   "cell_type": "code",
   "execution_count": 6,
   "id": "209b3535",
   "metadata": {},
   "outputs": [
    {
     "name": "stdout",
     "output_type": "stream",
     "text": [
      "211.65662 -5.43942\n"
     ]
    },
    {
     "name": "stderr",
     "output_type": "stream",
     "text": [
      "WARNING: InputWarning: Coordinate string is being interpreted as an ICRS coordinate provided in degrees. [astroquery.utils.commons]\n"
     ]
    },
    {
     "name": "stdout",
     "output_type": "stream",
     "text": [
      " obsID   obs_collection dataproduct_type ... dataRights calib_level filters\n",
      "-------- -------------- ---------------- ... ---------- ----------- -------\n",
      "25885107            HST            image ...     PUBLIC           3   F160W\n",
      "25885107            HST            image ...     PUBLIC           3   F160W\n",
      "25887930            HST            image ...     PUBLIC           3   F160W\n",
      "25887930            HST            image ...     PUBLIC           3   F160W\n",
      "26071884            HST            image ...     PUBLIC           3   F160W\n",
      "26071884            HST            image ...     PUBLIC           3   F160W\n",
      "26074816            HST            image ...     PUBLIC           3   F160W\n",
      "26074816            HST            image ...     PUBLIC           3   F160W\n",
      "26078109            HST            image ...     PUBLIC           3   F160W\n",
      "26078109            HST            image ...     PUBLIC           3   F160W\n",
      "     ...            ...              ... ...        ...         ...     ...\n",
      "83228470            HST            image ...     PUBLIC           3   F160W\n",
      "83228470            HST            image ...     PUBLIC           3   F160W\n",
      "83228470            HST            image ...     PUBLIC           3   F160W\n",
      "83228471            HST            image ...     PUBLIC           3   F160W\n",
      "83228471            HST            image ...     PUBLIC           3   F160W\n",
      "83228471            HST            image ...     PUBLIC           3   F160W\n",
      "83228471            HST            image ...     PUBLIC           3   F160W\n",
      "83228471            HST            image ...     PUBLIC           3   F160W\n",
      "83228471            HST            image ...     PUBLIC           3   F160W\n",
      "83228471            HST            image ...     PUBLIC           3   F160W\n",
      "Length = 238 rows\n"
     ]
    }
   ],
   "source": [
    "resolved_coord_index = 12\n",
    "print(df['resolved_coord'][resolved_coord_index]) \n",
    "\n",
    "obs_table = Observations.query_criteria(coordinates=df['resolved_coord'][resolved_coord_index],\n",
    "                                            radius=\"0.006 deg\",\n",
    "                                            intentType = 'science',\n",
    "                                            filters = ['F1*'],\n",
    "                                            obs_collection=['HST'])\n",
    "obs_table = obs_table[obs_table['calib_level']==3]\n",
    "data_products = Observations.get_product_list(obs_table)\n",
    "data_products = data_products[data_products['calib_level'] == 3]\n",
    "data_products = data_products[data_products['productType'] == 'SCIENCE']\n",
    "print(data_products)"
   ]
  },
  {
   "cell_type": "code",
   "execution_count": 1,
   "id": "96bbb44c",
   "metadata": {},
   "outputs": [],
   "source": [
    "#Creating a function that will create a folder for the data (named the resolved coordinate) and keep the query there\n",
    "\n",
    "def save_images_supernova(resolved_coord_index):\n",
    "    \"\"\"\n",
    "    If there are images for the supernovae in JWST or HST at the resolved query, create a folder and keep the data there\n",
    "    Parameters:\n",
    "        resolved_coord_index: integer, the index number of the query\n",
    "    Returns:\n",
    "        Folder of Data at requested file path (pantheon_data_folder/{resolved coord})\n",
    "    \"\"\"\n",
    "    print(resolved_coord_index, df['resolved_coord'][resolved_coord_index])\n",
    "\n",
    "    #try the the query, if a error is thrown then print \"No Data Points\" and \"skip\" this data point, else make folder and store data\n",
    "    try:\n",
    "        obs_table = Observations.query_criteria(coordinates=df['resolved_coord'][resolved_coord_index],\n",
    "                                            radius=\"0.006 deg\",\n",
    "                                            intentType = 'science',\n",
    "                                            filters = ['F1*'],\n",
    "                                            obs_collection=['HST'])\n",
    "        obs_table = obs_table[obs_table['calib_level']==3]\n",
    "        data_products = Observations.get_product_list(obs_table)\n",
    "        data_products = data_products[data_products['calib_level'] == 3]\n",
    "        data_products = data_products[data_products['productType'] == 'SCIENCE']\n",
    "    except: \n",
    "        print(\"No Data Points :(\")\n",
    "        exit\n",
    "    else:\n",
    "        print(\"Has Data Points!\")\n",
    "        folder_path = \"pantheon_data_folder/{}\".format(df['SNID'][resolved_coord_index])\n",
    "        os.makedirs(folder_path, exist_ok=True)\n",
    "        manifest = Observations.download_products(data_products, download_dir=folder_path, extension=['fits'])\n",
    "        print(manifest)"
   ]
  },
  {
   "cell_type": "code",
   "execution_count": 2,
   "id": "518cafbe",
   "metadata": {},
   "outputs": [
    {
     "ename": "NameError",
     "evalue": "name 'vp' is not defined",
     "output_type": "error",
     "traceback": [
      "\u001b[31m---------------------------------------------------------------------------\u001b[39m",
      "\u001b[31mNameError\u001b[39m                                 Traceback (most recent call last)",
      "\u001b[36mCell\u001b[39m\u001b[36m \u001b[39m\u001b[32mIn[2]\u001b[39m\u001b[32m, line 1\u001b[39m\n\u001b[32m----> \u001b[39m\u001b[32m1\u001b[39m \u001b[38;5;28;01mfor\u001b[39;00m i \u001b[38;5;129;01min\u001b[39;00m \u001b[38;5;28mrange\u001b[39m(\u001b[38;5;28mlen\u001b[39m(\u001b[43mvp\u001b[49m[\u001b[33m'\u001b[39m\u001b[33m0\u001b[39m\u001b[33m'\u001b[39m])):\n\u001b[32m      2\u001b[39m     save_images_supernova(vp[\u001b[33m'\u001b[39m\u001b[33m0\u001b[39m\u001b[33m'\u001b[39m][i])\n",
      "\u001b[31mNameError\u001b[39m: name 'vp' is not defined"
     ]
    }
   ],
   "source": [
    "for i in range(len(vp['0'])):\n",
    "    save_images_supernova(vp['0'][i])"
   ]
  }
 ],
 "metadata": {
  "kernelspec": {
   "display_name": "Python 3",
   "language": "python",
   "name": "python3"
  },
  "language_info": {
   "codemirror_mode": {
    "name": "ipython",
    "version": 3
   },
   "file_extension": ".py",
   "mimetype": "text/x-python",
   "name": "python",
   "nbconvert_exporter": "python",
   "pygments_lexer": "ipython3",
   "version": "3.11.8"
  }
 },
 "nbformat": 4,
 "nbformat_minor": 5
}
