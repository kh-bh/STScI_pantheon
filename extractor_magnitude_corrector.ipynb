{
 "cells": [
  {
   "cell_type": "code",
   "execution_count": 2,
   "id": "49556fa5",
   "metadata": {},
   "outputs": [],
   "source": [
    "import pandas as pd\n",
    "import numpy as np"
   ]
  },
  {
   "cell_type": "code",
   "execution_count": 3,
   "id": "21023dc5",
   "metadata": {},
   "outputs": [
    {
     "name": "stdout",
     "output_type": "stream",
     "text": [
      "Indices of 5: (array([1, 4]),)\n"
     ]
    }
   ],
   "source": [
    "arr = np.array([1, 5, 2, 8, 5, 3])\n",
    "\n",
    "# Find indices where value is 5\n",
    "indices_of_five = np.where(arr == 5)\n",
    "print(f\"Indices of 5: {indices_of_five}\")"
   ]
  },
  {
   "cell_type": "code",
   "execution_count": 4,
   "id": "d60c45ee",
   "metadata": {},
   "outputs": [],
   "source": [
    "brightest_gal = pd.read_csv(\"data_files/brightest_galaxy.csv\")\n",
    "mag_calc = pd.read_csv(\"data_files/magnitude_calculated.csv\")\n",
    "pantheon_catalog = pd.read_csv(\"data_files/unmatched_pantheon.csv\")"
   ]
  },
  {
   "cell_type": "code",
   "execution_count": 7,
   "id": "a8bbfe6e",
   "metadata": {},
   "outputs": [],
   "source": [
    "data_dict = []\n",
    "for i in range(len(brightest_gal)):\n",
    "    for j in range(len(mag_calc)):\n",
    "        if brightest_gal['SNID'][i] == mag_calc['SNID'][j]:\n",
    "\n",
    "            SNID = brightest_gal['SNID'][i]\n",
    "            RA = brightest_gal['RA_Galaxy'][i]\n",
    "            Dec = brightest_gal['Dec_Galaxy'][i]\n",
    "            index = np.where(SNID == pantheon_catalog['SNID'])\n",
    "            z = pantheon_catalog['zhel'][index[0][0]]\n",
    "\n",
    "            H0 = 69.6\n",
    "            distance_mpc = (z * 3*(10**8)) / H0\n",
    "            d_pc = distance_mpc * 1e3\n",
    "            app_mag = mag_calc['Zeropoint AB'][j] + brightest_gal['Mag'][i]\n",
    "            abs_mag = app_mag - 5 * np.log10(d_pc/10)\n",
    "\n",
    "            i_mag = brightest_gal['Mag'][i]\n",
    "\n",
    "            flag = False\n",
    "\n",
    "            if (abs_mag > -12):\n",
    "                flag = True\n",
    "\n",
    "            if (i_mag == 99.0):\n",
    "                flag = True\n",
    "\n",
    "            info = {\n",
    "                \"SNID\": SNID,\n",
    "                \"File_key\": brightest_gal['File_key'][i],\n",
    "                \"Galaxy_RA\": RA,\n",
    "                \"Galaxy_Dec\": Dec,\n",
    "                \"Zeropoint\": mag_calc['Zeropoint AB'][j],\n",
    "                \"Instrumental_Mag\": i_mag,\n",
    "                \"Apparent_Magnitude\": app_mag,\n",
    "                \"Absolute_Magnitude\": abs_mag,\n",
    "                \"Flag\": flag\n",
    "                }\n",
    "\n",
    "            data_dict.append(info)\n",
    "            "
   ]
  },
  {
   "cell_type": "code",
   "execution_count": 8,
   "id": "0310ab34",
   "metadata": {},
   "outputs": [
    {
     "name": "stdout",
     "output_type": "stream",
     "text": [
      "CSV exported: corrected_mags.csv\n"
     ]
    }
   ],
   "source": [
    "output_csv = \"corrected_mags.csv\"\n",
    "\n",
    "df = pd.DataFrame(data_dict)\n",
    "df.to_csv(output_csv, index=False)\n",
    "print(f\"CSV exported: {output_csv}\")"
   ]
  }
 ],
 "metadata": {
  "kernelspec": {
   "display_name": "Python 3",
   "language": "python",
   "name": "python3"
  },
  "language_info": {
   "codemirror_mode": {
    "name": "ipython",
    "version": 3
   },
   "file_extension": ".py",
   "mimetype": "text/x-python",
   "name": "python",
   "nbconvert_exporter": "python",
   "pygments_lexer": "ipython3",
   "version": "3.11.8"
  }
 },
 "nbformat": 4,
 "nbformat_minor": 5
}
