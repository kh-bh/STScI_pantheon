{
 "cells": [
  {
   "cell_type": "code",
   "execution_count": 76,
   "id": "79cdae65",
   "metadata": {},
   "outputs": [],
   "source": [
    "import pandas as pd\n",
    "import numpy as np"
   ]
  },
  {
   "cell_type": "code",
   "execution_count": 77,
   "id": "8ec83100",
   "metadata": {},
   "outputs": [],
   "source": [
    "filename = '/home/bkhatri/STScI_pantheon/data_collection_files/data_files/fits_summary.csv'\n",
    "df = pd.read_csv(filename)"
   ]
  },
  {
   "cell_type": "code",
   "execution_count": 78,
   "id": "0855c908",
   "metadata": {},
   "outputs": [],
   "source": [
    "def select_and_return_keywords_pandas(search_column, keyword, return_column):\n",
    "    filtered_df = df[df[search_column].str.contains(keyword, na=False)]\n",
    "    return filtered_df[return_column].tolist()"
   ]
  },
  {
   "cell_type": "code",
   "execution_count": 79,
   "id": "bca9e6b3",
   "metadata": {},
   "outputs": [
    {
     "name": "stdout",
     "output_type": "stream",
     "text": [
      "{'ASASSN-16ip', 'PSNJ0107203', '2008R', '2011iv', '04D1sa', 'Aphrodite', 'Gabi', 'Sasquatch', '04D1kj', '1998aq', '2008ec', '2019ein', 'iPTF13ebh', 'Inanna', '2003hv', '2013dh', '2005dv', '2006ef', '2007cv', '06D3dt', '1997cn', '2006dd', '2008hs', 'Greenburg', 'AT2017cfd', '2000E', 'SN2016gfr', '2009Y', '2000dk', 'Manipogo', '1981D', 'Lancaster', '2006mr', '2005df', '2008ia', 'Ferguson', '2015bo', '2011fe', '2018aoz', 'Ramone', '1999ee', 'Jay', 'rutledge', '1998dh', 'SCP05D6', '1997E', '2008hv', 'Koekemoer', '1997', '2008L', '2004bd', 'AT2016eoa', '2008bc', '2006X', '2006kf', '2002cs', 'garner', 'SCP06C0', '2017erp', '2018gv', '2002fb', '2010gp', '1992bo', '2011hb', '2014bv', 'SN2016ajf', '2007gi', '2005cf', '2005M', '2000B', '2002dj', '2012ij', 'PS1-14xw', '2007au', '2010Y', '2002cf', '1999gd', '2010el', 'ASASSN-16ci', '1999ej', '1992A', '1995D', 'Elvis', 'Borg', '2007on', '2014J', 'Eagle', 'Qiqirn', '2008bf', 'SCP05D0', '380199', 'ATLAS16dod', '03D3ay', '2015bp', 'Primo', '2008A', '2016coj', '05D3mh', '2005ki', '2005al', 'SN2017drh'}\n"
     ]
    }
   ],
   "source": [
    "result = select_and_return_keywords_pandas('Filter', 'F110W', 'SNID')\n",
    "F110W_set = set(result)\n",
    "print(F110W_set)"
   ]
  },
  {
   "cell_type": "code",
   "execution_count": 80,
   "id": "691d4460",
   "metadata": {},
   "outputs": [
    {
     "name": "stdout",
     "output_type": "stream",
     "text": [
      "{'2012fr', 'Borg', 'Greenburg', '05D2dw', '2021hpr', '06D3fp', 'Aphrodite', 'Eagle', 'Gabi', 'Qiqirn', 'Sasquatch', '2001el', 'carter', 'Hawk', 'Manipogo', 'SCP06C0', 'garner', 'Lancaster', 'geta', '2003du', '2012ht', 'stone', '2012Z', '2017erp', '2019np', '2018gv', 'washington', '2013dy', '2002jg', 'Ferguson', 'Primo', 'Anguta', 'colfax', 'Inanna', '2017cbv', '2012cg', '2011fe', '2011by', 'Ramone', '2007sr', '2005cf', '2007af', '2021pit', 'Jay', 'Frodo', 'Rakke', '2015F', '1997'}\n"
     ]
    }
   ],
   "source": [
    "result = select_and_return_keywords_pandas('Filter', 'F105W', 'SNID')\n",
    "F105W_set = set(result)\n",
    "print(F105W_set)"
   ]
  },
  {
   "cell_type": "code",
   "execution_count": 81,
   "id": "db356d13",
   "metadata": {},
   "outputs": [
    {
     "name": "stdout",
     "output_type": "stream",
     "text": [
      "['Borg', 'Greenburg', 'Aphrodite', 'Eagle', 'Gabi', 'Qiqirn', 'Sasquatch', 'Manipogo', 'SCP06C0', 'garner']\n"
     ]
    }
   ],
   "source": [
    "overlap = F110W_set.intersection(F105W_set)\n",
    "supernova = list(overlap)[:10]\n",
    "print(supernova)"
   ]
  },
  {
   "cell_type": "code",
   "execution_count": 82,
   "id": "e3e34f4f",
   "metadata": {},
   "outputs": [
    {
     "name": "stdout",
     "output_type": "stream",
     "text": [
      "3077\n",
      "3379\n"
     ]
    }
   ],
   "source": [
    "Borg = np.where(df['SNID'] == 'Borg')\n",
    "print(Borg[0][0])\n",
    "print(Borg[0][-1])"
   ]
  },
  {
   "cell_type": "code",
   "execution_count": 83,
   "id": "7fc3fe52",
   "metadata": {},
   "outputs": [
    {
     "name": "stdout",
     "output_type": "stream",
     "text": [
      "11376\n",
      "11893\n"
     ]
    }
   ],
   "source": [
    "Greenburg = np.where(df['SNID'] == 'Greenburg')\n",
    "print(Greenburg[0][0])\n",
    "print(Greenburg[0][-1])"
   ]
  },
  {
   "cell_type": "code",
   "execution_count": 84,
   "id": "6a834d1f",
   "metadata": {},
   "outputs": [
    {
     "name": "stdout",
     "output_type": "stream",
     "text": [
      "3684\n",
      "5114\n"
     ]
    }
   ],
   "source": [
    "Aphrodite = np.where(df['SNID'] == 'Aphrodite')\n",
    "print(Aphrodite[0][0])\n",
    "print(Aphrodite[0][-1])"
   ]
  },
  {
   "cell_type": "code",
   "execution_count": 85,
   "id": "1a50dcde",
   "metadata": {},
   "outputs": [
    {
     "name": "stdout",
     "output_type": "stream",
     "text": [
      "1141\n",
      "1472\n"
     ]
    }
   ],
   "source": [
    "Eagle = np.where(df['SNID'] == 'Eagle')\n",
    "print(Eagle[0][0])\n",
    "print(Eagle[0][-1])"
   ]
  },
  {
   "cell_type": "code",
   "execution_count": 86,
   "id": "fa5b17ea",
   "metadata": {},
   "outputs": [
    {
     "name": "stdout",
     "output_type": "stream",
     "text": [
      "6700\n",
      "6920\n"
     ]
    }
   ],
   "source": [
    "Gabi = np.where(df['SNID'] == 'Gabi')\n",
    "print(Gabi[0][0])\n",
    "print(Gabi[0][-1])"
   ]
  },
  {
   "cell_type": "code",
   "execution_count": 87,
   "id": "a75ff054",
   "metadata": {},
   "outputs": [
    {
     "name": "stdout",
     "output_type": "stream",
     "text": [
      "3427\n",
      "3527\n"
     ]
    }
   ],
   "source": [
    "Qiqirn = np.where(df['SNID'] == 'Qiqirn')\n",
    "print(Qiqirn[0][0])\n",
    "print(Qiqirn[0][-1])"
   ]
  },
  {
   "cell_type": "code",
   "execution_count": 88,
   "id": "b42ecbe7",
   "metadata": {},
   "outputs": [
    {
     "name": "stdout",
     "output_type": "stream",
     "text": [
      "1787\n",
      "1925\n"
     ]
    }
   ],
   "source": [
    "Sasquatch = np.where(df['SNID'] == 'Sasquatch')\n",
    "print(Sasquatch[0][0])\n",
    "print(Sasquatch[0][-1])"
   ]
  },
  {
   "cell_type": "code",
   "execution_count": 89,
   "id": "d2ad8c26",
   "metadata": {},
   "outputs": [
    {
     "name": "stdout",
     "output_type": "stream",
     "text": [
      "5147\n",
      "5585\n"
     ]
    }
   ],
   "source": [
    "Manipogo = np.where(df['SNID'] == 'Manipogo')\n",
    "print(Manipogo[0][0])\n",
    "print(Manipogo[0][-1])"
   ]
  },
  {
   "cell_type": "code",
   "execution_count": 90,
   "id": "5c1dc57c",
   "metadata": {},
   "outputs": [
    {
     "name": "stdout",
     "output_type": "stream",
     "text": [
      "2705\n",
      "2743\n"
     ]
    }
   ],
   "source": [
    "SCP06C0 = np.where(df['SNID'] == 'SCP06C0')\n",
    "print(SCP06C0[0][0])\n",
    "print(SCP06C0[0][-1])"
   ]
  },
  {
   "cell_type": "code",
   "execution_count": 91,
   "id": "8f87877e",
   "metadata": {},
   "outputs": [
    {
     "name": "stdout",
     "output_type": "stream",
     "text": [
      "14500\n",
      "14924\n"
     ]
    }
   ],
   "source": [
    "garner = np.where(df['SNID'] == 'garner')\n",
    "print(garner[0][0])\n",
    "print(garner[0][-1])"
   ]
  }
 ],
 "metadata": {
  "kernelspec": {
   "display_name": ".conda",
   "language": "python",
   "name": "python3"
  },
  "language_info": {
   "codemirror_mode": {
    "name": "ipython",
    "version": 3
   },
   "file_extension": ".py",
   "mimetype": "text/x-python",
   "name": "python",
   "nbconvert_exporter": "python",
   "pygments_lexer": "ipython3",
   "version": "3.13.5"
  }
 },
 "nbformat": 4,
 "nbformat_minor": 5
}
