{
 "cells": [
  {
   "cell_type": "code",
   "execution_count": 3,
   "id": "d62d0a24",
   "metadata": {},
   "outputs": [],
   "source": [
    "import pandas as pd\n",
    "import numpy as np"
   ]
  },
  {
   "cell_type": "code",
   "execution_count": 4,
   "id": "385e260e",
   "metadata": {},
   "outputs": [],
   "source": [
    "df_brightest = pd.read_csv('data_files/brightest_galaxy.csv')\n",
    "df_fits = pd.read_csv('data_files/fits_summary.csv')"
   ]
  },
  {
   "cell_type": "code",
   "execution_count": 9,
   "id": "42f92a87",
   "metadata": {},
   "outputs": [],
   "source": [
    "merged_df = pd.merge(df_brightest, df_fits, on=['SNID', 'File_key'], how='inner')\n",
    "merged_df = merged_df.drop('filename', axis=1)"
   ]
  },
  {
   "cell_type": "code",
   "execution_count": 10,
   "id": "6e1aca42",
   "metadata": {},
   "outputs": [
    {
     "name": "stdout",
     "output_type": "stream",
     "text": [
      "CSV exported: merged_file.csv\n"
     ]
    }
   ],
   "source": [
    "output_csv = \"merged_file.csv\"\n",
    "merged_df.to_csv(output_csv, index=False)\n",
    "print(f\"CSV exported: {output_csv}\")"
   ]
  }
 ],
 "metadata": {
  "kernelspec": {
   "display_name": "Python 3",
   "language": "python",
   "name": "python3"
  },
  "language_info": {
   "codemirror_mode": {
    "name": "ipython",
    "version": 3
   },
   "file_extension": ".py",
   "mimetype": "text/x-python",
   "name": "python",
   "nbconvert_exporter": "python",
   "pygments_lexer": "ipython3",
   "version": "3.11.8"
  }
 },
 "nbformat": 4,
 "nbformat_minor": 5
}
