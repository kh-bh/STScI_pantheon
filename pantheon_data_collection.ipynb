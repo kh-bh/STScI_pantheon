{
 "cells": [
  {
   "cell_type": "markdown",
   "id": "21602a2d",
   "metadata": {},
   "source": [
    "# Pantheon Data Collection"
   ]
  },
  {
   "cell_type": "code",
   "execution_count": 1,
   "id": "0242faf2",
   "metadata": {},
   "outputs": [
    {
     "name": "stdout",
     "output_type": "stream",
     "text": [
      "\n",
      "\n",
      "The following task in the stsci.skypac package can be run with TEAL:\n",
      "                                    skymatch                                    \n"
     ]
    }
   ],
   "source": [
    "import sys,os,glob\n",
    "from astropy.io import fits\n",
    "from astropy.table import Table\n",
    "from astropy.nddata import extract_array\n",
    "from astropy.coordinates import SkyCoord\n",
    "from astropy import wcs\n",
    "from astropy.wcs.utils import skycoord_to_pixel\n",
    "from astropy import units as u\n",
    "import numpy as np\n",
    "import matplotlib.pyplot as plt\n",
    "from astroquery.mast import Observations\n",
    "from astropy.visualization import (simple_norm,LinearStretch)\n",
    "import pandas as pd\n",
    "import space_phot"
   ]
  },
  {
   "cell_type": "code",
   "execution_count": 2,
   "id": "b29a1419",
   "metadata": {},
   "outputs": [
    {
     "name": "stdout",
     "output_type": "stream",
     "text": [
      "SNID           object\n",
      "IAUC           object\n",
      "host           object\n",
      "RA            float64\n",
      "Dec           float64\n",
      "RA_host       float64\n",
      "Dec_host      float64\n",
      "zhel          float64\n",
      "zcmb          float64\n",
      "zhelerr       float64\n",
      "zHD           float64\n",
      "zHDerr        float64\n",
      "PV              int64\n",
      "vpecerr         int64\n",
      "RA_group      float64\n",
      "Dec_group     float64\n",
      "zhel_group    float64\n",
      "zcmb_group    float64\n",
      "zHD_group     float64\n",
      "PV_group      float64\n",
      "in_group        int64\n",
      "has_host        int64\n",
      "is_SNz          int64\n",
      "dtype: object\n",
      "SNID          object\n",
      "IAUC          object\n",
      "host          object\n",
      "RA            object\n",
      "Dec           object\n",
      "RA_host       object\n",
      "Dec_host      object\n",
      "zhel          object\n",
      "zcmb          object\n",
      "zhelerr       object\n",
      "zHD           object\n",
      "zHDerr        object\n",
      "PV            object\n",
      "vpecerr       object\n",
      "RA_group      object\n",
      "Dec_group     object\n",
      "zhel_group    object\n",
      "zcmb_group    object\n",
      "zHD_group     object\n",
      "PV_group      object\n",
      "in_group      object\n",
      "has_host      object\n",
      "is_SNz        object\n",
      "dtype: object\n"
     ]
    }
   ],
   "source": [
    "#Open and read the unmatched pantheon dataset\n",
    "df = pd.read_csv('unmatched_pantheon(in).csv')\n",
    "\n",
    "print(df.dtypes)\n",
    "df_string = df.astype(str)\n",
    "print(df_string.dtypes)"
   ]
  },
  {
   "cell_type": "code",
   "execution_count": 3,
   "id": "ca040611",
   "metadata": {},
   "outputs": [
    {
     "name": "stdout",
     "output_type": "stream",
     "text": [
      "0         167.62425 55.16083\n",
      "1         248.61546 76.02967\n",
      "2          358.38658 8.11739\n",
      "3          21.34542 34.02514\n",
      "4         144.48792 25.49481\n",
      "                ...         \n",
      "1856     53.259174 -26.85409\n",
      "1857     52.695011 -28.64933\n",
      "1858    54.343502 -28.826429\n",
      "1859     55.340694 -29.14934\n",
      "1860    52.889896 -28.912092\n",
      "Name: resolved_coord, Length: 1861, dtype: object\n"
     ]
    }
   ],
   "source": [
    "#MAST takes RA and Dec as a string, creating the string representation of each supernovae in a new column called \"resolved_coord\"\n",
    "df = df.assign(resolved_coord = df_string['RA'] + \" \" + df_string['Dec'])\n",
    "print(df['resolved_coord'])"
   ]
  },
  {
   "cell_type": "code",
   "execution_count": 4,
   "id": "0b45f836",
   "metadata": {},
   "outputs": [
    {
     "name": "stdout",
     "output_type": "stream",
     "text": [
      "167.62425 55.16083\n",
      "intentType obs_collection provenance_name ... objID objID1 distance\n",
      "---------- -------------- --------------- ... ----- ------ --------\n"
     ]
    }
   ],
   "source": [
    "#Testing the observation table prior to creating a query\n",
    "i = 0\n",
    "print(df['resolved_coord'][i]) \n",
    "\n",
    "obs_table = Observations.query_criteria(coordinates=df['resolved_coord'][i],\n",
    "                                        radius=\"0.1 deg\",\n",
    "                                        intentType = 'science',\n",
    "                                        obs_collection=['HST', 'JWST'])\n",
    "print(obs_table)"
   ]
  },
  {
   "cell_type": "code",
   "execution_count": 5,
   "id": "ba9b6ced",
   "metadata": {},
   "outputs": [],
   "source": [
    "#Creating a function that will create a folder for the data (named the resolved coordinate) and keep the query there\n",
    "def save_images_supernova(resolved_coord_index):\n",
    "    \"\"\"\n",
    "    If there are images for the supernovae in JWST or HST at the resolved query, create a folder and keep the data there\n",
    "    Parameters:\n",
    "        resolved_coord_index: integer, the index number of the query\n",
    "    Returns:\n",
    "        Folder of Data at requested file path (pantheon_data_folder/{resolved coord})\n",
    "    \"\"\"\n",
    "    print(resolved_coord_index, df['resolved_coord'][resolved_coord_index])\n",
    "\n",
    "    #try the the query, if a error is thrown then print \"No Data Points\" and \"skip\" this data point, else make folder and store data\n",
    "    try:\n",
    "        obs_table = Observations.query_criteria(coordinates=df['resolved_coord'][resolved_coord_index],\n",
    "                                            radius=\"0.006 deg\",\n",
    "                                            intentType = 'science',\n",
    "                                            obs_collection=['HST', 'JWST'])\n",
    "        data_products = Observations.get_product_list(obs_table)\n",
    "    except: \n",
    "        print(\"No Data Points\")\n",
    "        exit\n",
    "    else:\n",
    "        folder_path = \"pantheon_data_folder/{}\".format(df['resolved_coord'][resolved_coord_index])\n",
    "        os.makedirs(folder_path, exist_ok=True)\n",
    "        #Fits is what we need for space_phot, jpg to see image\n",
    "        manifest = Observations.download_products(data_products, download_dir=folder_path, extension=['fits', 'jpg'])\n",
    "        print(manifest)"
   ]
  },
  {
   "cell_type": "code",
   "execution_count": null,
   "id": "564d28de",
   "metadata": {},
   "outputs": [
    {
     "name": "stdout",
     "output_type": "stream",
     "text": [
      "10 216.16883 26.62631\n"
     ]
    },
    {
     "name": "stderr",
     "output_type": "stream",
     "text": [
      "2025-05-29 11:30:40,714 - stpipe - INFO - 122 of 203 products were duplicates. Only returning 81 unique product(s).\n",
      "2025-05-29 11:30:40,734 - stpipe - INFO - Found cached file pantheon_data_folder/216.16883 26.62631/mastDownload/HLA/hst_07281_37_wfpc2_f555w_pc_01/hst_07281_37_wfpc2_f555w_pc_01_drz.fits with expected size 4443840.\n",
      "2025-05-29 11:30:40,792 - stpipe - INFO - Found cached file pantheon_data_folder/216.16883 26.62631/mastDownload/HLA/hst_07281_37_wfpc2_f555w_pc/hst_07281_37_wfpc2_f555w_pc_drz.fits with expected size 13296960.\n",
      "2025-05-29 11:30:40,838 - stpipe - INFO - Found cached file pantheon_data_folder/216.16883 26.62631/mastDownload/HLA/hst_07281_37_wfpc2_f555w_wf_01/hst_07281_37_wfpc2_f555w_wf_01_drz.fits with expected size 18532800.\n",
      "2025-05-29 11:30:40,897 - stpipe - INFO - Found cached file pantheon_data_folder/216.16883 26.62631/mastDownload/HLA/hst_07281_37_wfpc2_f555w_wf/hst_07281_37_wfpc2_f555w_wf_drz.fits with expected size 55543680.\n"
     ]
    },
    {
     "name": "stdout",
     "output_type": "stream",
     "text": [
      "INFO: 122 of 203 products were duplicates. Only returning 81 unique product(s). [astroquery.mast.utils]\n",
      "INFO: Found cached file pantheon_data_folder/216.16883 26.62631/mastDownload/HLA/hst_07281_37_wfpc2_f555w_pc_01/hst_07281_37_wfpc2_f555w_pc_01_drz.fits with expected size 4443840. [astroquery.query]\n",
      "INFO: Found cached file pantheon_data_folder/216.16883 26.62631/mastDownload/HLA/hst_07281_37_wfpc2_f555w_pc/hst_07281_37_wfpc2_f555w_pc_drz.fits with expected size 13296960. [astroquery.query]\n",
      "INFO: Found cached file pantheon_data_folder/216.16883 26.62631/mastDownload/HLA/hst_07281_37_wfpc2_f555w_wf_01/hst_07281_37_wfpc2_f555w_wf_01_drz.fits with expected size 18532800. [astroquery.query]\n",
      "INFO: Found cached file pantheon_data_folder/216.16883 26.62631/mastDownload/HLA/hst_07281_37_wfpc2_f555w_wf/hst_07281_37_wfpc2_f555w_wf_drz.fits with expected size 55543680. [astroquery.query]\n"
     ]
    },
    {
     "name": "stderr",
     "output_type": "stream",
     "text": [
      "2025-05-29 11:30:40,958 - stpipe - INFO - Found cached file pantheon_data_folder/216.16883 26.62631/mastDownload/HLA/hst_07281_37_wfpc2_f814w_pc_01/hst_07281_37_wfpc2_f814w_pc_01_drz.fits with expected size 4443840.\n",
      "2025-05-29 11:30:41,000 - stpipe - INFO - Found cached file pantheon_data_folder/216.16883 26.62631/mastDownload/HLA/hst_07281_37_wfpc2_f814w_pc/hst_07281_37_wfpc2_f814w_pc_drz.fits with expected size 13296960.\n",
      "2025-05-29 11:30:41,056 - stpipe - INFO - Found cached file pantheon_data_folder/216.16883 26.62631/mastDownload/HLA/hst_07281_37_wfpc2_f814w_wf_01/hst_07281_37_wfpc2_f814w_wf_01_drz.fits with expected size 18532800.\n",
      "2025-05-29 11:30:41,096 - stpipe - INFO - Found cached file pantheon_data_folder/216.16883 26.62631/mastDownload/HLA/hst_07281_37_wfpc2_f814w_wf/hst_07281_37_wfpc2_f814w_wf_drz.fits with expected size 55543680.\n",
      "2025-05-29 11:30:41,135 - stpipe - INFO - Found cached file pantheon_data_folder/216.16883 26.62631/mastDownload/HLA/hst_07281_37_wfpc2_total_wf/hst_07281_37_wfpc2_total_wf_drz.fits with expected size 55543680.\n"
     ]
    },
    {
     "name": "stdout",
     "output_type": "stream",
     "text": [
      "INFO: Found cached file pantheon_data_folder/216.16883 26.62631/mastDownload/HLA/hst_07281_37_wfpc2_f814w_pc_01/hst_07281_37_wfpc2_f814w_pc_01_drz.fits with expected size 4443840. [astroquery.query]\n",
      "INFO: Found cached file pantheon_data_folder/216.16883 26.62631/mastDownload/HLA/hst_07281_37_wfpc2_f814w_pc/hst_07281_37_wfpc2_f814w_pc_drz.fits with expected size 13296960. [astroquery.query]\n",
      "INFO: Found cached file pantheon_data_folder/216.16883 26.62631/mastDownload/HLA/hst_07281_37_wfpc2_f814w_wf_01/hst_07281_37_wfpc2_f814w_wf_01_drz.fits with expected size 18532800. [astroquery.query]\n",
      "INFO: Found cached file pantheon_data_folder/216.16883 26.62631/mastDownload/HLA/hst_07281_37_wfpc2_f814w_wf/hst_07281_37_wfpc2_f814w_wf_drz.fits with expected size 55543680. [astroquery.query]\n",
      "INFO: Found cached file pantheon_data_folder/216.16883 26.62631/mastDownload/HLA/hst_07281_37_wfpc2_total_wf/hst_07281_37_wfpc2_total_wf_drz.fits with expected size 55543680. [astroquery.query]\n"
     ]
    },
    {
     "name": "stderr",
     "output_type": "stream",
     "text": [
      "2025-05-29 11:30:41,508 - stpipe - INFO - Found cached file pantheon_data_folder/216.16883 26.62631/mastDownload/HLA/hst_07281_37_wfpc2_f555w_pc/hst_07281_37_wfpc2_f555w_pc_drz.jpg.\n"
     ]
    },
    {
     "name": "stdout",
     "output_type": "stream",
     "text": [
      "INFO: Found cached file pantheon_data_folder/216.16883 26.62631/mastDownload/HLA/hst_07281_37_wfpc2_f555w_pc/hst_07281_37_wfpc2_f555w_pc_drz.jpg. [astroquery.query]\n"
     ]
    },
    {
     "name": "stderr",
     "output_type": "stream",
     "text": [
      "2025-05-29 11:30:41,762 - stpipe - INFO - Found cached file pantheon_data_folder/216.16883 26.62631/mastDownload/HLA/hst_07281_37_wfpc2_f555w_pc_01/hst_07281_37_wfpc2_f555w_pc_01_drz.jpg.\n"
     ]
    },
    {
     "name": "stdout",
     "output_type": "stream",
     "text": [
      "INFO: Found cached file pantheon_data_folder/216.16883 26.62631/mastDownload/HLA/hst_07281_37_wfpc2_f555w_pc_01/hst_07281_37_wfpc2_f555w_pc_01_drz.jpg. [astroquery.query]\n"
     ]
    },
    {
     "name": "stderr",
     "output_type": "stream",
     "text": [
      "2025-05-29 11:30:42,009 - stpipe - INFO - Found cached file pantheon_data_folder/216.16883 26.62631/mastDownload/HLA/hst_07281_37_wfpc2_f555w_wf/hst_07281_37_wfpc2_f555w_wf_drz.jpg.\n"
     ]
    },
    {
     "name": "stdout",
     "output_type": "stream",
     "text": [
      "INFO: Found cached file pantheon_data_folder/216.16883 26.62631/mastDownload/HLA/hst_07281_37_wfpc2_f555w_wf/hst_07281_37_wfpc2_f555w_wf_drz.jpg. [astroquery.query]\n"
     ]
    },
    {
     "name": "stderr",
     "output_type": "stream",
     "text": [
      "2025-05-29 11:30:42,266 - stpipe - INFO - Found cached file pantheon_data_folder/216.16883 26.62631/mastDownload/HLA/hst_07281_37_wfpc2_f555w_wf_01/hst_07281_37_wfpc2_f555w_wf_01_drz.jpg.\n"
     ]
    },
    {
     "name": "stdout",
     "output_type": "stream",
     "text": [
      "INFO: Found cached file pantheon_data_folder/216.16883 26.62631/mastDownload/HLA/hst_07281_37_wfpc2_f555w_wf_01/hst_07281_37_wfpc2_f555w_wf_01_drz.jpg. [astroquery.query]\n"
     ]
    },
    {
     "name": "stderr",
     "output_type": "stream",
     "text": [
      "2025-05-29 11:30:42,535 - stpipe - INFO - Found cached file pantheon_data_folder/216.16883 26.62631/mastDownload/HLA/hst_07281_37_wfpc2_f814w_pc/hst_07281_37_wfpc2_f814w_pc_drz.jpg.\n"
     ]
    },
    {
     "name": "stdout",
     "output_type": "stream",
     "text": [
      "INFO: Found cached file pantheon_data_folder/216.16883 26.62631/mastDownload/HLA/hst_07281_37_wfpc2_f814w_pc/hst_07281_37_wfpc2_f814w_pc_drz.jpg. [astroquery.query]\n"
     ]
    },
    {
     "name": "stderr",
     "output_type": "stream",
     "text": [
      "2025-05-29 11:30:42,788 - stpipe - INFO - Found cached file pantheon_data_folder/216.16883 26.62631/mastDownload/HLA/hst_07281_37_wfpc2_f814w_pc_01/hst_07281_37_wfpc2_f814w_pc_01_drz.jpg.\n"
     ]
    },
    {
     "name": "stdout",
     "output_type": "stream",
     "text": [
      "INFO: Found cached file pantheon_data_folder/216.16883 26.62631/mastDownload/HLA/hst_07281_37_wfpc2_f814w_pc_01/hst_07281_37_wfpc2_f814w_pc_01_drz.jpg. [astroquery.query]\n"
     ]
    },
    {
     "name": "stderr",
     "output_type": "stream",
     "text": [
      "2025-05-29 11:30:43,049 - stpipe - INFO - Found cached file pantheon_data_folder/216.16883 26.62631/mastDownload/HLA/hst_07281_37_wfpc2_f814w_wf/hst_07281_37_wfpc2_f814w_wf_drz.jpg.\n"
     ]
    },
    {
     "name": "stdout",
     "output_type": "stream",
     "text": [
      "INFO: Found cached file pantheon_data_folder/216.16883 26.62631/mastDownload/HLA/hst_07281_37_wfpc2_f814w_wf/hst_07281_37_wfpc2_f814w_wf_drz.jpg. [astroquery.query]\n"
     ]
    },
    {
     "name": "stderr",
     "output_type": "stream",
     "text": [
      "2025-05-29 11:30:43,323 - stpipe - INFO - Found cached file pantheon_data_folder/216.16883 26.62631/mastDownload/HLA/hst_07281_37_wfpc2_f814w_wf_01/hst_07281_37_wfpc2_f814w_wf_01_drz.jpg.\n"
     ]
    },
    {
     "name": "stdout",
     "output_type": "stream",
     "text": [
      "INFO: Found cached file pantheon_data_folder/216.16883 26.62631/mastDownload/HLA/hst_07281_37_wfpc2_f814w_wf_01/hst_07281_37_wfpc2_f814w_wf_01_drz.jpg. [astroquery.query]\n"
     ]
    },
    {
     "name": "stderr",
     "output_type": "stream",
     "text": [
      "2025-05-29 11:30:43,699 - stpipe - INFO - Found cached file pantheon_data_folder/216.16883 26.62631/mastDownload/HLA/hst_07281_37_wfpc2_total_wf/hst_07281_37_wfpc2_total_wf_drz.jpg.\n",
      "2025-05-29 11:30:43,746 - stpipe - INFO - Found cached file pantheon_data_folder/216.16883 26.62631/mastDownload/HST/hst_7281_37_wfpc2_pc_f555w_u3ws3701/hst_7281_37_wfpc2_pc_f555w_u3ws3701_drz.fits with expected size 262656000.\n",
      "2025-05-29 11:30:43,785 - stpipe - INFO - Found cached file pantheon_data_folder/216.16883 26.62631/mastDownload/HST/hst_7281_37_wfpc2_pc_f555w_u3ws3701/hst_7281_37_wfpc2_pc_f555w_u3ws3701_drz.jpg with expected size 1204701.\n",
      "2025-05-29 11:30:43,837 - stpipe - INFO - Found cached file pantheon_data_folder/216.16883 26.62631/mastDownload/HST/hst_7281_37_wfpc2_pc_f555w_u3ws3701/hst_7281_37_wfpc2_pc_f555w_u3ws3701_flt.fits with expected size 25922880.\n",
      "2025-05-29 11:30:43,874 - stpipe - INFO - Found cached file pantheon_data_folder/216.16883 26.62631/mastDownload/HST/hst_7281_37_wfpc2_pc_f555w_u3ws3701/hst_7281_37_wfpc2_pc_f555w_u3ws3701_hlet.fits with expected size 34560.\n"
     ]
    },
    {
     "name": "stdout",
     "output_type": "stream",
     "text": [
      "INFO: Found cached file pantheon_data_folder/216.16883 26.62631/mastDownload/HLA/hst_07281_37_wfpc2_total_wf/hst_07281_37_wfpc2_total_wf_drz.jpg. [astroquery.query]\n",
      "INFO: Found cached file pantheon_data_folder/216.16883 26.62631/mastDownload/HST/hst_7281_37_wfpc2_pc_f555w_u3ws3701/hst_7281_37_wfpc2_pc_f555w_u3ws3701_drz.fits with expected size 262656000. [astroquery.query]\n",
      "INFO: Found cached file pantheon_data_folder/216.16883 26.62631/mastDownload/HST/hst_7281_37_wfpc2_pc_f555w_u3ws3701/hst_7281_37_wfpc2_pc_f555w_u3ws3701_drz.jpg with expected size 1204701. [astroquery.query]\n",
      "INFO: Found cached file pantheon_data_folder/216.16883 26.62631/mastDownload/HST/hst_7281_37_wfpc2_pc_f555w_u3ws3701/hst_7281_37_wfpc2_pc_f555w_u3ws3701_flt.fits with expected size 25922880. [astroquery.query]\n",
      "INFO: Found cached file pantheon_data_folder/216.16883 26.62631/mastDownload/HST/hst_7281_37_wfpc2_pc_f555w_u3ws3701/hst_7281_37_wfpc2_pc_f555w_u3ws3701_hlet.fits with expected size 34560. [astroquery.query]\n"
     ]
    },
    {
     "name": "stderr",
     "output_type": "stream",
     "text": [
      "2025-05-29 11:30:43,916 - stpipe - INFO - Found cached file pantheon_data_folder/216.16883 26.62631/mastDownload/HST/hst_7281_37_wfpc2_pc_f555w_u3ws37/hst_7281_37_wfpc2_pc_f555w_u3ws37_drz.fits with expected size 262656000.\n",
      "2025-05-29 11:30:43,968 - stpipe - INFO - Found cached file pantheon_data_folder/216.16883 26.62631/mastDownload/HST/hst_7281_37_wfpc2_pc_f555w_u3ws37/hst_7281_37_wfpc2_pc_f555w_u3ws37_drz.jpg with expected size 1204701.\n",
      "2025-05-29 11:30:44,007 - stpipe - INFO - Found cached file pantheon_data_folder/216.16883 26.62631/mastDownload/HST/hst_7281_37_wfpc2_pc_f814w_u3ws3702/hst_7281_37_wfpc2_pc_f814w_u3ws3702_drz.fits with expected size 262656000.\n",
      "2025-05-29 11:30:44,047 - stpipe - INFO - Found cached file pantheon_data_folder/216.16883 26.62631/mastDownload/HST/hst_7281_37_wfpc2_pc_f814w_u3ws3702/hst_7281_37_wfpc2_pc_f814w_u3ws3702_drz.jpg with expected size 960564.\n",
      "2025-05-29 11:30:44,091 - stpipe - INFO - Found cached file pantheon_data_folder/216.16883 26.62631/mastDownload/HST/hst_7281_37_wfpc2_pc_f814w_u3ws3702/hst_7281_37_wfpc2_pc_f814w_u3ws3702_flt.fits with expected size 25922880.\n"
     ]
    },
    {
     "name": "stdout",
     "output_type": "stream",
     "text": [
      "INFO: Found cached file pantheon_data_folder/216.16883 26.62631/mastDownload/HST/hst_7281_37_wfpc2_pc_f555w_u3ws37/hst_7281_37_wfpc2_pc_f555w_u3ws37_drz.fits with expected size 262656000. [astroquery.query]\n",
      "INFO: Found cached file pantheon_data_folder/216.16883 26.62631/mastDownload/HST/hst_7281_37_wfpc2_pc_f555w_u3ws37/hst_7281_37_wfpc2_pc_f555w_u3ws37_drz.jpg with expected size 1204701. [astroquery.query]\n",
      "INFO: Found cached file pantheon_data_folder/216.16883 26.62631/mastDownload/HST/hst_7281_37_wfpc2_pc_f814w_u3ws3702/hst_7281_37_wfpc2_pc_f814w_u3ws3702_drz.fits with expected size 262656000. [astroquery.query]\n",
      "INFO: Found cached file pantheon_data_folder/216.16883 26.62631/mastDownload/HST/hst_7281_37_wfpc2_pc_f814w_u3ws3702/hst_7281_37_wfpc2_pc_f814w_u3ws3702_drz.jpg with expected size 960564. [astroquery.query]\n",
      "INFO: Found cached file pantheon_data_folder/216.16883 26.62631/mastDownload/HST/hst_7281_37_wfpc2_pc_f814w_u3ws3702/hst_7281_37_wfpc2_pc_f814w_u3ws3702_flt.fits with expected size 25922880. [astroquery.query]\n"
     ]
    },
    {
     "name": "stderr",
     "output_type": "stream",
     "text": [
      "2025-05-29 11:30:44,128 - stpipe - INFO - Found cached file pantheon_data_folder/216.16883 26.62631/mastDownload/HST/hst_7281_37_wfpc2_pc_f814w_u3ws3702/hst_7281_37_wfpc2_pc_f814w_u3ws3702_hlet.fits with expected size 34560.\n",
      "2025-05-29 11:30:44,209 - stpipe - INFO - Found cached file pantheon_data_folder/216.16883 26.62631/mastDownload/HST/hst_7281_37_wfpc2_pc_f814w_u3ws37/hst_7281_37_wfpc2_pc_f814w_u3ws37_drz.fits with expected size 262656000.\n",
      "2025-05-29 11:30:44,264 - stpipe - INFO - Found cached file pantheon_data_folder/216.16883 26.62631/mastDownload/HST/hst_7281_37_wfpc2_pc_f814w_u3ws37/hst_7281_37_wfpc2_pc_f814w_u3ws37_drz.jpg with expected size 959155.\n",
      "2025-05-29 11:30:44,306 - stpipe - INFO - Found cached file pantheon_data_folder/216.16883 26.62631/mastDownload/HST/hst_7281_37_wfpc2_pc_total_u3ws37/hst_7281_37_wfpc2_pc_total_u3ws37_drz.fits with expected size 262670400.\n"
     ]
    },
    {
     "name": "stdout",
     "output_type": "stream",
     "text": [
      "INFO: Found cached file pantheon_data_folder/216.16883 26.62631/mastDownload/HST/hst_7281_37_wfpc2_pc_f814w_u3ws3702/hst_7281_37_wfpc2_pc_f814w_u3ws3702_hlet.fits with expected size 34560. [astroquery.query]\n",
      "INFO: Found cached file pantheon_data_folder/216.16883 26.62631/mastDownload/HST/hst_7281_37_wfpc2_pc_f814w_u3ws37/hst_7281_37_wfpc2_pc_f814w_u3ws37_drz.fits with expected size 262656000. [astroquery.query]\n",
      "INFO: Found cached file pantheon_data_folder/216.16883 26.62631/mastDownload/HST/hst_7281_37_wfpc2_pc_f814w_u3ws37/hst_7281_37_wfpc2_pc_f814w_u3ws37_drz.jpg with expected size 959155. [astroquery.query]\n",
      "INFO: Found cached file pantheon_data_folder/216.16883 26.62631/mastDownload/HST/hst_7281_37_wfpc2_pc_total_u3ws37/hst_7281_37_wfpc2_pc_total_u3ws37_drz.fits with expected size 262670400. [astroquery.query]\n"
     ]
    },
    {
     "name": "stderr",
     "output_type": "stream",
     "text": [
      "2025-05-29 11:30:44,351 - stpipe - INFO - Found cached file pantheon_data_folder/216.16883 26.62631/mastDownload/HST/hst_7281_37_wfpc2_pc_total_u3ws37/hst_7281_37_wfpc2_pc_total_u3ws37_drz.jpg with expected size 704585.\n",
      "2025-05-29 11:30:44,397 - stpipe - INFO - Found cached file pantheon_data_folder/216.16883 26.62631/mastDownload/HST/hst_7281_37_wfpc2_pc_total_u3ws37/hst_7281_37_wfpc2_pc_total_u3ws37_drz_color.jpg with expected size 1281747.\n",
      "2025-05-29 11:30:44,437 - stpipe - INFO - Found cached file pantheon_data_folder/216.16883 26.62631/mastDownload/HST/u3ws3701r/u3ws3701j_jif.fits with expected size 34560.\n",
      "2025-05-29 11:30:44,490 - stpipe - INFO - Found cached file pantheon_data_folder/216.16883 26.62631/mastDownload/HST/u3ws3701r/u3ws3701j_jit.fits with expected size 23040.\n",
      "2025-05-29 11:30:44,529 - stpipe - INFO - Found cached file pantheon_data_folder/216.16883 26.62631/mastDownload/HST/u3ws3701r/u3ws3701r_c0f.fits with expected size 10307520.\n"
     ]
    },
    {
     "name": "stdout",
     "output_type": "stream",
     "text": [
      "INFO: Found cached file pantheon_data_folder/216.16883 26.62631/mastDownload/HST/hst_7281_37_wfpc2_pc_total_u3ws37/hst_7281_37_wfpc2_pc_total_u3ws37_drz.jpg with expected size 704585. [astroquery.query]\n",
      "INFO: Found cached file pantheon_data_folder/216.16883 26.62631/mastDownload/HST/hst_7281_37_wfpc2_pc_total_u3ws37/hst_7281_37_wfpc2_pc_total_u3ws37_drz_color.jpg with expected size 1281747. [astroquery.query]\n",
      "INFO: Found cached file pantheon_data_folder/216.16883 26.62631/mastDownload/HST/u3ws3701r/u3ws3701j_jif.fits with expected size 34560. [astroquery.query]\n",
      "INFO: Found cached file pantheon_data_folder/216.16883 26.62631/mastDownload/HST/u3ws3701r/u3ws3701j_jit.fits with expected size 23040. [astroquery.query]\n",
      "INFO: Found cached file pantheon_data_folder/216.16883 26.62631/mastDownload/HST/u3ws3701r/u3ws3701r_c0f.fits with expected size 10307520. [astroquery.query]\n"
     ]
    },
    {
     "name": "stderr",
     "output_type": "stream",
     "text": [
      "2025-05-29 11:30:44,578 - stpipe - INFO - Found cached file pantheon_data_folder/216.16883 26.62631/mastDownload/HST/u3ws3701r/u3ws3701r_c0m.fits with expected size 10307520.\n",
      "2025-05-29 11:30:44,625 - stpipe - INFO - Found cached file pantheon_data_folder/216.16883 26.62631/mastDownload/HST/u3ws3701r/u3ws3701r_c1f.fits with expected size 5184000.\n",
      "2025-05-29 11:30:44,668 - stpipe - INFO - Found cached file pantheon_data_folder/216.16883 26.62631/mastDownload/HST/u3ws3701r/u3ws3701r_c1m.fits with expected size 5178240.\n",
      "2025-05-29 11:30:44,721 - stpipe - INFO - Found cached file pantheon_data_folder/216.16883 26.62631/mastDownload/HST/u3ws3701r/u3ws3701r_c3m.fits with expected size 207360.\n",
      "2025-05-29 11:30:44,758 - stpipe - INFO - Found cached file pantheon_data_folder/216.16883 26.62631/mastDownload/HST/u3ws3701r/u3ws3701r_c3t.fits with expected size 210240.\n"
     ]
    },
    {
     "name": "stdout",
     "output_type": "stream",
     "text": [
      "INFO: Found cached file pantheon_data_folder/216.16883 26.62631/mastDownload/HST/u3ws3701r/u3ws3701r_c0m.fits with expected size 10307520. [astroquery.query]\n",
      "INFO: Found cached file pantheon_data_folder/216.16883 26.62631/mastDownload/HST/u3ws3701r/u3ws3701r_c1f.fits with expected size 5184000. [astroquery.query]\n",
      "INFO: Found cached file pantheon_data_folder/216.16883 26.62631/mastDownload/HST/u3ws3701r/u3ws3701r_c1m.fits with expected size 5178240. [astroquery.query]\n",
      "INFO: Found cached file pantheon_data_folder/216.16883 26.62631/mastDownload/HST/u3ws3701r/u3ws3701r_c3m.fits with expected size 207360. [astroquery.query]\n",
      "INFO: Found cached file pantheon_data_folder/216.16883 26.62631/mastDownload/HST/u3ws3701r/u3ws3701r_c3t.fits with expected size 210240. [astroquery.query]\n"
     ]
    },
    {
     "name": "stderr",
     "output_type": "stream",
     "text": [
      "2025-05-29 11:30:44,796 - stpipe - INFO - Found cached file pantheon_data_folder/216.16883 26.62631/mastDownload/HST/u3ws3701r/u3ws3701r_cgr.fits with expected size 31680.\n",
      "2025-05-29 11:30:44,841 - stpipe - INFO - Found cached file pantheon_data_folder/216.16883 26.62631/mastDownload/HST/u3ws3701r/u3ws3701r_d0f.fits with expected size 5184000.\n",
      "2025-05-29 11:30:44,881 - stpipe - INFO - Found cached file pantheon_data_folder/216.16883 26.62631/mastDownload/HST/u3ws3701r/u3ws3701r_d0m.fits with expected size 5178240.\n",
      "2025-05-29 11:30:44,924 - stpipe - INFO - Found cached file pantheon_data_folder/216.16883 26.62631/mastDownload/HST/u3ws3701r/u3ws3701r_dgr.fits with expected size 31680.\n",
      "2025-05-29 11:30:44,965 - stpipe - INFO - Found cached file pantheon_data_folder/216.16883 26.62631/mastDownload/HST/u3ws3701r/u3ws3701r_drw.fits with expected size 262477440.\n"
     ]
    },
    {
     "name": "stdout",
     "output_type": "stream",
     "text": [
      "INFO: Found cached file pantheon_data_folder/216.16883 26.62631/mastDownload/HST/u3ws3701r/u3ws3701r_cgr.fits with expected size 31680. [astroquery.query]\n",
      "INFO: Found cached file pantheon_data_folder/216.16883 26.62631/mastDownload/HST/u3ws3701r/u3ws3701r_d0f.fits with expected size 5184000. [astroquery.query]\n",
      "INFO: Found cached file pantheon_data_folder/216.16883 26.62631/mastDownload/HST/u3ws3701r/u3ws3701r_d0m.fits with expected size 5178240. [astroquery.query]\n",
      "INFO: Found cached file pantheon_data_folder/216.16883 26.62631/mastDownload/HST/u3ws3701r/u3ws3701r_dgr.fits with expected size 31680. [astroquery.query]\n",
      "INFO: Found cached file pantheon_data_folder/216.16883 26.62631/mastDownload/HST/u3ws3701r/u3ws3701r_drw.fits with expected size 262477440. [astroquery.query]\n"
     ]
    },
    {
     "name": "stderr",
     "output_type": "stream",
     "text": [
      "2025-05-29 11:30:45,010 - stpipe - INFO - Found cached file pantheon_data_folder/216.16883 26.62631/mastDownload/HST/u3ws3701r/u3ws3701r_drw.jpg with expected size 1205971.\n",
      "2025-05-29 11:30:45,050 - stpipe - INFO - Found cached file pantheon_data_folder/216.16883 26.62631/mastDownload/HST/u3ws3701r/u3ws3701r_flt.fits with expected size 25882560.\n",
      "2025-05-29 11:30:45,088 - stpipe - INFO - Found cached file pantheon_data_folder/216.16883 26.62631/mastDownload/HST/u3ws3701r/u3ws3701r_flt_hlet.fits with expected size 34560.\n",
      "2025-05-29 11:30:45,127 - stpipe - INFO - Found cached file pantheon_data_folder/216.16883 26.62631/mastDownload/HST/u3ws3701r/u3ws3701r_q0f.fits with expected size 5184000.\n",
      "2025-05-29 11:30:45,161 - stpipe - INFO - Found cached file pantheon_data_folder/216.16883 26.62631/mastDownload/HST/u3ws3701r/u3ws3701r_q0m.fits with expected size 5178240.\n",
      "2025-05-29 11:30:45,203 - stpipe - INFO - Found cached file pantheon_data_folder/216.16883 26.62631/mastDownload/HST/u3ws3701r/u3ws3701r_q1f.fits with expected size 103680.\n"
     ]
    },
    {
     "name": "stdout",
     "output_type": "stream",
     "text": [
      "INFO: Found cached file pantheon_data_folder/216.16883 26.62631/mastDownload/HST/u3ws3701r/u3ws3701r_drw.jpg with expected size 1205971. [astroquery.query]\n",
      "INFO: Found cached file pantheon_data_folder/216.16883 26.62631/mastDownload/HST/u3ws3701r/u3ws3701r_flt.fits with expected size 25882560. [astroquery.query]\n",
      "INFO: Found cached file pantheon_data_folder/216.16883 26.62631/mastDownload/HST/u3ws3701r/u3ws3701r_flt_hlet.fits with expected size 34560. [astroquery.query]\n",
      "INFO: Found cached file pantheon_data_folder/216.16883 26.62631/mastDownload/HST/u3ws3701r/u3ws3701r_q0f.fits with expected size 5184000. [astroquery.query]\n",
      "INFO: Found cached file pantheon_data_folder/216.16883 26.62631/mastDownload/HST/u3ws3701r/u3ws3701r_q0m.fits with expected size 5178240. [astroquery.query]\n",
      "INFO: Found cached file pantheon_data_folder/216.16883 26.62631/mastDownload/HST/u3ws3701r/u3ws3701r_q1f.fits with expected size 103680. [astroquery.query]\n"
     ]
    },
    {
     "name": "stderr",
     "output_type": "stream",
     "text": [
      "2025-05-29 11:30:45,243 - stpipe - INFO - Found cached file pantheon_data_folder/216.16883 26.62631/mastDownload/HST/u3ws3701r/u3ws3701r_q1m.fits with expected size 109440.\n",
      "2025-05-29 11:30:45,282 - stpipe - INFO - Found cached file pantheon_data_folder/216.16883 26.62631/mastDownload/HST/u3ws3701r/u3ws3701r_shm.fits with expected size 34560.\n",
      "2025-05-29 11:30:45,317 - stpipe - INFO - Found cached file pantheon_data_folder/216.16883 26.62631/mastDownload/HST/u3ws3701r/u3ws3701r_trl.fits with expected size 28800.\n",
      "2025-05-29 11:30:45,360 - stpipe - INFO - Found cached file pantheon_data_folder/216.16883 26.62631/mastDownload/HST/u3ws3701r/u3ws3701r_x0f.fits with expected size 103680.\n",
      "2025-05-29 11:30:45,400 - stpipe - INFO - Found cached file pantheon_data_folder/216.16883 26.62631/mastDownload/HST/u3ws3701r/u3ws3701r_x0m.fits with expected size 109440.\n",
      "2025-05-29 11:30:45,443 - stpipe - INFO - Found cached file pantheon_data_folder/216.16883 26.62631/mastDownload/HST/u3ws3702r/u3ws3702j_jif.fits with expected size 34560.\n"
     ]
    },
    {
     "name": "stdout",
     "output_type": "stream",
     "text": [
      "INFO: Found cached file pantheon_data_folder/216.16883 26.62631/mastDownload/HST/u3ws3701r/u3ws3701r_q1m.fits with expected size 109440. [astroquery.query]\n",
      "INFO: Found cached file pantheon_data_folder/216.16883 26.62631/mastDownload/HST/u3ws3701r/u3ws3701r_shm.fits with expected size 34560. [astroquery.query]\n",
      "INFO: Found cached file pantheon_data_folder/216.16883 26.62631/mastDownload/HST/u3ws3701r/u3ws3701r_trl.fits with expected size 28800. [astroquery.query]\n",
      "INFO: Found cached file pantheon_data_folder/216.16883 26.62631/mastDownload/HST/u3ws3701r/u3ws3701r_x0f.fits with expected size 103680. [astroquery.query]\n",
      "INFO: Found cached file pantheon_data_folder/216.16883 26.62631/mastDownload/HST/u3ws3701r/u3ws3701r_x0m.fits with expected size 109440. [astroquery.query]\n",
      "INFO: Found cached file pantheon_data_folder/216.16883 26.62631/mastDownload/HST/u3ws3702r/u3ws3702j_jif.fits with expected size 34560. [astroquery.query]\n"
     ]
    },
    {
     "name": "stderr",
     "output_type": "stream",
     "text": [
      "2025-05-29 11:30:45,491 - stpipe - INFO - Found cached file pantheon_data_folder/216.16883 26.62631/mastDownload/HST/u3ws3702r/u3ws3702j_jit.fits with expected size 23040.\n",
      "2025-05-29 11:30:45,528 - stpipe - INFO - Found cached file pantheon_data_folder/216.16883 26.62631/mastDownload/HST/u3ws3702r/u3ws3702r_c0f.fits with expected size 10307520.\n",
      "2025-05-29 11:30:45,569 - stpipe - INFO - Found cached file pantheon_data_folder/216.16883 26.62631/mastDownload/HST/u3ws3702r/u3ws3702r_c0m.fits with expected size 10307520.\n",
      "2025-05-29 11:30:45,605 - stpipe - INFO - Found cached file pantheon_data_folder/216.16883 26.62631/mastDownload/HST/u3ws3702r/u3ws3702r_c1f.fits with expected size 5184000.\n",
      "2025-05-29 11:30:45,644 - stpipe - INFO - Found cached file pantheon_data_folder/216.16883 26.62631/mastDownload/HST/u3ws3702r/u3ws3702r_c1m.fits with expected size 5178240.\n"
     ]
    },
    {
     "name": "stdout",
     "output_type": "stream",
     "text": [
      "INFO: Found cached file pantheon_data_folder/216.16883 26.62631/mastDownload/HST/u3ws3702r/u3ws3702j_jit.fits with expected size 23040. [astroquery.query]\n",
      "INFO: Found cached file pantheon_data_folder/216.16883 26.62631/mastDownload/HST/u3ws3702r/u3ws3702r_c0f.fits with expected size 10307520. [astroquery.query]\n",
      "INFO: Found cached file pantheon_data_folder/216.16883 26.62631/mastDownload/HST/u3ws3702r/u3ws3702r_c0m.fits with expected size 10307520. [astroquery.query]\n",
      "INFO: Found cached file pantheon_data_folder/216.16883 26.62631/mastDownload/HST/u3ws3702r/u3ws3702r_c1f.fits with expected size 5184000. [astroquery.query]\n",
      "INFO: Found cached file pantheon_data_folder/216.16883 26.62631/mastDownload/HST/u3ws3702r/u3ws3702r_c1m.fits with expected size 5178240. [astroquery.query]\n"
     ]
    },
    {
     "name": "stderr",
     "output_type": "stream",
     "text": [
      "2025-05-29 11:30:45,696 - stpipe - INFO - Found cached file pantheon_data_folder/216.16883 26.62631/mastDownload/HST/u3ws3702r/u3ws3702r_c3m.fits with expected size 207360.\n",
      "2025-05-29 11:30:45,741 - stpipe - INFO - Found cached file pantheon_data_folder/216.16883 26.62631/mastDownload/HST/u3ws3702r/u3ws3702r_c3t.fits with expected size 210240.\n",
      "2025-05-29 11:30:45,780 - stpipe - INFO - Found cached file pantheon_data_folder/216.16883 26.62631/mastDownload/HST/u3ws3702r/u3ws3702r_cgr.fits with expected size 31680.\n",
      "2025-05-29 11:30:45,817 - stpipe - INFO - Found cached file pantheon_data_folder/216.16883 26.62631/mastDownload/HST/u3ws3702r/u3ws3702r_d0f.fits with expected size 5184000.\n",
      "2025-05-29 11:30:45,852 - stpipe - INFO - Found cached file pantheon_data_folder/216.16883 26.62631/mastDownload/HST/u3ws3702r/u3ws3702r_d0m.fits with expected size 5178240.\n",
      "2025-05-29 11:30:45,889 - stpipe - INFO - Found cached file pantheon_data_folder/216.16883 26.62631/mastDownload/HST/u3ws3702r/u3ws3702r_dgr.fits with expected size 31680.\n"
     ]
    },
    {
     "name": "stdout",
     "output_type": "stream",
     "text": [
      "INFO: Found cached file pantheon_data_folder/216.16883 26.62631/mastDownload/HST/u3ws3702r/u3ws3702r_c3m.fits with expected size 207360. [astroquery.query]\n",
      "INFO: Found cached file pantheon_data_folder/216.16883 26.62631/mastDownload/HST/u3ws3702r/u3ws3702r_c3t.fits with expected size 210240. [astroquery.query]\n",
      "INFO: Found cached file pantheon_data_folder/216.16883 26.62631/mastDownload/HST/u3ws3702r/u3ws3702r_cgr.fits with expected size 31680. [astroquery.query]\n",
      "INFO: Found cached file pantheon_data_folder/216.16883 26.62631/mastDownload/HST/u3ws3702r/u3ws3702r_d0f.fits with expected size 5184000. [astroquery.query]\n",
      "INFO: Found cached file pantheon_data_folder/216.16883 26.62631/mastDownload/HST/u3ws3702r/u3ws3702r_d0m.fits with expected size 5178240. [astroquery.query]\n",
      "INFO: Found cached file pantheon_data_folder/216.16883 26.62631/mastDownload/HST/u3ws3702r/u3ws3702r_dgr.fits with expected size 31680. [astroquery.query]\n"
     ]
    },
    {
     "name": "stderr",
     "output_type": "stream",
     "text": [
      "2025-05-29 11:30:45,928 - stpipe - INFO - Found cached file pantheon_data_folder/216.16883 26.62631/mastDownload/HST/u3ws3702r/u3ws3702r_drw.fits with expected size 262477440.\n",
      "2025-05-29 11:30:45,966 - stpipe - INFO - Found cached file pantheon_data_folder/216.16883 26.62631/mastDownload/HST/u3ws3702r/u3ws3702r_drw.jpg with expected size 959920.\n",
      "2025-05-29 11:30:46,007 - stpipe - INFO - Found cached file pantheon_data_folder/216.16883 26.62631/mastDownload/HST/u3ws3702r/u3ws3702r_flt.fits with expected size 25882560.\n",
      "2025-05-29 11:30:46,045 - stpipe - INFO - Found cached file pantheon_data_folder/216.16883 26.62631/mastDownload/HST/u3ws3702r/u3ws3702r_flt_hlet.fits with expected size 34560.\n",
      "2025-05-29 11:30:46,089 - stpipe - INFO - Found cached file pantheon_data_folder/216.16883 26.62631/mastDownload/HST/u3ws3702r/u3ws3702r_q0f.fits with expected size 5184000.\n",
      "2025-05-29 11:30:46,125 - stpipe - INFO - Found cached file pantheon_data_folder/216.16883 26.62631/mastDownload/HST/u3ws3702r/u3ws3702r_q0m.fits with expected size 5178240.\n"
     ]
    },
    {
     "name": "stdout",
     "output_type": "stream",
     "text": [
      "INFO: Found cached file pantheon_data_folder/216.16883 26.62631/mastDownload/HST/u3ws3702r/u3ws3702r_drw.fits with expected size 262477440. [astroquery.query]\n",
      "INFO: Found cached file pantheon_data_folder/216.16883 26.62631/mastDownload/HST/u3ws3702r/u3ws3702r_drw.jpg with expected size 959920. [astroquery.query]\n",
      "INFO: Found cached file pantheon_data_folder/216.16883 26.62631/mastDownload/HST/u3ws3702r/u3ws3702r_flt.fits with expected size 25882560. [astroquery.query]\n",
      "INFO: Found cached file pantheon_data_folder/216.16883 26.62631/mastDownload/HST/u3ws3702r/u3ws3702r_flt_hlet.fits with expected size 34560. [astroquery.query]\n",
      "INFO: Found cached file pantheon_data_folder/216.16883 26.62631/mastDownload/HST/u3ws3702r/u3ws3702r_q0f.fits with expected size 5184000. [astroquery.query]\n",
      "INFO: Found cached file pantheon_data_folder/216.16883 26.62631/mastDownload/HST/u3ws3702r/u3ws3702r_q0m.fits with expected size 5178240. [astroquery.query]\n"
     ]
    },
    {
     "name": "stderr",
     "output_type": "stream",
     "text": [
      "2025-05-29 11:30:46,162 - stpipe - INFO - Found cached file pantheon_data_folder/216.16883 26.62631/mastDownload/HST/u3ws3702r/u3ws3702r_q1f.fits with expected size 103680.\n",
      "2025-05-29 11:30:46,199 - stpipe - INFO - Found cached file pantheon_data_folder/216.16883 26.62631/mastDownload/HST/u3ws3702r/u3ws3702r_q1m.fits with expected size 109440.\n",
      "2025-05-29 11:30:46,237 - stpipe - INFO - Found cached file pantheon_data_folder/216.16883 26.62631/mastDownload/HST/u3ws3702r/u3ws3702r_shm.fits with expected size 34560.\n",
      "2025-05-29 11:30:46,273 - stpipe - INFO - Found cached file pantheon_data_folder/216.16883 26.62631/mastDownload/HST/u3ws3702r/u3ws3702r_trl.fits with expected size 28800.\n",
      "2025-05-29 11:30:46,309 - stpipe - INFO - Found cached file pantheon_data_folder/216.16883 26.62631/mastDownload/HST/u3ws3702r/u3ws3702r_x0f.fits with expected size 103680.\n"
     ]
    },
    {
     "name": "stdout",
     "output_type": "stream",
     "text": [
      "INFO: Found cached file pantheon_data_folder/216.16883 26.62631/mastDownload/HST/u3ws3702r/u3ws3702r_q1f.fits with expected size 103680. [astroquery.query]\n",
      "INFO: Found cached file pantheon_data_folder/216.16883 26.62631/mastDownload/HST/u3ws3702r/u3ws3702r_q1m.fits with expected size 109440. [astroquery.query]\n",
      "INFO: Found cached file pantheon_data_folder/216.16883 26.62631/mastDownload/HST/u3ws3702r/u3ws3702r_shm.fits with expected size 34560. [astroquery.query]\n",
      "INFO: Found cached file pantheon_data_folder/216.16883 26.62631/mastDownload/HST/u3ws3702r/u3ws3702r_trl.fits with expected size 28800. [astroquery.query]\n",
      "INFO: Found cached file pantheon_data_folder/216.16883 26.62631/mastDownload/HST/u3ws3702r/u3ws3702r_x0f.fits with expected size 103680. [astroquery.query]\n"
     ]
    },
    {
     "name": "stderr",
     "output_type": "stream",
     "text": [
      "2025-05-29 11:30:46,365 - stpipe - INFO - Found cached file pantheon_data_folder/216.16883 26.62631/mastDownload/HST/u3ws3702r/u3ws3702r_x0m.fits with expected size 109440.\n"
     ]
    },
    {
     "name": "stdout",
     "output_type": "stream",
     "text": [
      "INFO: Found cached file pantheon_data_folder/216.16883 26.62631/mastDownload/HST/u3ws3702r/u3ws3702r_x0m.fits with expected size 109440. [astroquery.query]\n",
      "                                                           Local Path                                                           ...\n",
      "------------------------------------------------------------------------------------------------------------------------------- ...\n",
      "pantheon_data_folder/216.16883 26.62631/mastDownload/HLA/hst_07281_37_wfpc2_f555w_pc_01/hst_07281_37_wfpc2_f555w_pc_01_drz.fits ...\n",
      "      pantheon_data_folder/216.16883 26.62631/mastDownload/HLA/hst_07281_37_wfpc2_f555w_pc/hst_07281_37_wfpc2_f555w_pc_drz.fits ...\n",
      "pantheon_data_folder/216.16883 26.62631/mastDownload/HLA/hst_07281_37_wfpc2_f555w_wf_01/hst_07281_37_wfpc2_f555w_wf_01_drz.fits ...\n",
      "      pantheon_data_folder/216.16883 26.62631/mastDownload/HLA/hst_07281_37_wfpc2_f555w_wf/hst_07281_37_wfpc2_f555w_wf_drz.fits ...\n",
      "pantheon_data_folder/216.16883 26.62631/mastDownload/HLA/hst_07281_37_wfpc2_f814w_pc_01/hst_07281_37_wfpc2_f814w_pc_01_drz.fits ...\n",
      "      pantheon_data_folder/216.16883 26.62631/mastDownload/HLA/hst_07281_37_wfpc2_f814w_pc/hst_07281_37_wfpc2_f814w_pc_drz.fits ...\n",
      "pantheon_data_folder/216.16883 26.62631/mastDownload/HLA/hst_07281_37_wfpc2_f814w_wf_01/hst_07281_37_wfpc2_f814w_wf_01_drz.fits ...\n",
      "      pantheon_data_folder/216.16883 26.62631/mastDownload/HLA/hst_07281_37_wfpc2_f814w_wf/hst_07281_37_wfpc2_f814w_wf_drz.fits ...\n",
      "      pantheon_data_folder/216.16883 26.62631/mastDownload/HLA/hst_07281_37_wfpc2_total_wf/hst_07281_37_wfpc2_total_wf_drz.fits ...\n",
      "       pantheon_data_folder/216.16883 26.62631/mastDownload/HLA/hst_07281_37_wfpc2_f555w_pc/hst_07281_37_wfpc2_f555w_pc_drz.jpg ...\n",
      "                                                                                                                            ... ...\n",
      "                                          pantheon_data_folder/216.16883 26.62631/mastDownload/HST/u3ws3702r/u3ws3702r_flt.fits ...\n",
      "                                     pantheon_data_folder/216.16883 26.62631/mastDownload/HST/u3ws3702r/u3ws3702r_flt_hlet.fits ...\n",
      "                                          pantheon_data_folder/216.16883 26.62631/mastDownload/HST/u3ws3702r/u3ws3702r_q0f.fits ...\n",
      "                                          pantheon_data_folder/216.16883 26.62631/mastDownload/HST/u3ws3702r/u3ws3702r_q0m.fits ...\n",
      "                                          pantheon_data_folder/216.16883 26.62631/mastDownload/HST/u3ws3702r/u3ws3702r_q1f.fits ...\n",
      "                                          pantheon_data_folder/216.16883 26.62631/mastDownload/HST/u3ws3702r/u3ws3702r_q1m.fits ...\n",
      "                                          pantheon_data_folder/216.16883 26.62631/mastDownload/HST/u3ws3702r/u3ws3702r_shm.fits ...\n",
      "                                          pantheon_data_folder/216.16883 26.62631/mastDownload/HST/u3ws3702r/u3ws3702r_trl.fits ...\n",
      "                                          pantheon_data_folder/216.16883 26.62631/mastDownload/HST/u3ws3702r/u3ws3702r_x0f.fits ...\n",
      "                                          pantheon_data_folder/216.16883 26.62631/mastDownload/HST/u3ws3702r/u3ws3702r_x0m.fits ...\n",
      "Length = 81 rows\n",
      "11 236.75312 -0.99042\n",
      "No Data Points\n",
      "12 211.65662 -5.43942\n"
     ]
    },
    {
     "name": "stderr",
     "output_type": "stream",
     "text": [
      "2025-05-29 11:31:30,341 - stpipe - INFO - 19606 of 24737 products were duplicates. Only returning 5131 unique product(s).\n"
     ]
    },
    {
     "name": "stdout",
     "output_type": "stream",
     "text": [
      "INFO: 19606 of 24737 products were duplicates. Only returning 5131 unique product(s). [astroquery.mast.utils]\n",
      "Downloading URL https://mast.stsci.edu/api/v0.1/Download/file?uri=mast:HST/product/hst_10877_23_wfpc2_pc_f450w_u9nw2301_drz.fits to pantheon_data_folder/211.65662 -5.43942/mastDownload/HST/hst_10877_23_wfpc2_pc_f450w_u9nw2301/hst_10877_23_wfpc2_pc_f450w_u9nw2301_drz.fits ... [Done]\n",
      "Downloading URL https://mast.stsci.edu/api/v0.1/Download/file?uri=mast:HST/product/hst_10877_23_wfpc2_pc_f450w_u9nw2301_drz.jpg to pantheon_data_folder/211.65662 -5.43942/mastDownload/HST/hst_10877_23_wfpc2_pc_f450w_u9nw2301/hst_10877_23_wfpc2_pc_f450w_u9nw2301_drz.jpg ... [Done]\n",
      "Downloading URL https://mast.stsci.edu/api/v0.1/Download/file?uri=mast:HST/product/hst_10877_23_wfpc2_pc_f450w_u9nw2301_flt.fits to pantheon_data_folder/211.65662 -5.43942/mastDownload/HST/hst_10877_23_wfpc2_pc_f450w_u9nw2301/hst_10877_23_wfpc2_pc_f450w_u9nw2301_flt.fits ... [Done]\n",
      "Downloading URL https://mast.stsci.edu/api/v0.1/Download/file?uri=mast:HST/product/hst_10877_23_wfpc2_pc_f450w_u9nw2301_hlet.fits to pantheon_data_folder/211.65662 -5.43942/mastDownload/HST/hst_10877_23_wfpc2_pc_f450w_u9nw2301/hst_10877_23_wfpc2_pc_f450w_u9nw2301_hlet.fits ... [Done]\n",
      "Downloading URL https://mast.stsci.edu/api/v0.1/Download/file?uri=mast:HST/product/hst_10877_23_wfpc2_pc_f450w_u9nw2302_drz.fits to pantheon_data_folder/211.65662 -5.43942/mastDownload/HST/hst_10877_23_wfpc2_pc_f450w_u9nw2302/hst_10877_23_wfpc2_pc_f450w_u9nw2302_drz.fits ... [Done]\n",
      "Downloading URL https://mast.stsci.edu/api/v0.1/Download/file?uri=mast:HST/product/hst_10877_23_wfpc2_pc_f450w_u9nw2302_drz.jpg to pantheon_data_folder/211.65662 -5.43942/mastDownload/HST/hst_10877_23_wfpc2_pc_f450w_u9nw2302/hst_10877_23_wfpc2_pc_f450w_u9nw2302_drz.jpg ... [Done]\n",
      "Downloading URL https://mast.stsci.edu/api/v0.1/Download/file?uri=mast:HST/product/hst_10877_23_wfpc2_pc_f450w_u9nw2302_flt.fits to pantheon_data_folder/211.65662 -5.43942/mastDownload/HST/hst_10877_23_wfpc2_pc_f450w_u9nw2302/hst_10877_23_wfpc2_pc_f450w_u9nw2302_flt.fits ... [Done]\n",
      "Downloading URL https://mast.stsci.edu/api/v0.1/Download/file?uri=mast:HST/product/hst_10877_23_wfpc2_pc_f450w_u9nw2302_hlet.fits to pantheon_data_folder/211.65662 -5.43942/mastDownload/HST/hst_10877_23_wfpc2_pc_f450w_u9nw2302/hst_10877_23_wfpc2_pc_f450w_u9nw2302_hlet.fits ... [Done]\n",
      "Downloading URL https://mast.stsci.edu/api/v0.1/Download/file?uri=mast:HST/product/hst_10877_23_wfpc2_pc_f450w_u9nw23_drz.fits to pantheon_data_folder/211.65662 -5.43942/mastDownload/HST/hst_10877_23_wfpc2_pc_f450w_u9nw23/hst_10877_23_wfpc2_pc_f450w_u9nw23_drz.fits ... [Done]\n",
      "Downloading URL https://mast.stsci.edu/api/v0.1/Download/file?uri=mast:HST/product/hst_10877_23_wfpc2_pc_f450w_u9nw23_drz.jpg to pantheon_data_folder/211.65662 -5.43942/mastDownload/HST/hst_10877_23_wfpc2_pc_f450w_u9nw23/hst_10877_23_wfpc2_pc_f450w_u9nw23_drz.jpg ... [Done]\n",
      "Downloading URL https://mast.stsci.edu/api/v0.1/Download/file?uri=mast:HST/product/hst_10877_23_wfpc2_pc_f675w_u9nw2303_drz.fits to pantheon_data_folder/211.65662 -5.43942/mastDownload/HST/hst_10877_23_wfpc2_pc_f675w_u9nw2303/hst_10877_23_wfpc2_pc_f675w_u9nw2303_drz.fits ... [Done]\n",
      "Downloading URL https://mast.stsci.edu/api/v0.1/Download/file?uri=mast:HST/product/hst_10877_23_wfpc2_pc_f675w_u9nw2303_drz.jpg to pantheon_data_folder/211.65662 -5.43942/mastDownload/HST/hst_10877_23_wfpc2_pc_f675w_u9nw2303/hst_10877_23_wfpc2_pc_f675w_u9nw2303_drz.jpg ... [Done]\n",
      "Downloading URL https://mast.stsci.edu/api/v0.1/Download/file?uri=mast:HST/product/hst_10877_23_wfpc2_pc_f675w_u9nw2303_flt.fits to pantheon_data_folder/211.65662 -5.43942/mastDownload/HST/hst_10877_23_wfpc2_pc_f675w_u9nw2303/hst_10877_23_wfpc2_pc_f675w_u9nw2303_flt.fits ... [Done]\n",
      "Downloading URL https://mast.stsci.edu/api/v0.1/Download/file?uri=mast:HST/product/hst_10877_23_wfpc2_pc_f675w_u9nw2303_hlet.fits to pantheon_data_folder/211.65662 -5.43942/mastDownload/HST/hst_10877_23_wfpc2_pc_f675w_u9nw2303/hst_10877_23_wfpc2_pc_f675w_u9nw2303_hlet.fits ... [Done]\n",
      "Downloading URL https://mast.stsci.edu/api/v0.1/Download/file?uri=mast:HST/product/hst_10877_23_wfpc2_pc_f675w_u9nw2304_drz.fits to pantheon_data_folder/211.65662 -5.43942/mastDownload/HST/hst_10877_23_wfpc2_pc_f675w_u9nw2304/hst_10877_23_wfpc2_pc_f675w_u9nw2304_drz.fits ... [Done]\n",
      "Downloading URL https://mast.stsci.edu/api/v0.1/Download/file?uri=mast:HST/product/hst_10877_23_wfpc2_pc_f675w_u9nw2304_drz.jpg to pantheon_data_folder/211.65662 -5.43942/mastDownload/HST/hst_10877_23_wfpc2_pc_f675w_u9nw2304/hst_10877_23_wfpc2_pc_f675w_u9nw2304_drz.jpg ... [Done]\n",
      "Downloading URL https://mast.stsci.edu/api/v0.1/Download/file?uri=mast:HST/product/hst_10877_23_wfpc2_pc_f675w_u9nw2304_flt.fits to pantheon_data_folder/211.65662 -5.43942/mastDownload/HST/hst_10877_23_wfpc2_pc_f675w_u9nw2304/hst_10877_23_wfpc2_pc_f675w_u9nw2304_flt.fits ... [Done]\n",
      "Downloading URL https://mast.stsci.edu/api/v0.1/Download/file?uri=mast:HST/product/hst_10877_23_wfpc2_pc_f675w_u9nw2304_hlet.fits to pantheon_data_folder/211.65662 -5.43942/mastDownload/HST/hst_10877_23_wfpc2_pc_f675w_u9nw2304/hst_10877_23_wfpc2_pc_f675w_u9nw2304_hlet.fits ... [Done]\n",
      "Downloading URL https://mast.stsci.edu/api/v0.1/Download/file?uri=mast:HST/product/hst_10877_23_wfpc2_pc_f675w_u9nw23_drz.fits to pantheon_data_folder/211.65662 -5.43942/mastDownload/HST/hst_10877_23_wfpc2_pc_f675w_u9nw23/hst_10877_23_wfpc2_pc_f675w_u9nw23_drz.fits ... [Done]\n",
      "Downloading URL https://mast.stsci.edu/api/v0.1/Download/file?uri=mast:HST/product/hst_10877_23_wfpc2_pc_f675w_u9nw23_drz.jpg to pantheon_data_folder/211.65662 -5.43942/mastDownload/HST/hst_10877_23_wfpc2_pc_f675w_u9nw23/hst_10877_23_wfpc2_pc_f675w_u9nw23_drz.jpg ... [Done]\n",
      "Downloading URL https://mast.stsci.edu/api/v0.1/Download/file?uri=mast:HST/product/hst_10877_23_wfpc2_pc_total_u9nw23_drz.fits to pantheon_data_folder/211.65662 -5.43942/mastDownload/HST/hst_10877_23_wfpc2_pc_total_u9nw23/hst_10877_23_wfpc2_pc_total_u9nw23_drz.fits ... [Done]\n",
      "Downloading URL https://mast.stsci.edu/api/v0.1/Download/file?uri=mast:HST/product/hst_10877_23_wfpc2_pc_total_u9nw23_drz.jpg to pantheon_data_folder/211.65662 -5.43942/mastDownload/HST/hst_10877_23_wfpc2_pc_total_u9nw23/hst_10877_23_wfpc2_pc_total_u9nw23_drz.jpg ... [Done]\n",
      "Downloading URL https://mast.stsci.edu/api/v0.1/Download/file?uri=mast:HST/product/hst_10877_23_wfpc2_pc_total_u9nw23_drz_color.jpg to pantheon_data_folder/211.65662 -5.43942/mastDownload/HST/hst_10877_23_wfpc2_pc_total_u9nw23/hst_10877_23_wfpc2_pc_total_u9nw23_drz_color.jpg ... [Done]\n",
      "Downloading URL https://mast.stsci.edu/api/v0.1/Download/file?uri=mast:HST/product/hst_15145_51_wfc3_ir_f160w_idgg51_drz.fits to pantheon_data_folder/211.65662 -5.43942/mastDownload/HST/hst_15145_51_wfc3_ir_f160w_idgg51/hst_15145_51_wfc3_ir_f160w_idgg51_drz.fits ... [Done]\n",
      "Downloading URL https://mast.stsci.edu/api/v0.1/Download/file?uri=mast:HST/product/hst_15145_51_wfc3_ir_f160w_idgg51_drz.jpg to pantheon_data_folder/211.65662 -5.43942/mastDownload/HST/hst_15145_51_wfc3_ir_f160w_idgg51/hst_15145_51_wfc3_ir_f160w_idgg51_drz.jpg ... [Done]\n",
      "Downloading URL https://mast.stsci.edu/api/v0.1/Download/file?uri=mast:HST/product/hst_15145_51_wfc3_ir_f160w_idgg51wp_drz.fits to pantheon_data_folder/211.65662 -5.43942/mastDownload/HST/hst_15145_51_wfc3_ir_f160w_idgg51wp/hst_15145_51_wfc3_ir_f160w_idgg51wp_drz.fits ... [Done]\n",
      "Downloading URL https://mast.stsci.edu/api/v0.1/Download/file?uri=mast:HST/product/hst_15145_51_wfc3_ir_f160w_idgg51wp_drz.jpg to pantheon_data_folder/211.65662 -5.43942/mastDownload/HST/hst_15145_51_wfc3_ir_f160w_idgg51wp/hst_15145_51_wfc3_ir_f160w_idgg51wp_drz.jpg ... [Done]\n",
      "Downloading URL https://mast.stsci.edu/api/v0.1/Download/file?uri=mast:HST/product/hst_15145_51_wfc3_ir_f160w_idgg51wp_flt.fits to pantheon_data_folder/211.65662 -5.43942/mastDownload/HST/hst_15145_51_wfc3_ir_f160w_idgg51wp/hst_15145_51_wfc3_ir_f160w_idgg51wp_flt.fits ... [Done]\n",
      "Downloading URL https://mast.stsci.edu/api/v0.1/Download/file?uri=mast:HST/product/hst_15145_51_wfc3_ir_f160w_idgg51wp_hlet.fits to pantheon_data_folder/211.65662 -5.43942/mastDownload/HST/hst_15145_51_wfc3_ir_f160w_idgg51wp/hst_15145_51_wfc3_ir_f160w_idgg51wp_hlet.fits ... [Done]\n",
      "Downloading URL https://mast.stsci.edu/api/v0.1/Download/file?uri=mast:HST/product/hst_15145_51_wfc3_ir_f160w_idgg51wu_drz.fits to pantheon_data_folder/211.65662 -5.43942/mastDownload/HST/hst_15145_51_wfc3_ir_f160w_idgg51wu/hst_15145_51_wfc3_ir_f160w_idgg51wu_drz.fits ... [Done]\n",
      "Downloading URL https://mast.stsci.edu/api/v0.1/Download/file?uri=mast:HST/product/hst_15145_51_wfc3_ir_f160w_idgg51wu_drz.jpg to pantheon_data_folder/211.65662 -5.43942/mastDownload/HST/hst_15145_51_wfc3_ir_f160w_idgg51wu/hst_15145_51_wfc3_ir_f160w_idgg51wu_drz.jpg ... [Done]\n",
      "Downloading URL https://mast.stsci.edu/api/v0.1/Download/file?uri=mast:HST/product/hst_15145_51_wfc3_ir_f160w_idgg51wu_flt.fits to pantheon_data_folder/211.65662 -5.43942/mastDownload/HST/hst_15145_51_wfc3_ir_f160w_idgg51wu/hst_15145_51_wfc3_ir_f160w_idgg51wu_flt.fits ... [Done]\n",
      "Downloading URL https://mast.stsci.edu/api/v0.1/Download/file?uri=mast:HST/product/hst_15145_51_wfc3_ir_f160w_idgg51wu_hlet.fits to pantheon_data_folder/211.65662 -5.43942/mastDownload/HST/hst_15145_51_wfc3_ir_f160w_idgg51wu/hst_15145_51_wfc3_ir_f160w_idgg51wu_hlet.fits ... [Done]\n",
      "Downloading URL https://mast.stsci.edu/api/v0.1/Download/file?uri=mast:HST/product/hst_15145_51_wfc3_ir_f160w_idgg51wx_drz.fits to pantheon_data_folder/211.65662 -5.43942/mastDownload/HST/hst_15145_51_wfc3_ir_f160w_idgg51wx/hst_15145_51_wfc3_ir_f160w_idgg51wx_drz.fits ... [Done]\n",
      "Downloading URL https://mast.stsci.edu/api/v0.1/Download/file?uri=mast:HST/product/hst_15145_51_wfc3_ir_f160w_idgg51wx_drz.jpg to pantheon_data_folder/211.65662 -5.43942/mastDownload/HST/hst_15145_51_wfc3_ir_f160w_idgg51wx/hst_15145_51_wfc3_ir_f160w_idgg51wx_drz.jpg ... [Done]\n",
      "Downloading URL https://mast.stsci.edu/api/v0.1/Download/file?uri=mast:HST/product/hst_15145_51_wfc3_ir_f160w_idgg51wx_flt.fits to pantheon_data_folder/211.65662 -5.43942/mastDownload/HST/hst_15145_51_wfc3_ir_f160w_idgg51wx/hst_15145_51_wfc3_ir_f160w_idgg51wx_flt.fits ... [Done]\n",
      "Downloading URL https://mast.stsci.edu/api/v0.1/Download/file?uri=mast:HST/product/hst_15145_51_wfc3_ir_f160w_idgg51wx_hlet.fits to pantheon_data_folder/211.65662 -5.43942/mastDownload/HST/hst_15145_51_wfc3_ir_f160w_idgg51wx/hst_15145_51_wfc3_ir_f160w_idgg51wx_hlet.fits ... [Done]\n",
      "Downloading URL https://mast.stsci.edu/api/v0.1/Download/file?uri=mast:HST/product/hst_15145_51_wfc3_ir_f160w_idgg51wz_drz.fits to pantheon_data_folder/211.65662 -5.43942/mastDownload/HST/hst_15145_51_wfc3_ir_f160w_idgg51wz/hst_15145_51_wfc3_ir_f160w_idgg51wz_drz.fits ... [Done]\n",
      "Downloading URL https://mast.stsci.edu/api/v0.1/Download/file?uri=mast:HST/product/hst_15145_51_wfc3_ir_f160w_idgg51wz_drz.jpg to pantheon_data_folder/211.65662 -5.43942/mastDownload/HST/hst_15145_51_wfc3_ir_f160w_idgg51wz/hst_15145_51_wfc3_ir_f160w_idgg51wz_drz.jpg ... [Done]\n",
      "Downloading URL https://mast.stsci.edu/api/v0.1/Download/file?uri=mast:HST/product/hst_15145_51_wfc3_ir_f160w_idgg51wz_flt.fits to pantheon_data_folder/211.65662 -5.43942/mastDownload/HST/hst_15145_51_wfc3_ir_f160w_idgg51wz/hst_15145_51_wfc3_ir_f160w_idgg51wz_flt.fits ... [Done]\n",
      "Downloading URL https://mast.stsci.edu/api/v0.1/Download/file?uri=mast:HST/product/hst_15145_51_wfc3_ir_f160w_idgg51wz_hlet.fits to pantheon_data_folder/211.65662 -5.43942/mastDownload/HST/hst_15145_51_wfc3_ir_f160w_idgg51wz/hst_15145_51_wfc3_ir_f160w_idgg51wz_hlet.fits ... [Done]\n",
      "Downloading URL https://mast.stsci.edu/api/v0.1/Download/file?uri=mast:HST/product/hst_15145_51_wfc3_ir_total_idgg51_drz.fits to pantheon_data_folder/211.65662 -5.43942/mastDownload/HST/hst_15145_51_wfc3_ir_total_idgg51/hst_15145_51_wfc3_ir_total_idgg51_drz.fits ... [Done]\n",
      "Downloading URL https://mast.stsci.edu/api/v0.1/Download/file?uri=mast:HST/product/hst_15145_51_wfc3_ir_total_idgg51_drz.jpg to pantheon_data_folder/211.65662 -5.43942/mastDownload/HST/hst_15145_51_wfc3_ir_total_idgg51/hst_15145_51_wfc3_ir_total_idgg51_drz.jpg ... [Done]\n",
      "Downloading URL https://mast.stsci.edu/api/v0.1/Download/file?uri=mast:HST/product/hst_15145_51_wfc3_uvis_f350lp_idgg51_drc.fits to pantheon_data_folder/211.65662 -5.43942/mastDownload/HST/hst_15145_51_wfc3_uvis_f350lp_idgg51/hst_15145_51_wfc3_uvis_f350lp_idgg51_drc.fits ... [Done]\n",
      "Downloading URL https://mast.stsci.edu/api/v0.1/Download/file?uri=mast:HST/product/hst_15145_51_wfc3_uvis_f350lp_idgg51_drc.jpg to pantheon_data_folder/211.65662 -5.43942/mastDownload/HST/hst_15145_51_wfc3_uvis_f350lp_idgg51/hst_15145_51_wfc3_uvis_f350lp_idgg51_drc.jpg ... [Done]\n",
      "Downloading URL https://mast.stsci.edu/api/v0.1/Download/file?uri=mast:HST/product/hst_15145_51_wfc3_uvis_f350lp_idgg51wb_drc.fits to pantheon_data_folder/211.65662 -5.43942/mastDownload/HST/hst_15145_51_wfc3_uvis_f350lp_idgg51wb/hst_15145_51_wfc3_uvis_f350lp_idgg51wb_drc.fits ... [Done]\n",
      "Downloading URL https://mast.stsci.edu/api/v0.1/Download/file?uri=mast:HST/product/hst_15145_51_wfc3_uvis_f350lp_idgg51wb_drc.jpg to pantheon_data_folder/211.65662 -5.43942/mastDownload/HST/hst_15145_51_wfc3_uvis_f350lp_idgg51wb/hst_15145_51_wfc3_uvis_f350lp_idgg51wb_drc.jpg ... [Done]\n",
      "Downloading URL https://mast.stsci.edu/api/v0.1/Download/file?uri=mast:HST/product/hst_15145_51_wfc3_uvis_f350lp_idgg51wb_flc.fits to pantheon_data_folder/211.65662 -5.43942/mastDownload/HST/hst_15145_51_wfc3_uvis_f350lp_idgg51wb/hst_15145_51_wfc3_uvis_f350lp_idgg51wb_flc.fits ... [Done]\n",
      "Downloading URL https://mast.stsci.edu/api/v0.1/Download/file?uri=mast:HST/product/hst_15145_51_wfc3_uvis_f350lp_idgg51wb_hlet.fits to pantheon_data_folder/211.65662 -5.43942/mastDownload/HST/hst_15145_51_wfc3_uvis_f350lp_idgg51wb/hst_15145_51_wfc3_uvis_f350lp_idgg51wb_hlet.fits ... [Done]\n",
      "Downloading URL https://mast.stsci.edu/api/v0.1/Download/file?uri=mast:HST/product/hst_15145_51_wfc3_uvis_f350lp_idgg51wc_drc.fits to pantheon_data_folder/211.65662 -5.43942/mastDownload/HST/hst_15145_51_wfc3_uvis_f350lp_idgg51wc/hst_15145_51_wfc3_uvis_f350lp_idgg51wc_drc.fits ... [Done]\n",
      "Downloading URL https://mast.stsci.edu/api/v0.1/Download/file?uri=mast:HST/product/hst_15145_51_wfc3_uvis_f350lp_idgg51wc_drc.jpg to pantheon_data_folder/211.65662 -5.43942/mastDownload/HST/hst_15145_51_wfc3_uvis_f350lp_idgg51wc/hst_15145_51_wfc3_uvis_f350lp_idgg51wc_drc.jpg ... [Done]\n",
      "Downloading URL https://mast.stsci.edu/api/v0.1/Download/file?uri=mast:HST/product/hst_15145_51_wfc3_uvis_f350lp_idgg51wc_flc.fits to pantheon_data_folder/211.65662 -5.43942/mastDownload/HST/hst_15145_51_wfc3_uvis_f350lp_idgg51wc/hst_15145_51_wfc3_uvis_f350lp_idgg51wc_flc.fits ... [Done]\n",
      "Downloading URL https://mast.stsci.edu/api/v0.1/Download/file?uri=mast:HST/product/hst_15145_51_wfc3_uvis_f350lp_idgg51wc_hlet.fits to pantheon_data_folder/211.65662 -5.43942/mastDownload/HST/hst_15145_51_wfc3_uvis_f350lp_idgg51wc/hst_15145_51_wfc3_uvis_f350lp_idgg51wc_hlet.fits ... [Done]\n",
      "Downloading URL https://mast.stsci.edu/api/v0.1/Download/file?uri=mast:HST/product/hst_15145_51_wfc3_uvis_f350lp_idgg51we_drc.fits to pantheon_data_folder/211.65662 -5.43942/mastDownload/HST/hst_15145_51_wfc3_uvis_f350lp_idgg51we/hst_15145_51_wfc3_uvis_f350lp_idgg51we_drc.fits ... [Done]\n",
      "Downloading URL https://mast.stsci.edu/api/v0.1/Download/file?uri=mast:HST/product/hst_15145_51_wfc3_uvis_f350lp_idgg51we_drc.jpg to pantheon_data_folder/211.65662 -5.43942/mastDownload/HST/hst_15145_51_wfc3_uvis_f350lp_idgg51we/hst_15145_51_wfc3_uvis_f350lp_idgg51we_drc.jpg ... [Done]\n",
      "Downloading URL https://mast.stsci.edu/api/v0.1/Download/file?uri=mast:HST/product/hst_15145_51_wfc3_uvis_f350lp_idgg51we_flc.fits to pantheon_data_folder/211.65662 -5.43942/mastDownload/HST/hst_15145_51_wfc3_uvis_f350lp_idgg51we/hst_15145_51_wfc3_uvis_f350lp_idgg51we_flc.fits ... [Done]\n",
      "Downloading URL https://mast.stsci.edu/api/v0.1/Download/file?uri=mast:HST/product/hst_15145_51_wfc3_uvis_f350lp_idgg51we_hlet.fits to pantheon_data_folder/211.65662 -5.43942/mastDownload/HST/hst_15145_51_wfc3_uvis_f350lp_idgg51we/hst_15145_51_wfc3_uvis_f350lp_idgg51we_hlet.fits ... [Done]\n",
      "Downloading URL https://mast.stsci.edu/api/v0.1/Download/file?uri=mast:HST/product/hst_15145_51_wfc3_uvis_f350lp_idgg51wg_drc.fits to pantheon_data_folder/211.65662 -5.43942/mastDownload/HST/hst_15145_51_wfc3_uvis_f350lp_idgg51wg/hst_15145_51_wfc3_uvis_f350lp_idgg51wg_drc.fits ... [Done]\n",
      "Downloading URL https://mast.stsci.edu/api/v0.1/Download/file?uri=mast:HST/product/hst_15145_51_wfc3_uvis_f350lp_idgg51wg_drc.jpg to pantheon_data_folder/211.65662 -5.43942/mastDownload/HST/hst_15145_51_wfc3_uvis_f350lp_idgg51wg/hst_15145_51_wfc3_uvis_f350lp_idgg51wg_drc.jpg ... [Done]\n",
      "Downloading URL https://mast.stsci.edu/api/v0.1/Download/file?uri=mast:HST/product/hst_15145_51_wfc3_uvis_f350lp_idgg51wg_flc.fits to pantheon_data_folder/211.65662 -5.43942/mastDownload/HST/hst_15145_51_wfc3_uvis_f350lp_idgg51wg/hst_15145_51_wfc3_uvis_f350lp_idgg51wg_flc.fits ... [Done]\n",
      "Downloading URL https://mast.stsci.edu/api/v0.1/Download/file?uri=mast:HST/product/hst_15145_51_wfc3_uvis_f350lp_idgg51wg_hlet.fits to pantheon_data_folder/211.65662 -5.43942/mastDownload/HST/hst_15145_51_wfc3_uvis_f350lp_idgg51wg/hst_15145_51_wfc3_uvis_f350lp_idgg51wg_hlet.fits ... [Done]\n",
      "Downloading URL https://mast.stsci.edu/api/v0.1/Download/file?uri=mast:HST/product/hst_15145_51_wfc3_uvis_total_idgg51_drc.fits to pantheon_data_folder/211.65662 -5.43942/mastDownload/HST/hst_15145_51_wfc3_uvis_total_idgg51/hst_15145_51_wfc3_uvis_total_idgg51_drc.fits ... [Done]\n",
      "Downloading URL https://mast.stsci.edu/api/v0.1/Download/file?uri=mast:HST/product/hst_15145_51_wfc3_uvis_total_idgg51_drc.jpg to pantheon_data_folder/211.65662 -5.43942/mastDownload/HST/hst_15145_51_wfc3_uvis_total_idgg51/hst_15145_51_wfc3_uvis_total_idgg51_drc.jpg ... [Done]\n",
      "Downloading URL https://mast.stsci.edu/api/v0.1/Download/file?uri=mast:HST/product/hst_15145_52_wfc3_uvis_f350lp_idgg52_drc.fits to pantheon_data_folder/211.65662 -5.43942/mastDownload/HST/hst_15145_52_wfc3_uvis_f350lp_idgg52/hst_15145_52_wfc3_uvis_f350lp_idgg52_drc.fits ... [Done]\n",
      "Downloading URL https://mast.stsci.edu/api/v0.1/Download/file?uri=mast:HST/product/hst_15145_52_wfc3_uvis_f350lp_idgg52_drc.jpg to pantheon_data_folder/211.65662 -5.43942/mastDownload/HST/hst_15145_52_wfc3_uvis_f350lp_idgg52/hst_15145_52_wfc3_uvis_f350lp_idgg52_drc.jpg ... [Done]\n",
      "Downloading URL https://mast.stsci.edu/api/v0.1/Download/file?uri=mast:HST/product/hst_15145_52_wfc3_uvis_f350lp_idgg52vr_drc.fits to pantheon_data_folder/211.65662 -5.43942/mastDownload/HST/hst_15145_52_wfc3_uvis_f350lp_idgg52vr/hst_15145_52_wfc3_uvis_f350lp_idgg52vr_drc.fits ... [Done]\n",
      "Downloading URL https://mast.stsci.edu/api/v0.1/Download/file?uri=mast:HST/product/hst_15145_52_wfc3_uvis_f350lp_idgg52vr_drc.jpg to pantheon_data_folder/211.65662 -5.43942/mastDownload/HST/hst_15145_52_wfc3_uvis_f350lp_idgg52vr/hst_15145_52_wfc3_uvis_f350lp_idgg52vr_drc.jpg ... [Done]\n",
      "Downloading URL https://mast.stsci.edu/api/v0.1/Download/file?uri=mast:HST/product/hst_15145_52_wfc3_uvis_f350lp_idgg52vr_flc.fits to pantheon_data_folder/211.65662 -5.43942/mastDownload/HST/hst_15145_52_wfc3_uvis_f350lp_idgg52vr/hst_15145_52_wfc3_uvis_f350lp_idgg52vr_flc.fits ... [Done]\n",
      "Downloading URL https://mast.stsci.edu/api/v0.1/Download/file?uri=mast:HST/product/hst_15145_52_wfc3_uvis_f350lp_idgg52vr_hlet.fits to pantheon_data_folder/211.65662 -5.43942/mastDownload/HST/hst_15145_52_wfc3_uvis_f350lp_idgg52vr/hst_15145_52_wfc3_uvis_f350lp_idgg52vr_hlet.fits ... [Done]\n",
      "Downloading URL https://mast.stsci.edu/api/v0.1/Download/file?uri=mast:HST/product/hst_15145_52_wfc3_uvis_f350lp_idgg52vs_drc.fits to pantheon_data_folder/211.65662 -5.43942/mastDownload/HST/hst_15145_52_wfc3_uvis_f350lp_idgg52vs/hst_15145_52_wfc3_uvis_f350lp_idgg52vs_drc.fits ... [Done]\n",
      "Downloading URL https://mast.stsci.edu/api/v0.1/Download/file?uri=mast:HST/product/hst_15145_52_wfc3_uvis_f350lp_idgg52vs_drc.jpg to pantheon_data_folder/211.65662 -5.43942/mastDownload/HST/hst_15145_52_wfc3_uvis_f350lp_idgg52vs/hst_15145_52_wfc3_uvis_f350lp_idgg52vs_drc.jpg ... [Done]\n",
      "Downloading URL https://mast.stsci.edu/api/v0.1/Download/file?uri=mast:HST/product/hst_15145_52_wfc3_uvis_f350lp_idgg52vs_flc.fits to pantheon_data_folder/211.65662 -5.43942/mastDownload/HST/hst_15145_52_wfc3_uvis_f350lp_idgg52vs/hst_15145_52_wfc3_uvis_f350lp_idgg52vs_flc.fits ... [Done]\n",
      "Downloading URL https://mast.stsci.edu/api/v0.1/Download/file?uri=mast:HST/product/hst_15145_52_wfc3_uvis_f350lp_idgg52vs_hlet.fits to pantheon_data_folder/211.65662 -5.43942/mastDownload/HST/hst_15145_52_wfc3_uvis_f350lp_idgg52vs/hst_15145_52_wfc3_uvis_f350lp_idgg52vs_hlet.fits ... [Done]\n",
      "Downloading URL https://mast.stsci.edu/api/v0.1/Download/file?uri=mast:HST/product/hst_15145_52_wfc3_uvis_f350lp_idgg52vu_drc.fits to pantheon_data_folder/211.65662 -5.43942/mastDownload/HST/hst_15145_52_wfc3_uvis_f350lp_idgg52vu/hst_15145_52_wfc3_uvis_f350lp_idgg52vu_drc.fits ... [Done]\n",
      "Downloading URL https://mast.stsci.edu/api/v0.1/Download/file?uri=mast:HST/product/hst_15145_52_wfc3_uvis_f350lp_idgg52vu_drc.jpg to pantheon_data_folder/211.65662 -5.43942/mastDownload/HST/hst_15145_52_wfc3_uvis_f350lp_idgg52vu/hst_15145_52_wfc3_uvis_f350lp_idgg52vu_drc.jpg ... [Done]\n",
      "Downloading URL https://mast.stsci.edu/api/v0.1/Download/file?uri=mast:HST/product/hst_15145_52_wfc3_uvis_f350lp_idgg52vu_flc.fits to pantheon_data_folder/211.65662 -5.43942/mastDownload/HST/hst_15145_52_wfc3_uvis_f350lp_idgg52vu/hst_15145_52_wfc3_uvis_f350lp_idgg52vu_flc.fits ... [Done]\n",
      "Downloading URL https://mast.stsci.edu/api/v0.1/Download/file?uri=mast:HST/product/hst_15145_52_wfc3_uvis_f350lp_idgg52vu_hlet.fits to pantheon_data_folder/211.65662 -5.43942/mastDownload/HST/hst_15145_52_wfc3_uvis_f350lp_idgg52vu/hst_15145_52_wfc3_uvis_f350lp_idgg52vu_hlet.fits ... [Done]\n",
      "Downloading URL https://mast.stsci.edu/api/v0.1/Download/file?uri=mast:HST/product/hst_15145_52_wfc3_uvis_f350lp_idgg52vw_drc.fits to pantheon_data_folder/211.65662 -5.43942/mastDownload/HST/hst_15145_52_wfc3_uvis_f350lp_idgg52vw/hst_15145_52_wfc3_uvis_f350lp_idgg52vw_drc.fits ... [Done]\n",
      "Downloading URL https://mast.stsci.edu/api/v0.1/Download/file?uri=mast:HST/product/hst_15145_52_wfc3_uvis_f350lp_idgg52vw_drc.jpg to pantheon_data_folder/211.65662 -5.43942/mastDownload/HST/hst_15145_52_wfc3_uvis_f350lp_idgg52vw/hst_15145_52_wfc3_uvis_f350lp_idgg52vw_drc.jpg ... [Done]\n",
      "Downloading URL https://mast.stsci.edu/api/v0.1/Download/file?uri=mast:HST/product/hst_15145_52_wfc3_uvis_f350lp_idgg52vw_flc.fits to pantheon_data_folder/211.65662 -5.43942/mastDownload/HST/hst_15145_52_wfc3_uvis_f350lp_idgg52vw/hst_15145_52_wfc3_uvis_f350lp_idgg52vw_flc.fits ... [Done]\n",
      "Downloading URL https://mast.stsci.edu/api/v0.1/Download/file?uri=mast:HST/product/hst_15145_52_wfc3_uvis_f350lp_idgg52vw_hlet.fits to pantheon_data_folder/211.65662 -5.43942/mastDownload/HST/hst_15145_52_wfc3_uvis_f350lp_idgg52vw/hst_15145_52_wfc3_uvis_f350lp_idgg52vw_hlet.fits ... [Done]\n",
      "Downloading URL https://mast.stsci.edu/api/v0.1/Download/file?uri=mast:HST/product/hst_15145_52_wfc3_uvis_f555w_idgg52_drc.fits to pantheon_data_folder/211.65662 -5.43942/mastDownload/HST/hst_15145_52_wfc3_uvis_f555w_idgg52/hst_15145_52_wfc3_uvis_f555w_idgg52_drc.fits ... [Done]\n",
      "Downloading URL https://mast.stsci.edu/api/v0.1/Download/file?uri=mast:HST/product/hst_15145_52_wfc3_uvis_f555w_idgg52_drc.jpg to pantheon_data_folder/211.65662 -5.43942/mastDownload/HST/hst_15145_52_wfc3_uvis_f555w_idgg52/hst_15145_52_wfc3_uvis_f555w_idgg52_drc.jpg ... [Done]\n",
      "Downloading URL https://mast.stsci.edu/api/v0.1/Download/file?uri=mast:HST/product/hst_15145_52_wfc3_uvis_f555w_idgg52vy_drc.fits to pantheon_data_folder/211.65662 -5.43942/mastDownload/HST/hst_15145_52_wfc3_uvis_f555w_idgg52vy/hst_15145_52_wfc3_uvis_f555w_idgg52vy_drc.fits ... [Done]\n",
      "Downloading URL https://mast.stsci.edu/api/v0.1/Download/file?uri=mast:HST/product/hst_15145_52_wfc3_uvis_f555w_idgg52vy_drc.jpg to pantheon_data_folder/211.65662 -5.43942/mastDownload/HST/hst_15145_52_wfc3_uvis_f555w_idgg52vy/hst_15145_52_wfc3_uvis_f555w_idgg52vy_drc.jpg ... [Done]\n",
      "Downloading URL https://mast.stsci.edu/api/v0.1/Download/file?uri=mast:HST/product/hst_15145_52_wfc3_uvis_f555w_idgg52vy_flc.fits to pantheon_data_folder/211.65662 -5.43942/mastDownload/HST/hst_15145_52_wfc3_uvis_f555w_idgg52vy/hst_15145_52_wfc3_uvis_f555w_idgg52vy_flc.fits ... [Done]\n",
      "Downloading URL https://mast.stsci.edu/api/v0.1/Download/file?uri=mast:HST/product/hst_15145_52_wfc3_uvis_f555w_idgg52vy_hlet.fits to pantheon_data_folder/211.65662 -5.43942/mastDownload/HST/hst_15145_52_wfc3_uvis_f555w_idgg52vy/hst_15145_52_wfc3_uvis_f555w_idgg52vy_hlet.fits ... [Done]\n",
      "Downloading URL https://mast.stsci.edu/api/v0.1/Download/file?uri=mast:HST/product/hst_15145_52_wfc3_uvis_f555w_idgg52w0_drc.fits to pantheon_data_folder/211.65662 -5.43942/mastDownload/HST/hst_15145_52_wfc3_uvis_f555w_idgg52w0/hst_15145_52_wfc3_uvis_f555w_idgg52w0_drc.fits ... [Done]\n",
      "Downloading URL https://mast.stsci.edu/api/v0.1/Download/file?uri=mast:HST/product/hst_15145_52_wfc3_uvis_f555w_idgg52w0_drc.jpg to pantheon_data_folder/211.65662 -5.43942/mastDownload/HST/hst_15145_52_wfc3_uvis_f555w_idgg52w0/hst_15145_52_wfc3_uvis_f555w_idgg52w0_drc.jpg ... [Done]\n",
      "Downloading URL https://mast.stsci.edu/api/v0.1/Download/file?uri=mast:HST/product/hst_15145_52_wfc3_uvis_f555w_idgg52w0_flc.fits to pantheon_data_folder/211.65662 -5.43942/mastDownload/HST/hst_15145_52_wfc3_uvis_f555w_idgg52w0/hst_15145_52_wfc3_uvis_f555w_idgg52w0_flc.fits ... [Done]\n",
      "Downloading URL https://mast.stsci.edu/api/v0.1/Download/file?uri=mast:HST/product/hst_15145_52_wfc3_uvis_f555w_idgg52w0_hlet.fits to pantheon_data_folder/211.65662 -5.43942/mastDownload/HST/hst_15145_52_wfc3_uvis_f555w_idgg52w0/hst_15145_52_wfc3_uvis_f555w_idgg52w0_hlet.fits ... [Done]\n",
      "Downloading URL https://mast.stsci.edu/api/v0.1/Download/file?uri=mast:HST/product/hst_15145_52_wfc3_uvis_f814w_idgg52_drc.fits to pantheon_data_folder/211.65662 -5.43942/mastDownload/HST/hst_15145_52_wfc3_uvis_f814w_idgg52/hst_15145_52_wfc3_uvis_f814w_idgg52_drc.fits ... [Done]\n",
      "Downloading URL https://mast.stsci.edu/api/v0.1/Download/file?uri=mast:HST/product/hst_15145_52_wfc3_uvis_f814w_idgg52_drc.jpg to pantheon_data_folder/211.65662 -5.43942/mastDownload/HST/hst_15145_52_wfc3_uvis_f814w_idgg52/hst_15145_52_wfc3_uvis_f814w_idgg52_drc.jpg ... [Done]\n",
      "Downloading URL https://mast.stsci.edu/api/v0.1/Download/file?uri=mast:HST/product/hst_15145_52_wfc3_uvis_f814w_idgg52w5_drc.fits to pantheon_data_folder/211.65662 -5.43942/mastDownload/HST/hst_15145_52_wfc3_uvis_f814w_idgg52w5/hst_15145_52_wfc3_uvis_f814w_idgg52w5_drc.fits ... [Done]\n",
      "Downloading URL https://mast.stsci.edu/api/v0.1/Download/file?uri=mast:HST/product/hst_15145_52_wfc3_uvis_f814w_idgg52w5_drc.jpg to pantheon_data_folder/211.65662 -5.43942/mastDownload/HST/hst_15145_52_wfc3_uvis_f814w_idgg52w5/hst_15145_52_wfc3_uvis_f814w_idgg52w5_drc.jpg ... [Done]\n",
      "Downloading URL https://mast.stsci.edu/api/v0.1/Download/file?uri=mast:HST/product/hst_15145_52_wfc3_uvis_f814w_idgg52w5_flc.fits to pantheon_data_folder/211.65662 -5.43942/mastDownload/HST/hst_15145_52_wfc3_uvis_f814w_idgg52w5/hst_15145_52_wfc3_uvis_f814w_idgg52w5_flc.fits ... [Done]\n",
      "Downloading URL https://mast.stsci.edu/api/v0.1/Download/file?uri=mast:HST/product/hst_15145_52_wfc3_uvis_f814w_idgg52w5_hlet.fits to pantheon_data_folder/211.65662 -5.43942/mastDownload/HST/hst_15145_52_wfc3_uvis_f814w_idgg52w5/hst_15145_52_wfc3_uvis_f814w_idgg52w5_hlet.fits ... [Done]\n",
      "Downloading URL https://mast.stsci.edu/api/v0.1/Download/file?uri=mast:HST/product/hst_15145_52_wfc3_uvis_f814w_idgg52wa_drc.fits to pantheon_data_folder/211.65662 -5.43942/mastDownload/HST/hst_15145_52_wfc3_uvis_f814w_idgg52wa/hst_15145_52_wfc3_uvis_f814w_idgg52wa_drc.fits ... [Done]\n",
      "Downloading URL https://mast.stsci.edu/api/v0.1/Download/file?uri=mast:HST/product/hst_15145_52_wfc3_uvis_f814w_idgg52wa_drc.jpg to pantheon_data_folder/211.65662 -5.43942/mastDownload/HST/hst_15145_52_wfc3_uvis_f814w_idgg52wa/hst_15145_52_wfc3_uvis_f814w_idgg52wa_drc.jpg ... [Done]\n",
      "Downloading URL https://mast.stsci.edu/api/v0.1/Download/file?uri=mast:HST/product/hst_15145_52_wfc3_uvis_f814w_idgg52wa_flc.fits to pantheon_data_folder/211.65662 -5.43942/mastDownload/HST/hst_15145_52_wfc3_uvis_f814w_idgg52wa/hst_15145_52_wfc3_uvis_f814w_idgg52wa_flc.fits ... [Done]\n",
      "Downloading URL https://mast.stsci.edu/api/v0.1/Download/file?uri=mast:HST/product/hst_15145_52_wfc3_uvis_f814w_idgg52wa_hlet.fits to pantheon_data_folder/211.65662 -5.43942/mastDownload/HST/hst_15145_52_wfc3_uvis_f814w_idgg52wa/hst_15145_52_wfc3_uvis_f814w_idgg52wa_hlet.fits ... [Done]\n",
      "Downloading URL https://mast.stsci.edu/api/v0.1/Download/file?uri=mast:HST/product/hst_15145_52_wfc3_uvis_total_idgg52_drc.fits to pantheon_data_folder/211.65662 -5.43942/mastDownload/HST/hst_15145_52_wfc3_uvis_total_idgg52/hst_15145_52_wfc3_uvis_total_idgg52_drc.fits ... [Done]\n",
      "Downloading URL https://mast.stsci.edu/api/v0.1/Download/file?uri=mast:HST/product/hst_15145_52_wfc3_uvis_total_idgg52_drc.jpg to pantheon_data_folder/211.65662 -5.43942/mastDownload/HST/hst_15145_52_wfc3_uvis_total_idgg52/hst_15145_52_wfc3_uvis_total_idgg52_drc.jpg ... [Done]\n",
      "Downloading URL https://mast.stsci.edu/api/v0.1/Download/file?uri=mast:HST/product/hst_15145_52_wfc3_uvis_total_idgg52_drc_color.jpg to pantheon_data_folder/211.65662 -5.43942/mastDownload/HST/hst_15145_52_wfc3_uvis_total_idgg52/hst_15145_52_wfc3_uvis_total_idgg52_drc_color.jpg ... [Done]\n",
      "Downloading URL https://mast.stsci.edu/api/v0.1/Download/file?uri=mast:HST/product/hst_15145_53_wfc3_ir_f160w_idgg53_drz.fits to pantheon_data_folder/211.65662 -5.43942/mastDownload/HST/hst_15145_53_wfc3_ir_f160w_idgg53/hst_15145_53_wfc3_ir_f160w_idgg53_drz.fits ... [Done]\n",
      "Downloading URL https://mast.stsci.edu/api/v0.1/Download/file?uri=mast:HST/product/hst_15145_53_wfc3_ir_f160w_idgg53_drz.jpg to pantheon_data_folder/211.65662 -5.43942/mastDownload/HST/hst_15145_53_wfc3_ir_f160w_idgg53/hst_15145_53_wfc3_ir_f160w_idgg53_drz.jpg ... [Done]\n",
      "Downloading URL https://mast.stsci.edu/api/v0.1/Download/file?uri=mast:HST/product/hst_15145_53_wfc3_ir_f160w_idgg53se_drz.fits to pantheon_data_folder/211.65662 -5.43942/mastDownload/HST/hst_15145_53_wfc3_ir_f160w_idgg53se/hst_15145_53_wfc3_ir_f160w_idgg53se_drz.fits ... [Done]\n",
      "Downloading URL https://mast.stsci.edu/api/v0.1/Download/file?uri=mast:HST/product/hst_15145_53_wfc3_ir_f160w_idgg53se_drz.jpg to pantheon_data_folder/211.65662 -5.43942/mastDownload/HST/hst_15145_53_wfc3_ir_f160w_idgg53se/hst_15145_53_wfc3_ir_f160w_idgg53se_drz.jpg ... [Done]\n",
      "Downloading URL https://mast.stsci.edu/api/v0.1/Download/file?uri=mast:HST/product/hst_15145_53_wfc3_ir_f160w_idgg53se_flt.fits to pantheon_data_folder/211.65662 -5.43942/mastDownload/HST/hst_15145_53_wfc3_ir_f160w_idgg53se/hst_15145_53_wfc3_ir_f160w_idgg53se_flt.fits ... [Done]\n",
      "Downloading URL https://mast.stsci.edu/api/v0.1/Download/file?uri=mast:HST/product/hst_15145_53_wfc3_ir_f160w_idgg53se_hlet.fits to pantheon_data_folder/211.65662 -5.43942/mastDownload/HST/hst_15145_53_wfc3_ir_f160w_idgg53se/hst_15145_53_wfc3_ir_f160w_idgg53se_hlet.fits ... [Done]\n",
      "Downloading URL https://mast.stsci.edu/api/v0.1/Download/file?uri=mast:HST/product/hst_15145_53_wfc3_ir_f160w_idgg53sg_drz.fits to pantheon_data_folder/211.65662 -5.43942/mastDownload/HST/hst_15145_53_wfc3_ir_f160w_idgg53sg/hst_15145_53_wfc3_ir_f160w_idgg53sg_drz.fits ... [Done]\n",
      "Downloading URL https://mast.stsci.edu/api/v0.1/Download/file?uri=mast:HST/product/hst_15145_53_wfc3_ir_f160w_idgg53sg_drz.jpg to pantheon_data_folder/211.65662 -5.43942/mastDownload/HST/hst_15145_53_wfc3_ir_f160w_idgg53sg/hst_15145_53_wfc3_ir_f160w_idgg53sg_drz.jpg ... [Done]\n",
      "Downloading URL https://mast.stsci.edu/api/v0.1/Download/file?uri=mast:HST/product/hst_15145_53_wfc3_ir_f160w_idgg53sg_flt.fits to pantheon_data_folder/211.65662 -5.43942/mastDownload/HST/hst_15145_53_wfc3_ir_f160w_idgg53sg/hst_15145_53_wfc3_ir_f160w_idgg53sg_flt.fits ... [Done]\n",
      "Downloading URL https://mast.stsci.edu/api/v0.1/Download/file?uri=mast:HST/product/hst_15145_53_wfc3_ir_f160w_idgg53sg_hlet.fits to pantheon_data_folder/211.65662 -5.43942/mastDownload/HST/hst_15145_53_wfc3_ir_f160w_idgg53sg/hst_15145_53_wfc3_ir_f160w_idgg53sg_hlet.fits ... [Done]\n",
      "Downloading URL https://mast.stsci.edu/api/v0.1/Download/file?uri=mast:HST/product/hst_15145_53_wfc3_ir_f160w_idgg53si_drz.fits to pantheon_data_folder/211.65662 -5.43942/mastDownload/HST/hst_15145_53_wfc3_ir_f160w_idgg53si/hst_15145_53_wfc3_ir_f160w_idgg53si_drz.fits ... [Done]\n",
      "Downloading URL https://mast.stsci.edu/api/v0.1/Download/file?uri=mast:HST/product/hst_15145_53_wfc3_ir_f160w_idgg53si_drz.jpg to pantheon_data_folder/211.65662 -5.43942/mastDownload/HST/hst_15145_53_wfc3_ir_f160w_idgg53si/hst_15145_53_wfc3_ir_f160w_idgg53si_drz.jpg ... [Done]\n",
      "Downloading URL https://mast.stsci.edu/api/v0.1/Download/file?uri=mast:HST/product/hst_15145_53_wfc3_ir_f160w_idgg53si_flt.fits to pantheon_data_folder/211.65662 -5.43942/mastDownload/HST/hst_15145_53_wfc3_ir_f160w_idgg53si/hst_15145_53_wfc3_ir_f160w_idgg53si_flt.fits ... [Done]\n",
      "Downloading URL https://mast.stsci.edu/api/v0.1/Download/file?uri=mast:HST/product/hst_15145_53_wfc3_ir_f160w_idgg53si_hlet.fits to pantheon_data_folder/211.65662 -5.43942/mastDownload/HST/hst_15145_53_wfc3_ir_f160w_idgg53si/hst_15145_53_wfc3_ir_f160w_idgg53si_hlet.fits ... [Done]\n",
      "Downloading URL https://mast.stsci.edu/api/v0.1/Download/file?uri=mast:HST/product/hst_15145_53_wfc3_ir_f160w_idgg53sj_drz.fits to pantheon_data_folder/211.65662 -5.43942/mastDownload/HST/hst_15145_53_wfc3_ir_f160w_idgg53sj/hst_15145_53_wfc3_ir_f160w_idgg53sj_drz.fits ... [Done]\n",
      "Downloading URL https://mast.stsci.edu/api/v0.1/Download/file?uri=mast:HST/product/hst_15145_53_wfc3_ir_f160w_idgg53sj_drz.jpg to pantheon_data_folder/211.65662 -5.43942/mastDownload/HST/hst_15145_53_wfc3_ir_f160w_idgg53sj/hst_15145_53_wfc3_ir_f160w_idgg53sj_drz.jpg ... [Done]\n",
      "Downloading URL https://mast.stsci.edu/api/v0.1/Download/file?uri=mast:HST/product/hst_15145_53_wfc3_ir_f160w_idgg53sj_flt.fits to pantheon_data_folder/211.65662 -5.43942/mastDownload/HST/hst_15145_53_wfc3_ir_f160w_idgg53sj/hst_15145_53_wfc3_ir_f160w_idgg53sj_flt.fits ... [Done]\n",
      "Downloading URL https://mast.stsci.edu/api/v0.1/Download/file?uri=mast:HST/product/hst_15145_53_wfc3_ir_f160w_idgg53sj_hlet.fits to pantheon_data_folder/211.65662 -5.43942/mastDownload/HST/hst_15145_53_wfc3_ir_f160w_idgg53sj/hst_15145_53_wfc3_ir_f160w_idgg53sj_hlet.fits ... [Done]\n",
      "Downloading URL https://mast.stsci.edu/api/v0.1/Download/file?uri=mast:HST/product/hst_15145_53_wfc3_ir_total_idgg53_drz.fits to pantheon_data_folder/211.65662 -5.43942/mastDownload/HST/hst_15145_53_wfc3_ir_total_idgg53/hst_15145_53_wfc3_ir_total_idgg53_drz.fits ... [Done]\n",
      "Downloading URL https://mast.stsci.edu/api/v0.1/Download/file?uri=mast:HST/product/hst_15145_53_wfc3_ir_total_idgg53_drz.jpg to pantheon_data_folder/211.65662 -5.43942/mastDownload/HST/hst_15145_53_wfc3_ir_total_idgg53/hst_15145_53_wfc3_ir_total_idgg53_drz.jpg ... [Done]\n",
      "Downloading URL https://mast.stsci.edu/api/v0.1/Download/file?uri=mast:HST/product/hst_15145_53_wfc3_uvis_f350lp_idgg53_drc.fits to pantheon_data_folder/211.65662 -5.43942/mastDownload/HST/hst_15145_53_wfc3_uvis_f350lp_idgg53/hst_15145_53_wfc3_uvis_f350lp_idgg53_drc.fits ... [Done]\n",
      "Downloading URL https://mast.stsci.edu/api/v0.1/Download/file?uri=mast:HST/product/hst_15145_53_wfc3_uvis_f350lp_idgg53_drc.jpg to pantheon_data_folder/211.65662 -5.43942/mastDownload/HST/hst_15145_53_wfc3_uvis_f350lp_idgg53/hst_15145_53_wfc3_uvis_f350lp_idgg53_drc.jpg ... [Done]\n",
      "Downloading URL https://mast.stsci.edu/api/v0.1/Download/file?uri=mast:HST/product/hst_15145_53_wfc3_uvis_f350lp_idgg53s7_drc.fits to pantheon_data_folder/211.65662 -5.43942/mastDownload/HST/hst_15145_53_wfc3_uvis_f350lp_idgg53s7/hst_15145_53_wfc3_uvis_f350lp_idgg53s7_drc.fits ... [Done]\n",
      "Downloading URL https://mast.stsci.edu/api/v0.1/Download/file?uri=mast:HST/product/hst_15145_53_wfc3_uvis_f350lp_idgg53s7_drc.jpg to pantheon_data_folder/211.65662 -5.43942/mastDownload/HST/hst_15145_53_wfc3_uvis_f350lp_idgg53s7/hst_15145_53_wfc3_uvis_f350lp_idgg53s7_drc.jpg ... [Done]\n",
      "Downloading URL https://mast.stsci.edu/api/v0.1/Download/file?uri=mast:HST/product/hst_15145_53_wfc3_uvis_f350lp_idgg53s7_flc.fits to pantheon_data_folder/211.65662 -5.43942/mastDownload/HST/hst_15145_53_wfc3_uvis_f350lp_idgg53s7/hst_15145_53_wfc3_uvis_f350lp_idgg53s7_flc.fits ... [Done]\n",
      "Downloading URL https://mast.stsci.edu/api/v0.1/Download/file?uri=mast:HST/product/hst_15145_53_wfc3_uvis_f350lp_idgg53s7_hlet.fits to pantheon_data_folder/211.65662 -5.43942/mastDownload/HST/hst_15145_53_wfc3_uvis_f350lp_idgg53s7/hst_15145_53_wfc3_uvis_f350lp_idgg53s7_hlet.fits ... [Done]\n",
      "Downloading URL https://mast.stsci.edu/api/v0.1/Download/file?uri=mast:HST/product/hst_15145_53_wfc3_uvis_f350lp_idgg53s8_drc.fits to pantheon_data_folder/211.65662 -5.43942/mastDownload/HST/hst_15145_53_wfc3_uvis_f350lp_idgg53s8/hst_15145_53_wfc3_uvis_f350lp_idgg53s8_drc.fits ... [Done]\n",
      "Downloading URL https://mast.stsci.edu/api/v0.1/Download/file?uri=mast:HST/product/hst_15145_53_wfc3_uvis_f350lp_idgg53s8_drc.jpg to pantheon_data_folder/211.65662 -5.43942/mastDownload/HST/hst_15145_53_wfc3_uvis_f350lp_idgg53s8/hst_15145_53_wfc3_uvis_f350lp_idgg53s8_drc.jpg ... [Done]\n",
      "Downloading URL https://mast.stsci.edu/api/v0.1/Download/file?uri=mast:HST/product/hst_15145_53_wfc3_uvis_f350lp_idgg53s8_flc.fits to pantheon_data_folder/211.65662 -5.43942/mastDownload/HST/hst_15145_53_wfc3_uvis_f350lp_idgg53s8/hst_15145_53_wfc3_uvis_f350lp_idgg53s8_flc.fits ... [Done]\n",
      "Downloading URL https://mast.stsci.edu/api/v0.1/Download/file?uri=mast:HST/product/hst_15145_53_wfc3_uvis_f350lp_idgg53s8_hlet.fits to pantheon_data_folder/211.65662 -5.43942/mastDownload/HST/hst_15145_53_wfc3_uvis_f350lp_idgg53s8/hst_15145_53_wfc3_uvis_f350lp_idgg53s8_hlet.fits ... [Done]\n",
      "Downloading URL https://mast.stsci.edu/api/v0.1/Download/file?uri=mast:HST/product/hst_15145_53_wfc3_uvis_f350lp_idgg53sa_drc.fits to pantheon_data_folder/211.65662 -5.43942/mastDownload/HST/hst_15145_53_wfc3_uvis_f350lp_idgg53sa/hst_15145_53_wfc3_uvis_f350lp_idgg53sa_drc.fits ... [Done]\n",
      "Downloading URL https://mast.stsci.edu/api/v0.1/Download/file?uri=mast:HST/product/hst_15145_53_wfc3_uvis_f350lp_idgg53sa_drc.jpg to pantheon_data_folder/211.65662 -5.43942/mastDownload/HST/hst_15145_53_wfc3_uvis_f350lp_idgg53sa/hst_15145_53_wfc3_uvis_f350lp_idgg53sa_drc.jpg ... [Done]\n",
      "Downloading URL https://mast.stsci.edu/api/v0.1/Download/file?uri=mast:HST/product/hst_15145_53_wfc3_uvis_f350lp_idgg53sa_flc.fits to pantheon_data_folder/211.65662 -5.43942/mastDownload/HST/hst_15145_53_wfc3_uvis_f350lp_idgg53sa/hst_15145_53_wfc3_uvis_f350lp_idgg53sa_flc.fits ... [Done]\n",
      "Downloading URL https://mast.stsci.edu/api/v0.1/Download/file?uri=mast:HST/product/hst_15145_53_wfc3_uvis_f350lp_idgg53sa_hlet.fits to pantheon_data_folder/211.65662 -5.43942/mastDownload/HST/hst_15145_53_wfc3_uvis_f350lp_idgg53sa/hst_15145_53_wfc3_uvis_f350lp_idgg53sa_hlet.fits ... [Done]\n",
      "Downloading URL https://mast.stsci.edu/api/v0.1/Download/file?uri=mast:HST/product/hst_15145_53_wfc3_uvis_f350lp_idgg53sc_drc.fits to pantheon_data_folder/211.65662 -5.43942/mastDownload/HST/hst_15145_53_wfc3_uvis_f350lp_idgg53sc/hst_15145_53_wfc3_uvis_f350lp_idgg53sc_drc.fits ... [Done]\n",
      "Downloading URL https://mast.stsci.edu/api/v0.1/Download/file?uri=mast:HST/product/hst_15145_53_wfc3_uvis_f350lp_idgg53sc_drc.jpg to pantheon_data_folder/211.65662 -5.43942/mastDownload/HST/hst_15145_53_wfc3_uvis_f350lp_idgg53sc/hst_15145_53_wfc3_uvis_f350lp_idgg53sc_drc.jpg ... [Done]\n",
      "Downloading URL https://mast.stsci.edu/api/v0.1/Download/file?uri=mast:HST/product/hst_15145_53_wfc3_uvis_f350lp_idgg53sc_flc.fits to pantheon_data_folder/211.65662 -5.43942/mastDownload/HST/hst_15145_53_wfc3_uvis_f350lp_idgg53sc/hst_15145_53_wfc3_uvis_f350lp_idgg53sc_flc.fits ... [Done]\n",
      "Downloading URL https://mast.stsci.edu/api/v0.1/Download/file?uri=mast:HST/product/hst_15145_53_wfc3_uvis_f350lp_idgg53sc_hlet.fits to pantheon_data_folder/211.65662 -5.43942/mastDownload/HST/hst_15145_53_wfc3_uvis_f350lp_idgg53sc/hst_15145_53_wfc3_uvis_f350lp_idgg53sc_hlet.fits ... [Done]\n",
      "Downloading URL https://mast.stsci.edu/api/v0.1/Download/file?uri=mast:HST/product/hst_15145_53_wfc3_uvis_total_idgg53_drc.fits to pantheon_data_folder/211.65662 -5.43942/mastDownload/HST/hst_15145_53_wfc3_uvis_total_idgg53/hst_15145_53_wfc3_uvis_total_idgg53_drc.fits ... [Done]\n",
      "Downloading URL https://mast.stsci.edu/api/v0.1/Download/file?uri=mast:HST/product/hst_15145_53_wfc3_uvis_total_idgg53_drc.jpg to pantheon_data_folder/211.65662 -5.43942/mastDownload/HST/hst_15145_53_wfc3_uvis_total_idgg53/hst_15145_53_wfc3_uvis_total_idgg53_drc.jpg ... [Done]\n",
      "Downloading URL https://mast.stsci.edu/api/v0.1/Download/file?uri=mast:HST/product/hst_15145_54_wfc3_uvis_f350lp_idgg54_drc.fits to pantheon_data_folder/211.65662 -5.43942/mastDownload/HST/hst_15145_54_wfc3_uvis_f350lp_idgg54/hst_15145_54_wfc3_uvis_f350lp_idgg54_drc.fits ... [Done]\n",
      "Downloading URL https://mast.stsci.edu/api/v0.1/Download/file?uri=mast:HST/product/hst_15145_54_wfc3_uvis_f350lp_idgg54_drc.jpg to pantheon_data_folder/211.65662 -5.43942/mastDownload/HST/hst_15145_54_wfc3_uvis_f350lp_idgg54/hst_15145_54_wfc3_uvis_f350lp_idgg54_drc.jpg ... [Done]\n",
      "Downloading URL https://mast.stsci.edu/api/v0.1/Download/file?uri=mast:HST/product/hst_15145_54_wfc3_uvis_f350lp_idgg54a1_drc.fits to pantheon_data_folder/211.65662 -5.43942/mastDownload/HST/hst_15145_54_wfc3_uvis_f350lp_idgg54a1/hst_15145_54_wfc3_uvis_f350lp_idgg54a1_drc.fits ... [Done]\n",
      "Downloading URL https://mast.stsci.edu/api/v0.1/Download/file?uri=mast:HST/product/hst_15145_54_wfc3_uvis_f350lp_idgg54a1_drc.jpg to pantheon_data_folder/211.65662 -5.43942/mastDownload/HST/hst_15145_54_wfc3_uvis_f350lp_idgg54a1/hst_15145_54_wfc3_uvis_f350lp_idgg54a1_drc.jpg ... [Done]\n",
      "Downloading URL https://mast.stsci.edu/api/v0.1/Download/file?uri=mast:HST/product/hst_15145_54_wfc3_uvis_f350lp_idgg54a1_flc.fits to pantheon_data_folder/211.65662 -5.43942/mastDownload/HST/hst_15145_54_wfc3_uvis_f350lp_idgg54a1/hst_15145_54_wfc3_uvis_f350lp_idgg54a1_flc.fits ... [Done]\n",
      "Downloading URL https://mast.stsci.edu/api/v0.1/Download/file?uri=mast:HST/product/hst_15145_54_wfc3_uvis_f350lp_idgg54a1_hlet.fits to pantheon_data_folder/211.65662 -5.43942/mastDownload/HST/hst_15145_54_wfc3_uvis_f350lp_idgg54a1/hst_15145_54_wfc3_uvis_f350lp_idgg54a1_hlet.fits ... [Done]\n",
      "Downloading URL https://mast.stsci.edu/api/v0.1/Download/file?uri=mast:HST/product/hst_15145_54_wfc3_uvis_f350lp_idgg54a3_drc.fits to pantheon_data_folder/211.65662 -5.43942/mastDownload/HST/hst_15145_54_wfc3_uvis_f350lp_idgg54a3/hst_15145_54_wfc3_uvis_f350lp_idgg54a3_drc.fits ... [Done]\n",
      "Downloading URL https://mast.stsci.edu/api/v0.1/Download/file?uri=mast:HST/product/hst_15145_54_wfc3_uvis_f350lp_idgg54a3_drc.jpg to pantheon_data_folder/211.65662 -5.43942/mastDownload/HST/hst_15145_54_wfc3_uvis_f350lp_idgg54a3/hst_15145_54_wfc3_uvis_f350lp_idgg54a3_drc.jpg ... [Done]\n",
      "Downloading URL https://mast.stsci.edu/api/v0.1/Download/file?uri=mast:HST/product/hst_15145_54_wfc3_uvis_f350lp_idgg54a3_flc.fits to pantheon_data_folder/211.65662 -5.43942/mastDownload/HST/hst_15145_54_wfc3_uvis_f350lp_idgg54a3/hst_15145_54_wfc3_uvis_f350lp_idgg54a3_flc.fits ... [Done]\n",
      "Downloading URL https://mast.stsci.edu/api/v0.1/Download/file?uri=mast:HST/product/hst_15145_54_wfc3_uvis_f350lp_idgg54a3_hlet.fits to pantheon_data_folder/211.65662 -5.43942/mastDownload/HST/hst_15145_54_wfc3_uvis_f350lp_idgg54a3/hst_15145_54_wfc3_uvis_f350lp_idgg54a3_hlet.fits ... [Done]\n",
      "Downloading URL https://mast.stsci.edu/api/v0.1/Download/file?uri=mast:HST/product/hst_15145_54_wfc3_uvis_f350lp_idgg54zx_drc.fits to pantheon_data_folder/211.65662 -5.43942/mastDownload/HST/hst_15145_54_wfc3_uvis_f350lp_idgg54zx/hst_15145_54_wfc3_uvis_f350lp_idgg54zx_drc.fits ... [Done]\n",
      "Downloading URL https://mast.stsci.edu/api/v0.1/Download/file?uri=mast:HST/product/hst_15145_54_wfc3_uvis_f350lp_idgg54zx_drc.jpg to pantheon_data_folder/211.65662 -5.43942/mastDownload/HST/hst_15145_54_wfc3_uvis_f350lp_idgg54zx/hst_15145_54_wfc3_uvis_f350lp_idgg54zx_drc.jpg ... [Done]\n",
      "Downloading URL https://mast.stsci.edu/api/v0.1/Download/file?uri=mast:HST/product/hst_15145_54_wfc3_uvis_f350lp_idgg54zx_flc.fits to pantheon_data_folder/211.65662 -5.43942/mastDownload/HST/hst_15145_54_wfc3_uvis_f350lp_idgg54zx/hst_15145_54_wfc3_uvis_f350lp_idgg54zx_flc.fits ... [Done]\n",
      "Downloading URL https://mast.stsci.edu/api/v0.1/Download/file?uri=mast:HST/product/hst_15145_54_wfc3_uvis_f350lp_idgg54zx_hlet.fits to pantheon_data_folder/211.65662 -5.43942/mastDownload/HST/hst_15145_54_wfc3_uvis_f350lp_idgg54zx/hst_15145_54_wfc3_uvis_f350lp_idgg54zx_hlet.fits ... [Done]\n",
      "Downloading URL https://mast.stsci.edu/api/v0.1/Download/file?uri=mast:HST/product/hst_15145_54_wfc3_uvis_f350lp_idgg54zy_drc.fits to pantheon_data_folder/211.65662 -5.43942/mastDownload/HST/hst_15145_54_wfc3_uvis_f350lp_idgg54zy/hst_15145_54_wfc3_uvis_f350lp_idgg54zy_drc.fits ... [Done]\n",
      "Downloading URL https://mast.stsci.edu/api/v0.1/Download/file?uri=mast:HST/product/hst_15145_54_wfc3_uvis_f350lp_idgg54zy_drc.jpg to pantheon_data_folder/211.65662 -5.43942/mastDownload/HST/hst_15145_54_wfc3_uvis_f350lp_idgg54zy/hst_15145_54_wfc3_uvis_f350lp_idgg54zy_drc.jpg ... [Done]\n",
      "Downloading URL https://mast.stsci.edu/api/v0.1/Download/file?uri=mast:HST/product/hst_15145_54_wfc3_uvis_f350lp_idgg54zy_flc.fits to pantheon_data_folder/211.65662 -5.43942/mastDownload/HST/hst_15145_54_wfc3_uvis_f350lp_idgg54zy/hst_15145_54_wfc3_uvis_f350lp_idgg54zy_flc.fits ... [Done]\n",
      "Downloading URL https://mast.stsci.edu/api/v0.1/Download/file?uri=mast:HST/product/hst_15145_54_wfc3_uvis_f350lp_idgg54zy_hlet.fits to pantheon_data_folder/211.65662 -5.43942/mastDownload/HST/hst_15145_54_wfc3_uvis_f350lp_idgg54zy/hst_15145_54_wfc3_uvis_f350lp_idgg54zy_hlet.fits ... [Done]\n",
      "Downloading URL https://mast.stsci.edu/api/v0.1/Download/file?uri=mast:HST/product/hst_15145_54_wfc3_uvis_f555w_idgg54_drc.fits to pantheon_data_folder/211.65662 -5.43942/mastDownload/HST/hst_15145_54_wfc3_uvis_f555w_idgg54/hst_15145_54_wfc3_uvis_f555w_idgg54_drc.fits ... [Done]\n",
      "Downloading URL https://mast.stsci.edu/api/v0.1/Download/file?uri=mast:HST/product/hst_15145_54_wfc3_uvis_f555w_idgg54_drc.jpg to pantheon_data_folder/211.65662 -5.43942/mastDownload/HST/hst_15145_54_wfc3_uvis_f555w_idgg54/hst_15145_54_wfc3_uvis_f555w_idgg54_drc.jpg ... [Done]\n",
      "Downloading URL https://mast.stsci.edu/api/v0.1/Download/file?uri=mast:HST/product/hst_15145_54_wfc3_uvis_f555w_idgg54a5_drc.fits to pantheon_data_folder/211.65662 -5.43942/mastDownload/HST/hst_15145_54_wfc3_uvis_f555w_idgg54a5/hst_15145_54_wfc3_uvis_f555w_idgg54a5_drc.fits ... [Done]\n",
      "Downloading URL https://mast.stsci.edu/api/v0.1/Download/file?uri=mast:HST/product/hst_15145_54_wfc3_uvis_f555w_idgg54a5_drc.jpg to pantheon_data_folder/211.65662 -5.43942/mastDownload/HST/hst_15145_54_wfc3_uvis_f555w_idgg54a5/hst_15145_54_wfc3_uvis_f555w_idgg54a5_drc.jpg ... [Done]\n",
      "Downloading URL https://mast.stsci.edu/api/v0.1/Download/file?uri=mast:HST/product/hst_15145_54_wfc3_uvis_f555w_idgg54a5_flc.fits to pantheon_data_folder/211.65662 -5.43942/mastDownload/HST/hst_15145_54_wfc3_uvis_f555w_idgg54a5/hst_15145_54_wfc3_uvis_f555w_idgg54a5_flc.fits ... [Done]\n",
      "Downloading URL https://mast.stsci.edu/api/v0.1/Download/file?uri=mast:HST/product/hst_15145_54_wfc3_uvis_f555w_idgg54a5_hlet.fits to pantheon_data_folder/211.65662 -5.43942/mastDownload/HST/hst_15145_54_wfc3_uvis_f555w_idgg54a5/hst_15145_54_wfc3_uvis_f555w_idgg54a5_hlet.fits ... [Done]\n",
      "Downloading URL https://mast.stsci.edu/api/v0.1/Download/file?uri=mast:HST/product/hst_15145_54_wfc3_uvis_f555w_idgg54a7_drc.fits to pantheon_data_folder/211.65662 -5.43942/mastDownload/HST/hst_15145_54_wfc3_uvis_f555w_idgg54a7/hst_15145_54_wfc3_uvis_f555w_idgg54a7_drc.fits ... [Done]\n",
      "Downloading URL https://mast.stsci.edu/api/v0.1/Download/file?uri=mast:HST/product/hst_15145_54_wfc3_uvis_f555w_idgg54a7_drc.jpg to pantheon_data_folder/211.65662 -5.43942/mastDownload/HST/hst_15145_54_wfc3_uvis_f555w_idgg54a7/hst_15145_54_wfc3_uvis_f555w_idgg54a7_drc.jpg ... [Done]\n",
      "Downloading URL https://mast.stsci.edu/api/v0.1/Download/file?uri=mast:HST/product/hst_15145_54_wfc3_uvis_f555w_idgg54a7_flc.fits to pantheon_data_folder/211.65662 -5.43942/mastDownload/HST/hst_15145_54_wfc3_uvis_f555w_idgg54a7/hst_15145_54_wfc3_uvis_f555w_idgg54a7_flc.fits ... [Done]\n",
      "Downloading URL https://mast.stsci.edu/api/v0.1/Download/file?uri=mast:HST/product/hst_15145_54_wfc3_uvis_f555w_idgg54a7_hlet.fits to pantheon_data_folder/211.65662 -5.43942/mastDownload/HST/hst_15145_54_wfc3_uvis_f555w_idgg54a7/hst_15145_54_wfc3_uvis_f555w_idgg54a7_hlet.fits ... [Done]\n",
      "Downloading URL https://mast.stsci.edu/api/v0.1/Download/file?uri=mast:HST/product/hst_15145_54_wfc3_uvis_f814w_idgg54_drc.fits to pantheon_data_folder/211.65662 -5.43942/mastDownload/HST/hst_15145_54_wfc3_uvis_f814w_idgg54/hst_15145_54_wfc3_uvis_f814w_idgg54_drc.fits ... [Done]\n",
      "Downloading URL https://mast.stsci.edu/api/v0.1/Download/file?uri=mast:HST/product/hst_15145_54_wfc3_uvis_f814w_idgg54_drc.jpg to pantheon_data_folder/211.65662 -5.43942/mastDownload/HST/hst_15145_54_wfc3_uvis_f814w_idgg54/hst_15145_54_wfc3_uvis_f814w_idgg54_drc.jpg ... [Done]\n",
      "Downloading URL https://mast.stsci.edu/api/v0.1/Download/file?uri=mast:HST/product/hst_15145_54_wfc3_uvis_f814w_idgg54a9_drc.fits to pantheon_data_folder/211.65662 -5.43942/mastDownload/HST/hst_15145_54_wfc3_uvis_f814w_idgg54a9/hst_15145_54_wfc3_uvis_f814w_idgg54a9_drc.fits ... [Done]\n",
      "Downloading URL https://mast.stsci.edu/api/v0.1/Download/file?uri=mast:HST/product/hst_15145_54_wfc3_uvis_f814w_idgg54a9_drc.jpg to pantheon_data_folder/211.65662 -5.43942/mastDownload/HST/hst_15145_54_wfc3_uvis_f814w_idgg54a9/hst_15145_54_wfc3_uvis_f814w_idgg54a9_drc.jpg ... [Done]\n",
      "Downloading URL https://mast.stsci.edu/api/v0.1/Download/file?uri=mast:HST/product/hst_15145_54_wfc3_uvis_f814w_idgg54a9_flc.fits to pantheon_data_folder/211.65662 -5.43942/mastDownload/HST/hst_15145_54_wfc3_uvis_f814w_idgg54a9/hst_15145_54_wfc3_uvis_f814w_idgg54a9_flc.fits ... [Done]\n",
      "Downloading URL https://mast.stsci.edu/api/v0.1/Download/file?uri=mast:HST/product/hst_15145_54_wfc3_uvis_f814w_idgg54a9_hlet.fits to pantheon_data_folder/211.65662 -5.43942/mastDownload/HST/hst_15145_54_wfc3_uvis_f814w_idgg54a9/hst_15145_54_wfc3_uvis_f814w_idgg54a9_hlet.fits ... [Done]\n",
      "Downloading URL https://mast.stsci.edu/api/v0.1/Download/file?uri=mast:HST/product/hst_15145_54_wfc3_uvis_f814w_idgg54ab_drc.fits to pantheon_data_folder/211.65662 -5.43942/mastDownload/HST/hst_15145_54_wfc3_uvis_f814w_idgg54ab/hst_15145_54_wfc3_uvis_f814w_idgg54ab_drc.fits ... [Done]\n",
      "Downloading URL https://mast.stsci.edu/api/v0.1/Download/file?uri=mast:HST/product/hst_15145_54_wfc3_uvis_f814w_idgg54ab_drc.jpg to pantheon_data_folder/211.65662 -5.43942/mastDownload/HST/hst_15145_54_wfc3_uvis_f814w_idgg54ab/hst_15145_54_wfc3_uvis_f814w_idgg54ab_drc.jpg ... [Done]\n",
      "Downloading URL https://mast.stsci.edu/api/v0.1/Download/file?uri=mast:HST/product/hst_15145_54_wfc3_uvis_f814w_idgg54ab_flc.fits to pantheon_data_folder/211.65662 -5.43942/mastDownload/HST/hst_15145_54_wfc3_uvis_f814w_idgg54ab/hst_15145_54_wfc3_uvis_f814w_idgg54ab_flc.fits ... [Done]\n",
      "Downloading URL https://mast.stsci.edu/api/v0.1/Download/file?uri=mast:HST/product/hst_15145_54_wfc3_uvis_f814w_idgg54ab_hlet.fits to pantheon_data_folder/211.65662 -5.43942/mastDownload/HST/hst_15145_54_wfc3_uvis_f814w_idgg54ab/hst_15145_54_wfc3_uvis_f814w_idgg54ab_hlet.fits ... [Done]\n",
      "Downloading URL https://mast.stsci.edu/api/v0.1/Download/file?uri=mast:HST/product/hst_15145_54_wfc3_uvis_total_idgg54_drc.fits to pantheon_data_folder/211.65662 -5.43942/mastDownload/HST/hst_15145_54_wfc3_uvis_total_idgg54/hst_15145_54_wfc3_uvis_total_idgg54_drc.fits ... [Done]\n",
      "Downloading URL https://mast.stsci.edu/api/v0.1/Download/file?uri=mast:HST/product/hst_15145_54_wfc3_uvis_total_idgg54_drc.jpg to pantheon_data_folder/211.65662 -5.43942/mastDownload/HST/hst_15145_54_wfc3_uvis_total_idgg54/hst_15145_54_wfc3_uvis_total_idgg54_drc.jpg ... [Done]\n",
      "Downloading URL https://mast.stsci.edu/api/v0.1/Download/file?uri=mast:HST/product/hst_15145_54_wfc3_uvis_total_idgg54_drc_color.jpg to pantheon_data_folder/211.65662 -5.43942/mastDownload/HST/hst_15145_54_wfc3_uvis_total_idgg54/hst_15145_54_wfc3_uvis_total_idgg54_drc_color.jpg ... [Done]\n",
      "Downloading URL https://mast.stsci.edu/api/v0.1/Download/file?uri=mast:HST/product/hst_15145_55_wfc3_ir_f160w_idgg55_drz.fits to pantheon_data_folder/211.65662 -5.43942/mastDownload/HST/hst_15145_55_wfc3_ir_f160w_idgg55/hst_15145_55_wfc3_ir_f160w_idgg55_drz.fits ... [Done]\n",
      "Downloading URL https://mast.stsci.edu/api/v0.1/Download/file?uri=mast:HST/product/hst_15145_55_wfc3_ir_f160w_idgg55_drz.jpg to pantheon_data_folder/211.65662 -5.43942/mastDownload/HST/hst_15145_55_wfc3_ir_f160w_idgg55/hst_15145_55_wfc3_ir_f160w_idgg55_drz.jpg ... [Done]\n",
      "Downloading URL https://mast.stsci.edu/api/v0.1/Download/file?uri=mast:HST/product/hst_15145_55_wfc3_ir_f160w_idgg55kt_drz.fits to pantheon_data_folder/211.65662 -5.43942/mastDownload/HST/hst_15145_55_wfc3_ir_f160w_idgg55kt/hst_15145_55_wfc3_ir_f160w_idgg55kt_drz.fits ... [Done]\n",
      "Downloading URL https://mast.stsci.edu/api/v0.1/Download/file?uri=mast:HST/product/hst_15145_55_wfc3_ir_f160w_idgg55kt_drz.jpg to pantheon_data_folder/211.65662 -5.43942/mastDownload/HST/hst_15145_55_wfc3_ir_f160w_idgg55kt/hst_15145_55_wfc3_ir_f160w_idgg55kt_drz.jpg ... [Done]\n",
      "Downloading URL https://mast.stsci.edu/api/v0.1/Download/file?uri=mast:HST/product/hst_15145_55_wfc3_ir_f160w_idgg55kt_flt.fits to pantheon_data_folder/211.65662 -5.43942/mastDownload/HST/hst_15145_55_wfc3_ir_f160w_idgg55kt/hst_15145_55_wfc3_ir_f160w_idgg55kt_flt.fits ... [Done]\n",
      "Downloading URL https://mast.stsci.edu/api/v0.1/Download/file?uri=mast:HST/product/hst_15145_55_wfc3_ir_f160w_idgg55kt_hlet.fits to pantheon_data_folder/211.65662 -5.43942/mastDownload/HST/hst_15145_55_wfc3_ir_f160w_idgg55kt/hst_15145_55_wfc3_ir_f160w_idgg55kt_hlet.fits ... [Done]\n",
      "Downloading URL https://mast.stsci.edu/api/v0.1/Download/file?uri=mast:HST/product/hst_15145_55_wfc3_ir_f160w_idgg55kv_drz.fits to pantheon_data_folder/211.65662 -5.43942/mastDownload/HST/hst_15145_55_wfc3_ir_f160w_idgg55kv/hst_15145_55_wfc3_ir_f160w_idgg55kv_drz.fits ... [Done]\n",
      "Downloading URL https://mast.stsci.edu/api/v0.1/Download/file?uri=mast:HST/product/hst_15145_55_wfc3_ir_f160w_idgg55kv_drz.jpg to pantheon_data_folder/211.65662 -5.43942/mastDownload/HST/hst_15145_55_wfc3_ir_f160w_idgg55kv/hst_15145_55_wfc3_ir_f160w_idgg55kv_drz.jpg ... [Done]\n",
      "Downloading URL https://mast.stsci.edu/api/v0.1/Download/file?uri=mast:HST/product/hst_15145_55_wfc3_ir_f160w_idgg55kv_flt.fits to pantheon_data_folder/211.65662 -5.43942/mastDownload/HST/hst_15145_55_wfc3_ir_f160w_idgg55kv/hst_15145_55_wfc3_ir_f160w_idgg55kv_flt.fits ... [Done]\n",
      "Downloading URL https://mast.stsci.edu/api/v0.1/Download/file?uri=mast:HST/product/hst_15145_55_wfc3_ir_f160w_idgg55kv_hlet.fits to pantheon_data_folder/211.65662 -5.43942/mastDownload/HST/hst_15145_55_wfc3_ir_f160w_idgg55kv/hst_15145_55_wfc3_ir_f160w_idgg55kv_hlet.fits ... [Done]\n",
      "Downloading URL https://mast.stsci.edu/api/v0.1/Download/file?uri=mast:HST/product/hst_15145_55_wfc3_ir_f160w_idgg55kx_drz.fits to pantheon_data_folder/211.65662 -5.43942/mastDownload/HST/hst_15145_55_wfc3_ir_f160w_idgg55kx/hst_15145_55_wfc3_ir_f160w_idgg55kx_drz.fits ... [Done]\n",
      "Downloading URL https://mast.stsci.edu/api/v0.1/Download/file?uri=mast:HST/product/hst_15145_55_wfc3_ir_f160w_idgg55kx_drz.jpg to pantheon_data_folder/211.65662 -5.43942/mastDownload/HST/hst_15145_55_wfc3_ir_f160w_idgg55kx/hst_15145_55_wfc3_ir_f160w_idgg55kx_drz.jpg ... [Done]\n",
      "Downloading URL https://mast.stsci.edu/api/v0.1/Download/file?uri=mast:HST/product/hst_15145_55_wfc3_ir_f160w_idgg55kx_flt.fits to pantheon_data_folder/211.65662 -5.43942/mastDownload/HST/hst_15145_55_wfc3_ir_f160w_idgg55kx/hst_15145_55_wfc3_ir_f160w_idgg55kx_flt.fits ... [Done]\n",
      "Downloading URL https://mast.stsci.edu/api/v0.1/Download/file?uri=mast:HST/product/hst_15145_55_wfc3_ir_f160w_idgg55kx_hlet.fits to pantheon_data_folder/211.65662 -5.43942/mastDownload/HST/hst_15145_55_wfc3_ir_f160w_idgg55kx/hst_15145_55_wfc3_ir_f160w_idgg55kx_hlet.fits ... [Done]\n",
      "Downloading URL https://mast.stsci.edu/api/v0.1/Download/file?uri=mast:HST/product/hst_15145_55_wfc3_ir_f160w_idgg55ky_drz.fits to pantheon_data_folder/211.65662 -5.43942/mastDownload/HST/hst_15145_55_wfc3_ir_f160w_idgg55ky/hst_15145_55_wfc3_ir_f160w_idgg55ky_drz.fits ... [Done]\n",
      "Downloading URL https://mast.stsci.edu/api/v0.1/Download/file?uri=mast:HST/product/hst_15145_55_wfc3_ir_f160w_idgg55ky_drz.jpg to pantheon_data_folder/211.65662 -5.43942/mastDownload/HST/hst_15145_55_wfc3_ir_f160w_idgg55ky/hst_15145_55_wfc3_ir_f160w_idgg55ky_drz.jpg ... [Done]\n",
      "Downloading URL https://mast.stsci.edu/api/v0.1/Download/file?uri=mast:HST/product/hst_15145_55_wfc3_ir_f160w_idgg55ky_flt.fits to pantheon_data_folder/211.65662 -5.43942/mastDownload/HST/hst_15145_55_wfc3_ir_f160w_idgg55ky/hst_15145_55_wfc3_ir_f160w_idgg55ky_flt.fits ... [Done]\n",
      "Downloading URL https://mast.stsci.edu/api/v0.1/Download/file?uri=mast:HST/product/hst_15145_55_wfc3_ir_f160w_idgg55ky_hlet.fits to pantheon_data_folder/211.65662 -5.43942/mastDownload/HST/hst_15145_55_wfc3_ir_f160w_idgg55ky/hst_15145_55_wfc3_ir_f160w_idgg55ky_hlet.fits ... [Done]\n",
      "Downloading URL https://mast.stsci.edu/api/v0.1/Download/file?uri=mast:HST/product/hst_15145_55_wfc3_ir_total_idgg55_drz.fits to pantheon_data_folder/211.65662 -5.43942/mastDownload/HST/hst_15145_55_wfc3_ir_total_idgg55/hst_15145_55_wfc3_ir_total_idgg55_drz.fits ... [Done]\n",
      "Downloading URL https://mast.stsci.edu/api/v0.1/Download/file?uri=mast:HST/product/hst_15145_55_wfc3_ir_total_idgg55_drz.jpg to pantheon_data_folder/211.65662 -5.43942/mastDownload/HST/hst_15145_55_wfc3_ir_total_idgg55/hst_15145_55_wfc3_ir_total_idgg55_drz.jpg ... [Done]\n",
      "Downloading URL https://mast.stsci.edu/api/v0.1/Download/file?uri=mast:HST/product/hst_15145_55_wfc3_uvis_f350lp_idgg55_drc.fits to pantheon_data_folder/211.65662 -5.43942/mastDownload/HST/hst_15145_55_wfc3_uvis_f350lp_idgg55/hst_15145_55_wfc3_uvis_f350lp_idgg55_drc.fits ... [Done]\n",
      "Downloading URL https://mast.stsci.edu/api/v0.1/Download/file?uri=mast:HST/product/hst_15145_55_wfc3_uvis_f350lp_idgg55_drc.jpg to pantheon_data_folder/211.65662 -5.43942/mastDownload/HST/hst_15145_55_wfc3_uvis_f350lp_idgg55/hst_15145_55_wfc3_uvis_f350lp_idgg55_drc.jpg ... [Done]\n",
      "Downloading URL https://mast.stsci.edu/api/v0.1/Download/file?uri=mast:HST/product/hst_15145_55_wfc3_uvis_f350lp_idgg55km_drc.fits to pantheon_data_folder/211.65662 -5.43942/mastDownload/HST/hst_15145_55_wfc3_uvis_f350lp_idgg55km/hst_15145_55_wfc3_uvis_f350lp_idgg55km_drc.fits ... [Done]\n",
      "Downloading URL https://mast.stsci.edu/api/v0.1/Download/file?uri=mast:HST/product/hst_15145_55_wfc3_uvis_f350lp_idgg55km_drc.jpg to pantheon_data_folder/211.65662 -5.43942/mastDownload/HST/hst_15145_55_wfc3_uvis_f350lp_idgg55km/hst_15145_55_wfc3_uvis_f350lp_idgg55km_drc.jpg ... [Done]\n",
      "Downloading URL https://mast.stsci.edu/api/v0.1/Download/file?uri=mast:HST/product/hst_15145_55_wfc3_uvis_f350lp_idgg55km_flc.fits to pantheon_data_folder/211.65662 -5.43942/mastDownload/HST/hst_15145_55_wfc3_uvis_f350lp_idgg55km/hst_15145_55_wfc3_uvis_f350lp_idgg55km_flc.fits ... [Done]\n",
      "Downloading URL https://mast.stsci.edu/api/v0.1/Download/file?uri=mast:HST/product/hst_15145_55_wfc3_uvis_f350lp_idgg55km_hlet.fits to pantheon_data_folder/211.65662 -5.43942/mastDownload/HST/hst_15145_55_wfc3_uvis_f350lp_idgg55km/hst_15145_55_wfc3_uvis_f350lp_idgg55km_hlet.fits ... [Done]\n",
      "Downloading URL https://mast.stsci.edu/api/v0.1/Download/file?uri=mast:HST/product/hst_15145_55_wfc3_uvis_f350lp_idgg55kn_drc.fits to pantheon_data_folder/211.65662 -5.43942/mastDownload/HST/hst_15145_55_wfc3_uvis_f350lp_idgg55kn/hst_15145_55_wfc3_uvis_f350lp_idgg55kn_drc.fits ... [Done]\n",
      "Downloading URL https://mast.stsci.edu/api/v0.1/Download/file?uri=mast:HST/product/hst_15145_55_wfc3_uvis_f350lp_idgg55kn_drc.jpg to pantheon_data_folder/211.65662 -5.43942/mastDownload/HST/hst_15145_55_wfc3_uvis_f350lp_idgg55kn/hst_15145_55_wfc3_uvis_f350lp_idgg55kn_drc.jpg ... [Done]\n",
      "Downloading URL https://mast.stsci.edu/api/v0.1/Download/file?uri=mast:HST/product/hst_15145_55_wfc3_uvis_f350lp_idgg55kn_flc.fits to pantheon_data_folder/211.65662 -5.43942/mastDownload/HST/hst_15145_55_wfc3_uvis_f350lp_idgg55kn/hst_15145_55_wfc3_uvis_f350lp_idgg55kn_flc.fits ... [Done]\n",
      "Downloading URL https://mast.stsci.edu/api/v0.1/Download/file?uri=mast:HST/product/hst_15145_55_wfc3_uvis_f350lp_idgg55kn_hlet.fits to pantheon_data_folder/211.65662 -5.43942/mastDownload/HST/hst_15145_55_wfc3_uvis_f350lp_idgg55kn/hst_15145_55_wfc3_uvis_f350lp_idgg55kn_hlet.fits ... [Done]\n",
      "Downloading URL https://mast.stsci.edu/api/v0.1/Download/file?uri=mast:HST/product/hst_15145_55_wfc3_uvis_f350lp_idgg55kp_drc.fits to pantheon_data_folder/211.65662 -5.43942/mastDownload/HST/hst_15145_55_wfc3_uvis_f350lp_idgg55kp/hst_15145_55_wfc3_uvis_f350lp_idgg55kp_drc.fits ... [Done]\n",
      "Downloading URL https://mast.stsci.edu/api/v0.1/Download/file?uri=mast:HST/product/hst_15145_55_wfc3_uvis_f350lp_idgg55kp_drc.jpg to pantheon_data_folder/211.65662 -5.43942/mastDownload/HST/hst_15145_55_wfc3_uvis_f350lp_idgg55kp/hst_15145_55_wfc3_uvis_f350lp_idgg55kp_drc.jpg ... [Done]\n",
      "Downloading URL https://mast.stsci.edu/api/v0.1/Download/file?uri=mast:HST/product/hst_15145_55_wfc3_uvis_f350lp_idgg55kp_flc.fits to pantheon_data_folder/211.65662 -5.43942/mastDownload/HST/hst_15145_55_wfc3_uvis_f350lp_idgg55kp/hst_15145_55_wfc3_uvis_f350lp_idgg55kp_flc.fits ... [Done]\n",
      "Downloading URL https://mast.stsci.edu/api/v0.1/Download/file?uri=mast:HST/product/hst_15145_55_wfc3_uvis_f350lp_idgg55kp_hlet.fits to pantheon_data_folder/211.65662 -5.43942/mastDownload/HST/hst_15145_55_wfc3_uvis_f350lp_idgg55kp/hst_15145_55_wfc3_uvis_f350lp_idgg55kp_hlet.fits ... [Done]\n",
      "Downloading URL https://mast.stsci.edu/api/v0.1/Download/file?uri=mast:HST/product/hst_15145_55_wfc3_uvis_f350lp_idgg55kr_drc.fits to pantheon_data_folder/211.65662 -5.43942/mastDownload/HST/hst_15145_55_wfc3_uvis_f350lp_idgg55kr/hst_15145_55_wfc3_uvis_f350lp_idgg55kr_drc.fits ... [Done]\n",
      "Downloading URL https://mast.stsci.edu/api/v0.1/Download/file?uri=mast:HST/product/hst_15145_55_wfc3_uvis_f350lp_idgg55kr_drc.jpg to pantheon_data_folder/211.65662 -5.43942/mastDownload/HST/hst_15145_55_wfc3_uvis_f350lp_idgg55kr/hst_15145_55_wfc3_uvis_f350lp_idgg55kr_drc.jpg ... [Done]\n",
      "Downloading URL https://mast.stsci.edu/api/v0.1/Download/file?uri=mast:HST/product/hst_15145_55_wfc3_uvis_f350lp_idgg55kr_flc.fits to pantheon_data_folder/211.65662 -5.43942/mastDownload/HST/hst_15145_55_wfc3_uvis_f350lp_idgg55kr/hst_15145_55_wfc3_uvis_f350lp_idgg55kr_flc.fits ... [Done]\n",
      "Downloading URL https://mast.stsci.edu/api/v0.1/Download/file?uri=mast:HST/product/hst_15145_55_wfc3_uvis_f350lp_idgg55kr_hlet.fits to pantheon_data_folder/211.65662 -5.43942/mastDownload/HST/hst_15145_55_wfc3_uvis_f350lp_idgg55kr/hst_15145_55_wfc3_uvis_f350lp_idgg55kr_hlet.fits ... [Done]\n",
      "Downloading URL https://mast.stsci.edu/api/v0.1/Download/file?uri=mast:HST/product/hst_15145_55_wfc3_uvis_total_idgg55_drc.fits to pantheon_data_folder/211.65662 -5.43942/mastDownload/HST/hst_15145_55_wfc3_uvis_total_idgg55/hst_15145_55_wfc3_uvis_total_idgg55_drc.fits ... [Done]\n",
      "Downloading URL https://mast.stsci.edu/api/v0.1/Download/file?uri=mast:HST/product/hst_15145_55_wfc3_uvis_total_idgg55_drc.jpg to pantheon_data_folder/211.65662 -5.43942/mastDownload/HST/hst_15145_55_wfc3_uvis_total_idgg55/hst_15145_55_wfc3_uvis_total_idgg55_drc.jpg ... [Done]\n",
      "Downloading URL https://mast.stsci.edu/api/v0.1/Download/file?uri=mast:HST/product/hst_15145_56_wfc3_uvis_f350lp_idgg56_drc.fits to pantheon_data_folder/211.65662 -5.43942/mastDownload/HST/hst_15145_56_wfc3_uvis_f350lp_idgg56/hst_15145_56_wfc3_uvis_f350lp_idgg56_drc.fits ... [Done]\n",
      "Downloading URL https://mast.stsci.edu/api/v0.1/Download/file?uri=mast:HST/product/hst_15145_56_wfc3_uvis_f350lp_idgg56_drc.jpg to pantheon_data_folder/211.65662 -5.43942/mastDownload/HST/hst_15145_56_wfc3_uvis_f350lp_idgg56/hst_15145_56_wfc3_uvis_f350lp_idgg56_drc.jpg ... [Done]\n",
      "Downloading URL https://mast.stsci.edu/api/v0.1/Download/file?uri=mast:HST/product/hst_15145_56_wfc3_uvis_f350lp_idgg56el_drc.fits to pantheon_data_folder/211.65662 -5.43942/mastDownload/HST/hst_15145_56_wfc3_uvis_f350lp_idgg56el/hst_15145_56_wfc3_uvis_f350lp_idgg56el_drc.fits ... [Done]\n",
      "Downloading URL https://mast.stsci.edu/api/v0.1/Download/file?uri=mast:HST/product/hst_15145_56_wfc3_uvis_f350lp_idgg56el_drc.jpg to pantheon_data_folder/211.65662 -5.43942/mastDownload/HST/hst_15145_56_wfc3_uvis_f350lp_idgg56el/hst_15145_56_wfc3_uvis_f350lp_idgg56el_drc.jpg ... [Done]\n",
      "Downloading URL https://mast.stsci.edu/api/v0.1/Download/file?uri=mast:HST/product/hst_15145_56_wfc3_uvis_f350lp_idgg56el_flc.fits to pantheon_data_folder/211.65662 -5.43942/mastDownload/HST/hst_15145_56_wfc3_uvis_f350lp_idgg56el/hst_15145_56_wfc3_uvis_f350lp_idgg56el_flc.fits ... [Done]\n",
      "Downloading URL https://mast.stsci.edu/api/v0.1/Download/file?uri=mast:HST/product/hst_15145_56_wfc3_uvis_f350lp_idgg56el_hlet.fits to pantheon_data_folder/211.65662 -5.43942/mastDownload/HST/hst_15145_56_wfc3_uvis_f350lp_idgg56el/hst_15145_56_wfc3_uvis_f350lp_idgg56el_hlet.fits ... [Done]\n",
      "Downloading URL https://mast.stsci.edu/api/v0.1/Download/file?uri=mast:HST/product/hst_15145_56_wfc3_uvis_f350lp_idgg56em_drc.fits to pantheon_data_folder/211.65662 -5.43942/mastDownload/HST/hst_15145_56_wfc3_uvis_f350lp_idgg56em/hst_15145_56_wfc3_uvis_f350lp_idgg56em_drc.fits ... [Done]\n",
      "Downloading URL https://mast.stsci.edu/api/v0.1/Download/file?uri=mast:HST/product/hst_15145_56_wfc3_uvis_f350lp_idgg56em_drc.jpg to pantheon_data_folder/211.65662 -5.43942/mastDownload/HST/hst_15145_56_wfc3_uvis_f350lp_idgg56em/hst_15145_56_wfc3_uvis_f350lp_idgg56em_drc.jpg ... [Done]\n",
      "Downloading URL https://mast.stsci.edu/api/v0.1/Download/file?uri=mast:HST/product/hst_15145_56_wfc3_uvis_f350lp_idgg56em_flc.fits to pantheon_data_folder/211.65662 -5.43942/mastDownload/HST/hst_15145_56_wfc3_uvis_f350lp_idgg56em/hst_15145_56_wfc3_uvis_f350lp_idgg56em_flc.fits ... [Done]\n",
      "Downloading URL https://mast.stsci.edu/api/v0.1/Download/file?uri=mast:HST/product/hst_15145_56_wfc3_uvis_f350lp_idgg56em_hlet.fits to pantheon_data_folder/211.65662 -5.43942/mastDownload/HST/hst_15145_56_wfc3_uvis_f350lp_idgg56em/hst_15145_56_wfc3_uvis_f350lp_idgg56em_hlet.fits ... [Done]\n",
      "Downloading URL https://mast.stsci.edu/api/v0.1/Download/file?uri=mast:HST/product/hst_15145_56_wfc3_uvis_f350lp_idgg56eo_drc.fits to pantheon_data_folder/211.65662 -5.43942/mastDownload/HST/hst_15145_56_wfc3_uvis_f350lp_idgg56eo/hst_15145_56_wfc3_uvis_f350lp_idgg56eo_drc.fits ... [Done]\n",
      "Downloading URL https://mast.stsci.edu/api/v0.1/Download/file?uri=mast:HST/product/hst_15145_56_wfc3_uvis_f350lp_idgg56eo_drc.jpg to pantheon_data_folder/211.65662 -5.43942/mastDownload/HST/hst_15145_56_wfc3_uvis_f350lp_idgg56eo/hst_15145_56_wfc3_uvis_f350lp_idgg56eo_drc.jpg ... [Done]\n",
      "Downloading URL https://mast.stsci.edu/api/v0.1/Download/file?uri=mast:HST/product/hst_15145_56_wfc3_uvis_f350lp_idgg56eo_flc.fits to pantheon_data_folder/211.65662 -5.43942/mastDownload/HST/hst_15145_56_wfc3_uvis_f350lp_idgg56eo/hst_15145_56_wfc3_uvis_f350lp_idgg56eo_flc.fits ... [Done]\n",
      "Downloading URL https://mast.stsci.edu/api/v0.1/Download/file?uri=mast:HST/product/hst_15145_56_wfc3_uvis_f350lp_idgg56eo_hlet.fits to pantheon_data_folder/211.65662 -5.43942/mastDownload/HST/hst_15145_56_wfc3_uvis_f350lp_idgg56eo/hst_15145_56_wfc3_uvis_f350lp_idgg56eo_hlet.fits ... [Done]\n",
      "Downloading URL https://mast.stsci.edu/api/v0.1/Download/file?uri=mast:HST/product/hst_15145_56_wfc3_uvis_f350lp_idgg56eq_drc.fits to pantheon_data_folder/211.65662 -5.43942/mastDownload/HST/hst_15145_56_wfc3_uvis_f350lp_idgg56eq/hst_15145_56_wfc3_uvis_f350lp_idgg56eq_drc.fits ... [Done]\n",
      "Downloading URL https://mast.stsci.edu/api/v0.1/Download/file?uri=mast:HST/product/hst_15145_56_wfc3_uvis_f350lp_idgg56eq_drc.jpg to pantheon_data_folder/211.65662 -5.43942/mastDownload/HST/hst_15145_56_wfc3_uvis_f350lp_idgg56eq/hst_15145_56_wfc3_uvis_f350lp_idgg56eq_drc.jpg ... [Done]\n",
      "Downloading URL https://mast.stsci.edu/api/v0.1/Download/file?uri=mast:HST/product/hst_15145_56_wfc3_uvis_f350lp_idgg56eq_flc.fits to pantheon_data_folder/211.65662 -5.43942/mastDownload/HST/hst_15145_56_wfc3_uvis_f350lp_idgg56eq/hst_15145_56_wfc3_uvis_f350lp_idgg56eq_flc.fits ... [Done]\n",
      "Downloading URL https://mast.stsci.edu/api/v0.1/Download/file?uri=mast:HST/product/hst_15145_56_wfc3_uvis_f350lp_idgg56eq_hlet.fits to pantheon_data_folder/211.65662 -5.43942/mastDownload/HST/hst_15145_56_wfc3_uvis_f350lp_idgg56eq/hst_15145_56_wfc3_uvis_f350lp_idgg56eq_hlet.fits ... [Done]\n",
      "Downloading URL https://mast.stsci.edu/api/v0.1/Download/file?uri=mast:HST/product/hst_15145_56_wfc3_uvis_f555w_idgg56_drc.fits to pantheon_data_folder/211.65662 -5.43942/mastDownload/HST/hst_15145_56_wfc3_uvis_f555w_idgg56/hst_15145_56_wfc3_uvis_f555w_idgg56_drc.fits ... [Done]\n",
      "Downloading URL https://mast.stsci.edu/api/v0.1/Download/file?uri=mast:HST/product/hst_15145_56_wfc3_uvis_f555w_idgg56_drc.jpg to pantheon_data_folder/211.65662 -5.43942/mastDownload/HST/hst_15145_56_wfc3_uvis_f555w_idgg56/hst_15145_56_wfc3_uvis_f555w_idgg56_drc.jpg ... [Done]\n",
      "Downloading URL https://mast.stsci.edu/api/v0.1/Download/file?uri=mast:HST/product/hst_15145_56_wfc3_uvis_f555w_idgg56es_drc.fits to pantheon_data_folder/211.65662 -5.43942/mastDownload/HST/hst_15145_56_wfc3_uvis_f555w_idgg56es/hst_15145_56_wfc3_uvis_f555w_idgg56es_drc.fits ... [Done]\n",
      "Downloading URL https://mast.stsci.edu/api/v0.1/Download/file?uri=mast:HST/product/hst_15145_56_wfc3_uvis_f555w_idgg56es_drc.jpg to pantheon_data_folder/211.65662 -5.43942/mastDownload/HST/hst_15145_56_wfc3_uvis_f555w_idgg56es/hst_15145_56_wfc3_uvis_f555w_idgg56es_drc.jpg ... [Done]\n",
      "Downloading URL https://mast.stsci.edu/api/v0.1/Download/file?uri=mast:HST/product/hst_15145_56_wfc3_uvis_f555w_idgg56es_flc.fits to pantheon_data_folder/211.65662 -5.43942/mastDownload/HST/hst_15145_56_wfc3_uvis_f555w_idgg56es/hst_15145_56_wfc3_uvis_f555w_idgg56es_flc.fits ... [Done]\n",
      "Downloading URL https://mast.stsci.edu/api/v0.1/Download/file?uri=mast:HST/product/hst_15145_56_wfc3_uvis_f555w_idgg56es_hlet.fits to pantheon_data_folder/211.65662 -5.43942/mastDownload/HST/hst_15145_56_wfc3_uvis_f555w_idgg56es/hst_15145_56_wfc3_uvis_f555w_idgg56es_hlet.fits ... [Done]\n",
      "Downloading URL https://mast.stsci.edu/api/v0.1/Download/file?uri=mast:HST/product/hst_15145_56_wfc3_uvis_f555w_idgg56eu_drc.fits to pantheon_data_folder/211.65662 -5.43942/mastDownload/HST/hst_15145_56_wfc3_uvis_f555w_idgg56eu/hst_15145_56_wfc3_uvis_f555w_idgg56eu_drc.fits ... [Done]\n",
      "Downloading URL https://mast.stsci.edu/api/v0.1/Download/file?uri=mast:HST/product/hst_15145_56_wfc3_uvis_f555w_idgg56eu_drc.jpg to pantheon_data_folder/211.65662 -5.43942/mastDownload/HST/hst_15145_56_wfc3_uvis_f555w_idgg56eu/hst_15145_56_wfc3_uvis_f555w_idgg56eu_drc.jpg ... [Done]\n",
      "Downloading URL https://mast.stsci.edu/api/v0.1/Download/file?uri=mast:HST/product/hst_15145_56_wfc3_uvis_f555w_idgg56eu_flc.fits to pantheon_data_folder/211.65662 -5.43942/mastDownload/HST/hst_15145_56_wfc3_uvis_f555w_idgg56eu/hst_15145_56_wfc3_uvis_f555w_idgg56eu_flc.fits ... [Done]\n",
      "Downloading URL https://mast.stsci.edu/api/v0.1/Download/file?uri=mast:HST/product/hst_15145_56_wfc3_uvis_f555w_idgg56eu_hlet.fits to pantheon_data_folder/211.65662 -5.43942/mastDownload/HST/hst_15145_56_wfc3_uvis_f555w_idgg56eu/hst_15145_56_wfc3_uvis_f555w_idgg56eu_hlet.fits ... [Done]\n",
      "Downloading URL https://mast.stsci.edu/api/v0.1/Download/file?uri=mast:HST/product/hst_15145_56_wfc3_uvis_f814w_idgg56_drc.fits to pantheon_data_folder/211.65662 -5.43942/mastDownload/HST/hst_15145_56_wfc3_uvis_f814w_idgg56/hst_15145_56_wfc3_uvis_f814w_idgg56_drc.fits ... [Done]\n",
      "Downloading URL https://mast.stsci.edu/api/v0.1/Download/file?uri=mast:HST/product/hst_15145_56_wfc3_uvis_f814w_idgg56_drc.jpg to pantheon_data_folder/211.65662 -5.43942/mastDownload/HST/hst_15145_56_wfc3_uvis_f814w_idgg56/hst_15145_56_wfc3_uvis_f814w_idgg56_drc.jpg ... [Done]\n",
      "Downloading URL https://mast.stsci.edu/api/v0.1/Download/file?uri=mast:HST/product/hst_15145_56_wfc3_uvis_f814w_idgg56ew_drc.fits to pantheon_data_folder/211.65662 -5.43942/mastDownload/HST/hst_15145_56_wfc3_uvis_f814w_idgg56ew/hst_15145_56_wfc3_uvis_f814w_idgg56ew_drc.fits ... [Done]\n",
      "Downloading URL https://mast.stsci.edu/api/v0.1/Download/file?uri=mast:HST/product/hst_15145_56_wfc3_uvis_f814w_idgg56ew_drc.jpg to pantheon_data_folder/211.65662 -5.43942/mastDownload/HST/hst_15145_56_wfc3_uvis_f814w_idgg56ew/hst_15145_56_wfc3_uvis_f814w_idgg56ew_drc.jpg ... [Done]\n",
      "Downloading URL https://mast.stsci.edu/api/v0.1/Download/file?uri=mast:HST/product/hst_15145_56_wfc3_uvis_f814w_idgg56ew_flc.fits to pantheon_data_folder/211.65662 -5.43942/mastDownload/HST/hst_15145_56_wfc3_uvis_f814w_idgg56ew/hst_15145_56_wfc3_uvis_f814w_idgg56ew_flc.fits ... [Done]\n",
      "Downloading URL https://mast.stsci.edu/api/v0.1/Download/file?uri=mast:HST/product/hst_15145_56_wfc3_uvis_f814w_idgg56ew_hlet.fits to pantheon_data_folder/211.65662 -5.43942/mastDownload/HST/hst_15145_56_wfc3_uvis_f814w_idgg56ew/hst_15145_56_wfc3_uvis_f814w_idgg56ew_hlet.fits ... [Done]\n",
      "Downloading URL https://mast.stsci.edu/api/v0.1/Download/file?uri=mast:HST/product/hst_15145_56_wfc3_uvis_f814w_idgg56ey_drc.fits to pantheon_data_folder/211.65662 -5.43942/mastDownload/HST/hst_15145_56_wfc3_uvis_f814w_idgg56ey/hst_15145_56_wfc3_uvis_f814w_idgg56ey_drc.fits ... [Done]\n",
      "Downloading URL https://mast.stsci.edu/api/v0.1/Download/file?uri=mast:HST/product/hst_15145_56_wfc3_uvis_f814w_idgg56ey_drc.jpg to pantheon_data_folder/211.65662 -5.43942/mastDownload/HST/hst_15145_56_wfc3_uvis_f814w_idgg56ey/hst_15145_56_wfc3_uvis_f814w_idgg56ey_drc.jpg ... [Done]\n",
      "Downloading URL https://mast.stsci.edu/api/v0.1/Download/file?uri=mast:HST/product/hst_15145_56_wfc3_uvis_f814w_idgg56ey_flc.fits to pantheon_data_folder/211.65662 -5.43942/mastDownload/HST/hst_15145_56_wfc3_uvis_f814w_idgg56ey/hst_15145_56_wfc3_uvis_f814w_idgg56ey_flc.fits ... [Done]\n",
      "Downloading URL https://mast.stsci.edu/api/v0.1/Download/file?uri=mast:HST/product/hst_15145_56_wfc3_uvis_f814w_idgg56ey_hlet.fits to pantheon_data_folder/211.65662 -5.43942/mastDownload/HST/hst_15145_56_wfc3_uvis_f814w_idgg56ey/hst_15145_56_wfc3_uvis_f814w_idgg56ey_hlet.fits ... [Done]\n",
      "Downloading URL https://mast.stsci.edu/api/v0.1/Download/file?uri=mast:HST/product/hst_15145_56_wfc3_uvis_total_idgg56_drc.fits to pantheon_data_folder/211.65662 -5.43942/mastDownload/HST/hst_15145_56_wfc3_uvis_total_idgg56/hst_15145_56_wfc3_uvis_total_idgg56_drc.fits ... [Done]\n",
      "Downloading URL https://mast.stsci.edu/api/v0.1/Download/file?uri=mast:HST/product/hst_15145_56_wfc3_uvis_total_idgg56_drc.jpg to pantheon_data_folder/211.65662 -5.43942/mastDownload/HST/hst_15145_56_wfc3_uvis_total_idgg56/hst_15145_56_wfc3_uvis_total_idgg56_drc.jpg ... [Done]\n",
      "Downloading URL https://mast.stsci.edu/api/v0.1/Download/file?uri=mast:HST/product/hst_15145_56_wfc3_uvis_total_idgg56_drc_color.jpg to pantheon_data_folder/211.65662 -5.43942/mastDownload/HST/hst_15145_56_wfc3_uvis_total_idgg56/hst_15145_56_wfc3_uvis_total_idgg56_drc_color.jpg ... [Done]\n",
      "Downloading URL https://mast.stsci.edu/api/v0.1/Download/file?uri=mast:HST/product/hst_15145_57_wfc3_ir_f160w_idgg57_drz.fits to pantheon_data_folder/211.65662 -5.43942/mastDownload/HST/hst_15145_57_wfc3_ir_f160w_idgg57/hst_15145_57_wfc3_ir_f160w_idgg57_drz.fits ... [Done]\n",
      "Downloading URL https://mast.stsci.edu/api/v0.1/Download/file?uri=mast:HST/product/hst_15145_57_wfc3_ir_f160w_idgg57_drz.jpg to pantheon_data_folder/211.65662 -5.43942/mastDownload/HST/hst_15145_57_wfc3_ir_f160w_idgg57/hst_15145_57_wfc3_ir_f160w_idgg57_drz.jpg ... [Done]\n",
      "Downloading URL https://mast.stsci.edu/api/v0.1/Download/file?uri=mast:HST/product/hst_15145_57_wfc3_ir_f160w_idgg57l0_drz.fits to pantheon_data_folder/211.65662 -5.43942/mastDownload/HST/hst_15145_57_wfc3_ir_f160w_idgg57l0/hst_15145_57_wfc3_ir_f160w_idgg57l0_drz.fits ... [Done]\n",
      "Downloading URL https://mast.stsci.edu/api/v0.1/Download/file?uri=mast:HST/product/hst_15145_57_wfc3_ir_f160w_idgg57l0_drz.jpg to pantheon_data_folder/211.65662 -5.43942/mastDownload/HST/hst_15145_57_wfc3_ir_f160w_idgg57l0/hst_15145_57_wfc3_ir_f160w_idgg57l0_drz.jpg ... [Done]\n",
      "Downloading URL https://mast.stsci.edu/api/v0.1/Download/file?uri=mast:HST/product/hst_15145_57_wfc3_ir_f160w_idgg57l0_flt.fits to pantheon_data_folder/211.65662 -5.43942/mastDownload/HST/hst_15145_57_wfc3_ir_f160w_idgg57l0/hst_15145_57_wfc3_ir_f160w_idgg57l0_flt.fits ... [Done]\n",
      "Downloading URL https://mast.stsci.edu/api/v0.1/Download/file?uri=mast:HST/product/hst_15145_57_wfc3_ir_f160w_idgg57l0_hlet.fits to pantheon_data_folder/211.65662 -5.43942/mastDownload/HST/hst_15145_57_wfc3_ir_f160w_idgg57l0/hst_15145_57_wfc3_ir_f160w_idgg57l0_hlet.fits ... [Done]\n",
      "Downloading URL https://mast.stsci.edu/api/v0.1/Download/file?uri=mast:HST/product/hst_15145_57_wfc3_ir_f160w_idgg57l2_drz.fits to pantheon_data_folder/211.65662 -5.43942/mastDownload/HST/hst_15145_57_wfc3_ir_f160w_idgg57l2/hst_15145_57_wfc3_ir_f160w_idgg57l2_drz.fits ... [Done]\n",
      "Downloading URL https://mast.stsci.edu/api/v0.1/Download/file?uri=mast:HST/product/hst_15145_57_wfc3_ir_f160w_idgg57l2_drz.jpg to pantheon_data_folder/211.65662 -5.43942/mastDownload/HST/hst_15145_57_wfc3_ir_f160w_idgg57l2/hst_15145_57_wfc3_ir_f160w_idgg57l2_drz.jpg ... [Done]\n",
      "Downloading URL https://mast.stsci.edu/api/v0.1/Download/file?uri=mast:HST/product/hst_15145_57_wfc3_ir_f160w_idgg57l2_flt.fits to pantheon_data_folder/211.65662 -5.43942/mastDownload/HST/hst_15145_57_wfc3_ir_f160w_idgg57l2/hst_15145_57_wfc3_ir_f160w_idgg57l2_flt.fits ... [Done]\n",
      "Downloading URL https://mast.stsci.edu/api/v0.1/Download/file?uri=mast:HST/product/hst_15145_57_wfc3_ir_f160w_idgg57l2_hlet.fits to pantheon_data_folder/211.65662 -5.43942/mastDownload/HST/hst_15145_57_wfc3_ir_f160w_idgg57l2/hst_15145_57_wfc3_ir_f160w_idgg57l2_hlet.fits ... [Done]\n",
      "Downloading URL https://mast.stsci.edu/api/v0.1/Download/file?uri=mast:HST/product/hst_15145_57_wfc3_ir_f160w_idgg57l4_drz.fits to pantheon_data_folder/211.65662 -5.43942/mastDownload/HST/hst_15145_57_wfc3_ir_f160w_idgg57l4/hst_15145_57_wfc3_ir_f160w_idgg57l4_drz.fits ... [Done]\n",
      "Downloading URL https://mast.stsci.edu/api/v0.1/Download/file?uri=mast:HST/product/hst_15145_57_wfc3_ir_f160w_idgg57l4_drz.jpg to pantheon_data_folder/211.65662 -5.43942/mastDownload/HST/hst_15145_57_wfc3_ir_f160w_idgg57l4/hst_15145_57_wfc3_ir_f160w_idgg57l4_drz.jpg ... [Done]\n",
      "Downloading URL https://mast.stsci.edu/api/v0.1/Download/file?uri=mast:HST/product/hst_15145_57_wfc3_ir_f160w_idgg57l4_flt.fits to pantheon_data_folder/211.65662 -5.43942/mastDownload/HST/hst_15145_57_wfc3_ir_f160w_idgg57l4/hst_15145_57_wfc3_ir_f160w_idgg57l4_flt.fits ... [Done]\n",
      "Downloading URL https://mast.stsci.edu/api/v0.1/Download/file?uri=mast:HST/product/hst_15145_57_wfc3_ir_f160w_idgg57l4_hlet.fits to pantheon_data_folder/211.65662 -5.43942/mastDownload/HST/hst_15145_57_wfc3_ir_f160w_idgg57l4/hst_15145_57_wfc3_ir_f160w_idgg57l4_hlet.fits ... [Done]\n",
      "Downloading URL https://mast.stsci.edu/api/v0.1/Download/file?uri=mast:HST/product/hst_15145_57_wfc3_ir_f160w_idgg57l5_drz.fits to pantheon_data_folder/211.65662 -5.43942/mastDownload/HST/hst_15145_57_wfc3_ir_f160w_idgg57l5/hst_15145_57_wfc3_ir_f160w_idgg57l5_drz.fits ... [Done]\n",
      "Downloading URL https://mast.stsci.edu/api/v0.1/Download/file?uri=mast:HST/product/hst_15145_57_wfc3_ir_f160w_idgg57l5_drz.jpg to pantheon_data_folder/211.65662 -5.43942/mastDownload/HST/hst_15145_57_wfc3_ir_f160w_idgg57l5/hst_15145_57_wfc3_ir_f160w_idgg57l5_drz.jpg ... [Done]\n",
      "Downloading URL https://mast.stsci.edu/api/v0.1/Download/file?uri=mast:HST/product/hst_15145_57_wfc3_ir_f160w_idgg57l5_flt.fits to pantheon_data_folder/211.65662 -5.43942/mastDownload/HST/hst_15145_57_wfc3_ir_f160w_idgg57l5/hst_15145_57_wfc3_ir_f160w_idgg57l5_flt.fits ... [Done]\n",
      "Downloading URL https://mast.stsci.edu/api/v0.1/Download/file?uri=mast:HST/product/hst_15145_57_wfc3_ir_f160w_idgg57l5_hlet.fits to pantheon_data_folder/211.65662 -5.43942/mastDownload/HST/hst_15145_57_wfc3_ir_f160w_idgg57l5/hst_15145_57_wfc3_ir_f160w_idgg57l5_hlet.fits ... [Done]\n",
      "Downloading URL https://mast.stsci.edu/api/v0.1/Download/file?uri=mast:HST/product/hst_15145_57_wfc3_ir_total_idgg57_drz.fits to pantheon_data_folder/211.65662 -5.43942/mastDownload/HST/hst_15145_57_wfc3_ir_total_idgg57/hst_15145_57_wfc3_ir_total_idgg57_drz.fits ... [Done]\n",
      "Downloading URL https://mast.stsci.edu/api/v0.1/Download/file?uri=mast:HST/product/hst_15145_57_wfc3_ir_total_idgg57_drz.jpg to pantheon_data_folder/211.65662 -5.43942/mastDownload/HST/hst_15145_57_wfc3_ir_total_idgg57/hst_15145_57_wfc3_ir_total_idgg57_drz.jpg ... [Done]\n",
      "Downloading URL https://mast.stsci.edu/api/v0.1/Download/file?uri=mast:HST/product/hst_15145_57_wfc3_uvis_f350lp_idgg57_drc.fits to pantheon_data_folder/211.65662 -5.43942/mastDownload/HST/hst_15145_57_wfc3_uvis_f350lp_idgg57/hst_15145_57_wfc3_uvis_f350lp_idgg57_drc.fits ... [Done]\n",
      "Downloading URL https://mast.stsci.edu/api/v0.1/Download/file?uri=mast:HST/product/hst_15145_57_wfc3_uvis_f350lp_idgg57_drc.jpg to pantheon_data_folder/211.65662 -5.43942/mastDownload/HST/hst_15145_57_wfc3_uvis_f350lp_idgg57/hst_15145_57_wfc3_uvis_f350lp_idgg57_drc.jpg ... [Done]\n",
      "Downloading URL https://mast.stsci.edu/api/v0.1/Download/file?uri=mast:HST/product/hst_15145_57_wfc3_uvis_f350lp_idgg57kt_drc.fits to pantheon_data_folder/211.65662 -5.43942/mastDownload/HST/hst_15145_57_wfc3_uvis_f350lp_idgg57kt/hst_15145_57_wfc3_uvis_f350lp_idgg57kt_drc.fits ... [Done]\n",
      "Downloading URL https://mast.stsci.edu/api/v0.1/Download/file?uri=mast:HST/product/hst_15145_57_wfc3_uvis_f350lp_idgg57kt_drc.jpg to pantheon_data_folder/211.65662 -5.43942/mastDownload/HST/hst_15145_57_wfc3_uvis_f350lp_idgg57kt/hst_15145_57_wfc3_uvis_f350lp_idgg57kt_drc.jpg ... [Done]\n",
      "Downloading URL https://mast.stsci.edu/api/v0.1/Download/file?uri=mast:HST/product/hst_15145_57_wfc3_uvis_f350lp_idgg57kt_flc.fits to pantheon_data_folder/211.65662 -5.43942/mastDownload/HST/hst_15145_57_wfc3_uvis_f350lp_idgg57kt/hst_15145_57_wfc3_uvis_f350lp_idgg57kt_flc.fits ... [Done]\n",
      "Downloading URL https://mast.stsci.edu/api/v0.1/Download/file?uri=mast:HST/product/hst_15145_57_wfc3_uvis_f350lp_idgg57kt_hlet.fits to pantheon_data_folder/211.65662 -5.43942/mastDownload/HST/hst_15145_57_wfc3_uvis_f350lp_idgg57kt/hst_15145_57_wfc3_uvis_f350lp_idgg57kt_hlet.fits ... [Done]\n",
      "Downloading URL https://mast.stsci.edu/api/v0.1/Download/file?uri=mast:HST/product/hst_15145_57_wfc3_uvis_f350lp_idgg57ku_drc.fits to pantheon_data_folder/211.65662 -5.43942/mastDownload/HST/hst_15145_57_wfc3_uvis_f350lp_idgg57ku/hst_15145_57_wfc3_uvis_f350lp_idgg57ku_drc.fits ... [Done]\n",
      "Downloading URL https://mast.stsci.edu/api/v0.1/Download/file?uri=mast:HST/product/hst_15145_57_wfc3_uvis_f350lp_idgg57ku_drc.jpg to pantheon_data_folder/211.65662 -5.43942/mastDownload/HST/hst_15145_57_wfc3_uvis_f350lp_idgg57ku/hst_15145_57_wfc3_uvis_f350lp_idgg57ku_drc.jpg ... [Done]\n",
      "Downloading URL https://mast.stsci.edu/api/v0.1/Download/file?uri=mast:HST/product/hst_15145_57_wfc3_uvis_f350lp_idgg57ku_flc.fits to pantheon_data_folder/211.65662 -5.43942/mastDownload/HST/hst_15145_57_wfc3_uvis_f350lp_idgg57ku/hst_15145_57_wfc3_uvis_f350lp_idgg57ku_flc.fits ... [Done]\n",
      "Downloading URL https://mast.stsci.edu/api/v0.1/Download/file?uri=mast:HST/product/hst_15145_57_wfc3_uvis_f350lp_idgg57ku_hlet.fits to pantheon_data_folder/211.65662 -5.43942/mastDownload/HST/hst_15145_57_wfc3_uvis_f350lp_idgg57ku/hst_15145_57_wfc3_uvis_f350lp_idgg57ku_hlet.fits ... [Done]\n",
      "Downloading URL https://mast.stsci.edu/api/v0.1/Download/file?uri=mast:HST/product/hst_15145_57_wfc3_uvis_f350lp_idgg57kw_drc.fits to pantheon_data_folder/211.65662 -5.43942/mastDownload/HST/hst_15145_57_wfc3_uvis_f350lp_idgg57kw/hst_15145_57_wfc3_uvis_f350lp_idgg57kw_drc.fits ... [Done]\n",
      "Downloading URL https://mast.stsci.edu/api/v0.1/Download/file?uri=mast:HST/product/hst_15145_57_wfc3_uvis_f350lp_idgg57kw_drc.jpg to pantheon_data_folder/211.65662 -5.43942/mastDownload/HST/hst_15145_57_wfc3_uvis_f350lp_idgg57kw/hst_15145_57_wfc3_uvis_f350lp_idgg57kw_drc.jpg ... [Done]\n",
      "Downloading URL https://mast.stsci.edu/api/v0.1/Download/file?uri=mast:HST/product/hst_15145_57_wfc3_uvis_f350lp_idgg57kw_flc.fits to pantheon_data_folder/211.65662 -5.43942/mastDownload/HST/hst_15145_57_wfc3_uvis_f350lp_idgg57kw/hst_15145_57_wfc3_uvis_f350lp_idgg57kw_flc.fits ... [Done]\n",
      "Downloading URL https://mast.stsci.edu/api/v0.1/Download/file?uri=mast:HST/product/hst_15145_57_wfc3_uvis_f350lp_idgg57kw_hlet.fits to pantheon_data_folder/211.65662 -5.43942/mastDownload/HST/hst_15145_57_wfc3_uvis_f350lp_idgg57kw/hst_15145_57_wfc3_uvis_f350lp_idgg57kw_hlet.fits ... [Done]\n",
      "Downloading URL https://mast.stsci.edu/api/v0.1/Download/file?uri=mast:HST/product/hst_15145_57_wfc3_uvis_f350lp_idgg57ky_drc.fits to pantheon_data_folder/211.65662 -5.43942/mastDownload/HST/hst_15145_57_wfc3_uvis_f350lp_idgg57ky/hst_15145_57_wfc3_uvis_f350lp_idgg57ky_drc.fits ... [Done]\n",
      "Downloading URL https://mast.stsci.edu/api/v0.1/Download/file?uri=mast:HST/product/hst_15145_57_wfc3_uvis_f350lp_idgg57ky_drc.jpg to pantheon_data_folder/211.65662 -5.43942/mastDownload/HST/hst_15145_57_wfc3_uvis_f350lp_idgg57ky/hst_15145_57_wfc3_uvis_f350lp_idgg57ky_drc.jpg ... [Done]\n",
      "Downloading URL https://mast.stsci.edu/api/v0.1/Download/file?uri=mast:HST/product/hst_15145_57_wfc3_uvis_f350lp_idgg57ky_flc.fits to pantheon_data_folder/211.65662 -5.43942/mastDownload/HST/hst_15145_57_wfc3_uvis_f350lp_idgg57ky/hst_15145_57_wfc3_uvis_f350lp_idgg57ky_flc.fits ... [Done]\n",
      "Downloading URL https://mast.stsci.edu/api/v0.1/Download/file?uri=mast:HST/product/hst_15145_57_wfc3_uvis_f350lp_idgg57ky_hlet.fits to pantheon_data_folder/211.65662 -5.43942/mastDownload/HST/hst_15145_57_wfc3_uvis_f350lp_idgg57ky/hst_15145_57_wfc3_uvis_f350lp_idgg57ky_hlet.fits ... [Done]\n",
      "Downloading URL https://mast.stsci.edu/api/v0.1/Download/file?uri=mast:HST/product/hst_15145_57_wfc3_uvis_total_idgg57_drc.fits to pantheon_data_folder/211.65662 -5.43942/mastDownload/HST/hst_15145_57_wfc3_uvis_total_idgg57/hst_15145_57_wfc3_uvis_total_idgg57_drc.fits ... [Done]\n",
      "Downloading URL https://mast.stsci.edu/api/v0.1/Download/file?uri=mast:HST/product/hst_15145_57_wfc3_uvis_total_idgg57_drc.jpg to pantheon_data_folder/211.65662 -5.43942/mastDownload/HST/hst_15145_57_wfc3_uvis_total_idgg57/hst_15145_57_wfc3_uvis_total_idgg57_drc.jpg ... [Done]\n",
      "Downloading URL https://mast.stsci.edu/api/v0.1/Download/file?uri=mast:HST/product/hst_15145_58_wfc3_uvis_f350lp_idgg58_drc.fits to pantheon_data_folder/211.65662 -5.43942/mastDownload/HST/hst_15145_58_wfc3_uvis_f350lp_idgg58/hst_15145_58_wfc3_uvis_f350lp_idgg58_drc.fits ... [Done]\n",
      "Downloading URL https://mast.stsci.edu/api/v0.1/Download/file?uri=mast:HST/product/hst_15145_58_wfc3_uvis_f350lp_idgg58_drc.jpg to pantheon_data_folder/211.65662 -5.43942/mastDownload/HST/hst_15145_58_wfc3_uvis_f350lp_idgg58/hst_15145_58_wfc3_uvis_f350lp_idgg58_drc.jpg ... [Done]\n",
      "Downloading URL https://mast.stsci.edu/api/v0.1/Download/file?uri=mast:HST/product/hst_15145_58_wfc3_uvis_f350lp_idgg58ji_drc.fits to pantheon_data_folder/211.65662 -5.43942/mastDownload/HST/hst_15145_58_wfc3_uvis_f350lp_idgg58ji/hst_15145_58_wfc3_uvis_f350lp_idgg58ji_drc.fits ... [Done]\n",
      "Downloading URL https://mast.stsci.edu/api/v0.1/Download/file?uri=mast:HST/product/hst_15145_58_wfc3_uvis_f350lp_idgg58ji_drc.jpg to pantheon_data_folder/211.65662 -5.43942/mastDownload/HST/hst_15145_58_wfc3_uvis_f350lp_idgg58ji/hst_15145_58_wfc3_uvis_f350lp_idgg58ji_drc.jpg ... [Done]\n",
      "Downloading URL https://mast.stsci.edu/api/v0.1/Download/file?uri=mast:HST/product/hst_15145_58_wfc3_uvis_f350lp_idgg58ji_flc.fits to pantheon_data_folder/211.65662 -5.43942/mastDownload/HST/hst_15145_58_wfc3_uvis_f350lp_idgg58ji/hst_15145_58_wfc3_uvis_f350lp_idgg58ji_flc.fits ... [Done]\n",
      "Downloading URL https://mast.stsci.edu/api/v0.1/Download/file?uri=mast:HST/product/hst_15145_58_wfc3_uvis_f350lp_idgg58ji_hlet.fits to pantheon_data_folder/211.65662 -5.43942/mastDownload/HST/hst_15145_58_wfc3_uvis_f350lp_idgg58ji/hst_15145_58_wfc3_uvis_f350lp_idgg58ji_hlet.fits ... [Done]\n",
      "Downloading URL https://mast.stsci.edu/api/v0.1/Download/file?uri=mast:HST/product/hst_15145_58_wfc3_uvis_f350lp_idgg58jj_drc.fits to pantheon_data_folder/211.65662 -5.43942/mastDownload/HST/hst_15145_58_wfc3_uvis_f350lp_idgg58jj/hst_15145_58_wfc3_uvis_f350lp_idgg58jj_drc.fits ... [Done]\n",
      "Downloading URL https://mast.stsci.edu/api/v0.1/Download/file?uri=mast:HST/product/hst_15145_58_wfc3_uvis_f350lp_idgg58jj_drc.jpg to pantheon_data_folder/211.65662 -5.43942/mastDownload/HST/hst_15145_58_wfc3_uvis_f350lp_idgg58jj/hst_15145_58_wfc3_uvis_f350lp_idgg58jj_drc.jpg ... [Done]\n",
      "Downloading URL https://mast.stsci.edu/api/v0.1/Download/file?uri=mast:HST/product/hst_15145_58_wfc3_uvis_f350lp_idgg58jj_flc.fits to pantheon_data_folder/211.65662 -5.43942/mastDownload/HST/hst_15145_58_wfc3_uvis_f350lp_idgg58jj/hst_15145_58_wfc3_uvis_f350lp_idgg58jj_flc.fits ... [Done]\n",
      "Downloading URL https://mast.stsci.edu/api/v0.1/Download/file?uri=mast:HST/product/hst_15145_58_wfc3_uvis_f350lp_idgg58jj_hlet.fits to pantheon_data_folder/211.65662 -5.43942/mastDownload/HST/hst_15145_58_wfc3_uvis_f350lp_idgg58jj/hst_15145_58_wfc3_uvis_f350lp_idgg58jj_hlet.fits ... [Done]\n",
      "Downloading URL https://mast.stsci.edu/api/v0.1/Download/file?uri=mast:HST/product/hst_15145_58_wfc3_uvis_f350lp_idgg58jm_drc.fits to pantheon_data_folder/211.65662 -5.43942/mastDownload/HST/hst_15145_58_wfc3_uvis_f350lp_idgg58jm/hst_15145_58_wfc3_uvis_f350lp_idgg58jm_drc.fits ... [Done]\n",
      "Downloading URL https://mast.stsci.edu/api/v0.1/Download/file?uri=mast:HST/product/hst_15145_58_wfc3_uvis_f350lp_idgg58jm_drc.jpg to pantheon_data_folder/211.65662 -5.43942/mastDownload/HST/hst_15145_58_wfc3_uvis_f350lp_idgg58jm/hst_15145_58_wfc3_uvis_f350lp_idgg58jm_drc.jpg ... [Done]\n",
      "Downloading URL https://mast.stsci.edu/api/v0.1/Download/file?uri=mast:HST/product/hst_15145_58_wfc3_uvis_f350lp_idgg58jm_flc.fits to pantheon_data_folder/211.65662 -5.43942/mastDownload/HST/hst_15145_58_wfc3_uvis_f350lp_idgg58jm/hst_15145_58_wfc3_uvis_f350lp_idgg58jm_flc.fits ... [Done]\n",
      "Downloading URL https://mast.stsci.edu/api/v0.1/Download/file?uri=mast:HST/product/hst_15145_58_wfc3_uvis_f350lp_idgg58jm_hlet.fits to pantheon_data_folder/211.65662 -5.43942/mastDownload/HST/hst_15145_58_wfc3_uvis_f350lp_idgg58jm/hst_15145_58_wfc3_uvis_f350lp_idgg58jm_hlet.fits ... [Done]\n",
      "Downloading URL https://mast.stsci.edu/api/v0.1/Download/file?uri=mast:HST/product/hst_15145_58_wfc3_uvis_f350lp_idgg58k8_drc.fits to pantheon_data_folder/211.65662 -5.43942/mastDownload/HST/hst_15145_58_wfc3_uvis_f350lp_idgg58k8/hst_15145_58_wfc3_uvis_f350lp_idgg58k8_drc.fits ... [Done]\n",
      "Downloading URL https://mast.stsci.edu/api/v0.1/Download/file?uri=mast:HST/product/hst_15145_58_wfc3_uvis_f350lp_idgg58k8_drc.jpg to pantheon_data_folder/211.65662 -5.43942/mastDownload/HST/hst_15145_58_wfc3_uvis_f350lp_idgg58k8/hst_15145_58_wfc3_uvis_f350lp_idgg58k8_drc.jpg ... [Done]\n",
      "Downloading URL https://mast.stsci.edu/api/v0.1/Download/file?uri=mast:HST/product/hst_15145_58_wfc3_uvis_f350lp_idgg58k8_flc.fits to pantheon_data_folder/211.65662 -5.43942/mastDownload/HST/hst_15145_58_wfc3_uvis_f350lp_idgg58k8/hst_15145_58_wfc3_uvis_f350lp_idgg58k8_flc.fits ... [Done]\n",
      "Downloading URL https://mast.stsci.edu/api/v0.1/Download/file?uri=mast:HST/product/hst_15145_58_wfc3_uvis_f350lp_idgg58k8_hlet.fits to pantheon_data_folder/211.65662 -5.43942/mastDownload/HST/hst_15145_58_wfc3_uvis_f350lp_idgg58k8/hst_15145_58_wfc3_uvis_f350lp_idgg58k8_hlet.fits ... [Done]\n",
      "Downloading URL https://mast.stsci.edu/api/v0.1/Download/file?uri=mast:HST/product/hst_15145_58_wfc3_uvis_f555w_idgg58_drc.fits to pantheon_data_folder/211.65662 -5.43942/mastDownload/HST/hst_15145_58_wfc3_uvis_f555w_idgg58/hst_15145_58_wfc3_uvis_f555w_idgg58_drc.fits ... [Done]\n",
      "Downloading URL https://mast.stsci.edu/api/v0.1/Download/file?uri=mast:HST/product/hst_15145_58_wfc3_uvis_f555w_idgg58_drc.jpg to pantheon_data_folder/211.65662 -5.43942/mastDownload/HST/hst_15145_58_wfc3_uvis_f555w_idgg58/hst_15145_58_wfc3_uvis_f555w_idgg58_drc.jpg ... [Done]\n",
      "Downloading URL https://mast.stsci.edu/api/v0.1/Download/file?uri=mast:HST/product/hst_15145_58_wfc3_uvis_f555w_idgg58ka_drc.fits to pantheon_data_folder/211.65662 -5.43942/mastDownload/HST/hst_15145_58_wfc3_uvis_f555w_idgg58ka/hst_15145_58_wfc3_uvis_f555w_idgg58ka_drc.fits ... [Done]\n",
      "Downloading URL https://mast.stsci.edu/api/v0.1/Download/file?uri=mast:HST/product/hst_15145_58_wfc3_uvis_f555w_idgg58ka_drc.jpg to pantheon_data_folder/211.65662 -5.43942/mastDownload/HST/hst_15145_58_wfc3_uvis_f555w_idgg58ka/hst_15145_58_wfc3_uvis_f555w_idgg58ka_drc.jpg ... [Done]\n",
      "Downloading URL https://mast.stsci.edu/api/v0.1/Download/file?uri=mast:HST/product/hst_15145_58_wfc3_uvis_f555w_idgg58ka_flc.fits to pantheon_data_folder/211.65662 -5.43942/mastDownload/HST/hst_15145_58_wfc3_uvis_f555w_idgg58ka/hst_15145_58_wfc3_uvis_f555w_idgg58ka_flc.fits ... [Done]\n",
      "Downloading URL https://mast.stsci.edu/api/v0.1/Download/file?uri=mast:HST/product/hst_15145_58_wfc3_uvis_f555w_idgg58ka_hlet.fits to pantheon_data_folder/211.65662 -5.43942/mastDownload/HST/hst_15145_58_wfc3_uvis_f555w_idgg58ka/hst_15145_58_wfc3_uvis_f555w_idgg58ka_hlet.fits ... [Done]\n",
      "Downloading URL https://mast.stsci.edu/api/v0.1/Download/file?uri=mast:HST/product/hst_15145_58_wfc3_uvis_f555w_idgg58kc_drc.fits to pantheon_data_folder/211.65662 -5.43942/mastDownload/HST/hst_15145_58_wfc3_uvis_f555w_idgg58kc/hst_15145_58_wfc3_uvis_f555w_idgg58kc_drc.fits ... [Done]\n",
      "Downloading URL https://mast.stsci.edu/api/v0.1/Download/file?uri=mast:HST/product/hst_15145_58_wfc3_uvis_f555w_idgg58kc_drc.jpg to pantheon_data_folder/211.65662 -5.43942/mastDownload/HST/hst_15145_58_wfc3_uvis_f555w_idgg58kc/hst_15145_58_wfc3_uvis_f555w_idgg58kc_drc.jpg ... [Done]\n",
      "Downloading URL https://mast.stsci.edu/api/v0.1/Download/file?uri=mast:HST/product/hst_15145_58_wfc3_uvis_f555w_idgg58kc_flc.fits to pantheon_data_folder/211.65662 -5.43942/mastDownload/HST/hst_15145_58_wfc3_uvis_f555w_idgg58kc/hst_15145_58_wfc3_uvis_f555w_idgg58kc_flc.fits ... [Done]\n",
      "Downloading URL https://mast.stsci.edu/api/v0.1/Download/file?uri=mast:HST/product/hst_15145_58_wfc3_uvis_f555w_idgg58kc_hlet.fits to pantheon_data_folder/211.65662 -5.43942/mastDownload/HST/hst_15145_58_wfc3_uvis_f555w_idgg58kc/hst_15145_58_wfc3_uvis_f555w_idgg58kc_hlet.fits ... [Done]\n",
      "Downloading URL https://mast.stsci.edu/api/v0.1/Download/file?uri=mast:HST/product/hst_15145_58_wfc3_uvis_f814w_idgg58_drc.fits to pantheon_data_folder/211.65662 -5.43942/mastDownload/HST/hst_15145_58_wfc3_uvis_f814w_idgg58/hst_15145_58_wfc3_uvis_f814w_idgg58_drc.fits ... [Done]\n",
      "Downloading URL https://mast.stsci.edu/api/v0.1/Download/file?uri=mast:HST/product/hst_15145_58_wfc3_uvis_f814w_idgg58_drc.jpg to pantheon_data_folder/211.65662 -5.43942/mastDownload/HST/hst_15145_58_wfc3_uvis_f814w_idgg58/hst_15145_58_wfc3_uvis_f814w_idgg58_drc.jpg ... [Done]\n",
      "Downloading URL https://mast.stsci.edu/api/v0.1/Download/file?uri=mast:HST/product/hst_15145_58_wfc3_uvis_f814w_idgg58ke_drc.fits to pantheon_data_folder/211.65662 -5.43942/mastDownload/HST/hst_15145_58_wfc3_uvis_f814w_idgg58ke/hst_15145_58_wfc3_uvis_f814w_idgg58ke_drc.fits ... [Done]\n",
      "Downloading URL https://mast.stsci.edu/api/v0.1/Download/file?uri=mast:HST/product/hst_15145_58_wfc3_uvis_f814w_idgg58ke_drc.jpg to pantheon_data_folder/211.65662 -5.43942/mastDownload/HST/hst_15145_58_wfc3_uvis_f814w_idgg58ke/hst_15145_58_wfc3_uvis_f814w_idgg58ke_drc.jpg ... [Done]\n",
      "Downloading URL https://mast.stsci.edu/api/v0.1/Download/file?uri=mast:HST/product/hst_15145_58_wfc3_uvis_f814w_idgg58ke_flc.fits to pantheon_data_folder/211.65662 -5.43942/mastDownload/HST/hst_15145_58_wfc3_uvis_f814w_idgg58ke/hst_15145_58_wfc3_uvis_f814w_idgg58ke_flc.fits ... [Done]\n",
      "Downloading URL https://mast.stsci.edu/api/v0.1/Download/file?uri=mast:HST/product/hst_15145_58_wfc3_uvis_f814w_idgg58ke_hlet.fits to pantheon_data_folder/211.65662 -5.43942/mastDownload/HST/hst_15145_58_wfc3_uvis_f814w_idgg58ke/hst_15145_58_wfc3_uvis_f814w_idgg58ke_hlet.fits ... [Done]\n",
      "Downloading URL https://mast.stsci.edu/api/v0.1/Download/file?uri=mast:HST/product/hst_15145_58_wfc3_uvis_f814w_idgg58kg_drc.fits to pantheon_data_folder/211.65662 -5.43942/mastDownload/HST/hst_15145_58_wfc3_uvis_f814w_idgg58kg/hst_15145_58_wfc3_uvis_f814w_idgg58kg_drc.fits ... [Done]\n",
      "Downloading URL https://mast.stsci.edu/api/v0.1/Download/file?uri=mast:HST/product/hst_15145_58_wfc3_uvis_f814w_idgg58kg_drc.jpg to pantheon_data_folder/211.65662 -5.43942/mastDownload/HST/hst_15145_58_wfc3_uvis_f814w_idgg58kg/hst_15145_58_wfc3_uvis_f814w_idgg58kg_drc.jpg ... [Done]\n",
      "Downloading URL https://mast.stsci.edu/api/v0.1/Download/file?uri=mast:HST/product/hst_15145_58_wfc3_uvis_f814w_idgg58kg_flc.fits to pantheon_data_folder/211.65662 -5.43942/mastDownload/HST/hst_15145_58_wfc3_uvis_f814w_idgg58kg/hst_15145_58_wfc3_uvis_f814w_idgg58kg_flc.fits ... [Done]\n",
      "Downloading URL https://mast.stsci.edu/api/v0.1/Download/file?uri=mast:HST/product/hst_15145_58_wfc3_uvis_f814w_idgg58kg_hlet.fits to pantheon_data_folder/211.65662 -5.43942/mastDownload/HST/hst_15145_58_wfc3_uvis_f814w_idgg58kg/hst_15145_58_wfc3_uvis_f814w_idgg58kg_hlet.fits ... [Done]\n",
      "Downloading URL https://mast.stsci.edu/api/v0.1/Download/file?uri=mast:HST/product/hst_15145_58_wfc3_uvis_total_idgg58_drc.fits to pantheon_data_folder/211.65662 -5.43942/mastDownload/HST/hst_15145_58_wfc3_uvis_total_idgg58/hst_15145_58_wfc3_uvis_total_idgg58_drc.fits ... [Done]\n",
      "Downloading URL https://mast.stsci.edu/api/v0.1/Download/file?uri=mast:HST/product/hst_15145_58_wfc3_uvis_total_idgg58_drc.jpg to pantheon_data_folder/211.65662 -5.43942/mastDownload/HST/hst_15145_58_wfc3_uvis_total_idgg58/hst_15145_58_wfc3_uvis_total_idgg58_drc.jpg ... [Done]\n",
      "Downloading URL https://mast.stsci.edu/api/v0.1/Download/file?uri=mast:HST/product/hst_15145_58_wfc3_uvis_total_idgg58_drc_color.jpg to pantheon_data_folder/211.65662 -5.43942/mastDownload/HST/hst_15145_58_wfc3_uvis_total_idgg58/hst_15145_58_wfc3_uvis_total_idgg58_drc_color.jpg ... [Done]\n",
      "Downloading URL https://mast.stsci.edu/api/v0.1/Download/file?uri=mast:HST/product/hst_15145_59_wfc3_ir_f160w_idgg59_drz.fits to pantheon_data_folder/211.65662 -5.43942/mastDownload/HST/hst_15145_59_wfc3_ir_f160w_idgg59/hst_15145_59_wfc3_ir_f160w_idgg59_drz.fits ... [Done]\n",
      "Downloading URL https://mast.stsci.edu/api/v0.1/Download/file?uri=mast:HST/product/hst_15145_59_wfc3_ir_f160w_idgg59_drz.jpg to pantheon_data_folder/211.65662 -5.43942/mastDownload/HST/hst_15145_59_wfc3_ir_f160w_idgg59/hst_15145_59_wfc3_ir_f160w_idgg59_drz.jpg ... [Done]\n",
      "Downloading URL https://mast.stsci.edu/api/v0.1/Download/file?uri=mast:HST/product/hst_15145_59_wfc3_ir_f160w_idgg59p9_drz.fits to pantheon_data_folder/211.65662 -5.43942/mastDownload/HST/hst_15145_59_wfc3_ir_f160w_idgg59p9/hst_15145_59_wfc3_ir_f160w_idgg59p9_drz.fits ... [Done]\n",
      "Downloading URL https://mast.stsci.edu/api/v0.1/Download/file?uri=mast:HST/product/hst_15145_59_wfc3_ir_f160w_idgg59p9_drz.jpg to pantheon_data_folder/211.65662 -5.43942/mastDownload/HST/hst_15145_59_wfc3_ir_f160w_idgg59p9/hst_15145_59_wfc3_ir_f160w_idgg59p9_drz.jpg ... [Done]\n",
      "Downloading URL https://mast.stsci.edu/api/v0.1/Download/file?uri=mast:HST/product/hst_15145_59_wfc3_ir_f160w_idgg59p9_flt.fits to pantheon_data_folder/211.65662 -5.43942/mastDownload/HST/hst_15145_59_wfc3_ir_f160w_idgg59p9/hst_15145_59_wfc3_ir_f160w_idgg59p9_flt.fits ... [Done]\n",
      "Downloading URL https://mast.stsci.edu/api/v0.1/Download/file?uri=mast:HST/product/hst_15145_59_wfc3_ir_f160w_idgg59p9_hlet.fits to pantheon_data_folder/211.65662 -5.43942/mastDownload/HST/hst_15145_59_wfc3_ir_f160w_idgg59p9/hst_15145_59_wfc3_ir_f160w_idgg59p9_hlet.fits ... [Done]\n",
      "Downloading URL https://mast.stsci.edu/api/v0.1/Download/file?uri=mast:HST/product/hst_15145_59_wfc3_ir_f160w_idgg59pb_drz.fits to pantheon_data_folder/211.65662 -5.43942/mastDownload/HST/hst_15145_59_wfc3_ir_f160w_idgg59pb/hst_15145_59_wfc3_ir_f160w_idgg59pb_drz.fits ... [Done]\n",
      "Downloading URL https://mast.stsci.edu/api/v0.1/Download/file?uri=mast:HST/product/hst_15145_59_wfc3_ir_f160w_idgg59pb_drz.jpg to pantheon_data_folder/211.65662 -5.43942/mastDownload/HST/hst_15145_59_wfc3_ir_f160w_idgg59pb/hst_15145_59_wfc3_ir_f160w_idgg59pb_drz.jpg ... [Done]\n",
      "Downloading URL https://mast.stsci.edu/api/v0.1/Download/file?uri=mast:HST/product/hst_15145_59_wfc3_ir_f160w_idgg59pb_flt.fits to pantheon_data_folder/211.65662 -5.43942/mastDownload/HST/hst_15145_59_wfc3_ir_f160w_idgg59pb/hst_15145_59_wfc3_ir_f160w_idgg59pb_flt.fits ... [Done]\n",
      "Downloading URL https://mast.stsci.edu/api/v0.1/Download/file?uri=mast:HST/product/hst_15145_59_wfc3_ir_f160w_idgg59pb_hlet.fits to pantheon_data_folder/211.65662 -5.43942/mastDownload/HST/hst_15145_59_wfc3_ir_f160w_idgg59pb/hst_15145_59_wfc3_ir_f160w_idgg59pb_hlet.fits ... [Done]\n",
      "Downloading URL https://mast.stsci.edu/api/v0.1/Download/file?uri=mast:HST/product/hst_15145_59_wfc3_ir_f160w_idgg59pd_drz.fits to pantheon_data_folder/211.65662 -5.43942/mastDownload/HST/hst_15145_59_wfc3_ir_f160w_idgg59pd/hst_15145_59_wfc3_ir_f160w_idgg59pd_drz.fits ... [Done]\n",
      "Downloading URL https://mast.stsci.edu/api/v0.1/Download/file?uri=mast:HST/product/hst_15145_59_wfc3_ir_f160w_idgg59pd_drz.jpg to pantheon_data_folder/211.65662 -5.43942/mastDownload/HST/hst_15145_59_wfc3_ir_f160w_idgg59pd/hst_15145_59_wfc3_ir_f160w_idgg59pd_drz.jpg ... [Done]\n",
      "Downloading URL https://mast.stsci.edu/api/v0.1/Download/file?uri=mast:HST/product/hst_15145_59_wfc3_ir_f160w_idgg59pd_flt.fits to pantheon_data_folder/211.65662 -5.43942/mastDownload/HST/hst_15145_59_wfc3_ir_f160w_idgg59pd/hst_15145_59_wfc3_ir_f160w_idgg59pd_flt.fits ... [Done]\n",
      "Downloading URL https://mast.stsci.edu/api/v0.1/Download/file?uri=mast:HST/product/hst_15145_59_wfc3_ir_f160w_idgg59pd_hlet.fits to pantheon_data_folder/211.65662 -5.43942/mastDownload/HST/hst_15145_59_wfc3_ir_f160w_idgg59pd/hst_15145_59_wfc3_ir_f160w_idgg59pd_hlet.fits ... [Done]\n",
      "Downloading URL https://mast.stsci.edu/api/v0.1/Download/file?uri=mast:HST/product/hst_15145_59_wfc3_ir_f160w_idgg59pe_drz.fits to pantheon_data_folder/211.65662 -5.43942/mastDownload/HST/hst_15145_59_wfc3_ir_f160w_idgg59pe/hst_15145_59_wfc3_ir_f160w_idgg59pe_drz.fits ... [Done]\n",
      "Downloading URL https://mast.stsci.edu/api/v0.1/Download/file?uri=mast:HST/product/hst_15145_59_wfc3_ir_f160w_idgg59pe_drz.jpg to pantheon_data_folder/211.65662 -5.43942/mastDownload/HST/hst_15145_59_wfc3_ir_f160w_idgg59pe/hst_15145_59_wfc3_ir_f160w_idgg59pe_drz.jpg ... [Done]\n",
      "Downloading URL https://mast.stsci.edu/api/v0.1/Download/file?uri=mast:HST/product/hst_15145_59_wfc3_ir_f160w_idgg59pe_flt.fits to pantheon_data_folder/211.65662 -5.43942/mastDownload/HST/hst_15145_59_wfc3_ir_f160w_idgg59pe/hst_15145_59_wfc3_ir_f160w_idgg59pe_flt.fits ... [Done]\n",
      "Downloading URL https://mast.stsci.edu/api/v0.1/Download/file?uri=mast:HST/product/hst_15145_59_wfc3_ir_f160w_idgg59pe_hlet.fits to pantheon_data_folder/211.65662 -5.43942/mastDownload/HST/hst_15145_59_wfc3_ir_f160w_idgg59pe/hst_15145_59_wfc3_ir_f160w_idgg59pe_hlet.fits ... [Done]\n",
      "Downloading URL https://mast.stsci.edu/api/v0.1/Download/file?uri=mast:HST/product/hst_15145_59_wfc3_ir_total_idgg59_drz.fits to pantheon_data_folder/211.65662 -5.43942/mastDownload/HST/hst_15145_59_wfc3_ir_total_idgg59/hst_15145_59_wfc3_ir_total_idgg59_drz.fits ... [Done]\n",
      "Downloading URL https://mast.stsci.edu/api/v0.1/Download/file?uri=mast:HST/product/hst_15145_59_wfc3_ir_total_idgg59_drz.jpg to pantheon_data_folder/211.65662 -5.43942/mastDownload/HST/hst_15145_59_wfc3_ir_total_idgg59/hst_15145_59_wfc3_ir_total_idgg59_drz.jpg ... [Done]\n",
      "Downloading URL https://mast.stsci.edu/api/v0.1/Download/file?uri=mast:HST/product/hst_15145_59_wfc3_uvis_f350lp_idgg59_drc.fits to pantheon_data_folder/211.65662 -5.43942/mastDownload/HST/hst_15145_59_wfc3_uvis_f350lp_idgg59/hst_15145_59_wfc3_uvis_f350lp_idgg59_drc.fits ... [Done]\n",
      "Downloading URL https://mast.stsci.edu/api/v0.1/Download/file?uri=mast:HST/product/hst_15145_59_wfc3_uvis_f350lp_idgg59_drc.jpg to pantheon_data_folder/211.65662 -5.43942/mastDownload/HST/hst_15145_59_wfc3_uvis_f350lp_idgg59/hst_15145_59_wfc3_uvis_f350lp_idgg59_drc.jpg ... [Done]\n",
      "Downloading URL https://mast.stsci.edu/api/v0.1/Download/file?uri=mast:HST/product/hst_15145_59_wfc3_uvis_f350lp_idgg59p2_drc.fits to pantheon_data_folder/211.65662 -5.43942/mastDownload/HST/hst_15145_59_wfc3_uvis_f350lp_idgg59p2/hst_15145_59_wfc3_uvis_f350lp_idgg59p2_drc.fits ... [Failed]\n"
     ]
    },
    {
     "ename": "KeyboardInterrupt",
     "evalue": "",
     "output_type": "error",
     "traceback": [
      "\u001b[31m---------------------------------------------------------------------------\u001b[39m",
      "\u001b[31mKeyboardInterrupt\u001b[39m                         Traceback (most recent call last)",
      "\u001b[36mCell\u001b[39m\u001b[36m \u001b[39m\u001b[32mIn[7]\u001b[39m\u001b[32m, line 2\u001b[39m\n\u001b[32m      1\u001b[39m \u001b[38;5;28;01mfor\u001b[39;00m i \u001b[38;5;129;01min\u001b[39;00m \u001b[38;5;28mrange\u001b[39m(\u001b[32m10\u001b[39m,\u001b[38;5;28mlen\u001b[39m(df[\u001b[33m'\u001b[39m\u001b[33mresolved_coord\u001b[39m\u001b[33m'\u001b[39m])):\n\u001b[32m----> \u001b[39m\u001b[32m2\u001b[39m     \u001b[43msave_images_supernova\u001b[49m\u001b[43m(\u001b[49m\u001b[43mi\u001b[49m\u001b[43m)\u001b[49m\n",
      "\u001b[36mCell\u001b[39m\u001b[36m \u001b[39m\u001b[32mIn[5]\u001b[39m\u001b[32m, line 26\u001b[39m, in \u001b[36msave_images_supernova\u001b[39m\u001b[34m(resolved_coord_index)\u001b[39m\n\u001b[32m     24\u001b[39m os.makedirs(folder_path, exist_ok=\u001b[38;5;28;01mTrue\u001b[39;00m)\n\u001b[32m     25\u001b[39m \u001b[38;5;66;03m#Fits is what we need for space_phot, jpg to see image\u001b[39;00m\n\u001b[32m---> \u001b[39m\u001b[32m26\u001b[39m manifest = \u001b[43mObservations\u001b[49m\u001b[43m.\u001b[49m\u001b[43mdownload_products\u001b[49m\u001b[43m(\u001b[49m\u001b[43mdata_products\u001b[49m\u001b[43m,\u001b[49m\u001b[43m \u001b[49m\u001b[43mdownload_dir\u001b[49m\u001b[43m=\u001b[49m\u001b[43mfolder_path\u001b[49m\u001b[43m,\u001b[49m\u001b[43m \u001b[49m\u001b[43mextension\u001b[49m\u001b[43m=\u001b[49m\u001b[43m[\u001b[49m\u001b[33;43m'\u001b[39;49m\u001b[33;43mfits\u001b[39;49m\u001b[33;43m'\u001b[39;49m\u001b[43m,\u001b[49m\u001b[43m \u001b[49m\u001b[33;43m'\u001b[39;49m\u001b[33;43mjpg\u001b[39;49m\u001b[33;43m'\u001b[39;49m\u001b[43m]\u001b[49m\u001b[43m)\u001b[49m\n\u001b[32m     27\u001b[39m \u001b[38;5;28mprint\u001b[39m(manifest)\n",
      "\u001b[36mFile \u001b[39m\u001b[32m~/Documents/STScI/.conda/lib/python3.11/site-packages/astroquery/mast/observations.py:841\u001b[39m, in \u001b[36mObservationsClass.download_products\u001b[39m\u001b[34m(self, products, download_dir, flat, cache, curl_flag, mrp_only, cloud_only, verbose, **filters)\u001b[39m\n\u001b[32m    839\u001b[39m     \u001b[38;5;28;01melse\u001b[39;00m:\n\u001b[32m    840\u001b[39m         base_dir = os.path.join(download_dir, \u001b[33m\"\u001b[39m\u001b[33mmastDownload\u001b[39m\u001b[33m\"\u001b[39m)\n\u001b[32m--> \u001b[39m\u001b[32m841\u001b[39m     manifest = \u001b[38;5;28;43mself\u001b[39;49m\u001b[43m.\u001b[49m\u001b[43m_download_files\u001b[49m\u001b[43m(\u001b[49m\u001b[43mproducts\u001b[49m\u001b[43m,\u001b[49m\n\u001b[32m    842\u001b[39m \u001b[43m                                    \u001b[49m\u001b[43mbase_dir\u001b[49m\u001b[43m=\u001b[49m\u001b[43mbase_dir\u001b[49m\u001b[43m,\u001b[49m\u001b[43m \u001b[49m\u001b[43mflat\u001b[49m\u001b[43m=\u001b[49m\u001b[43mflat\u001b[49m\u001b[43m,\u001b[49m\n\u001b[32m    843\u001b[39m \u001b[43m                                    \u001b[49m\u001b[43mcache\u001b[49m\u001b[43m=\u001b[49m\u001b[43mcache\u001b[49m\u001b[43m,\u001b[49m\n\u001b[32m    844\u001b[39m \u001b[43m                                    \u001b[49m\u001b[43mcloud_only\u001b[49m\u001b[43m=\u001b[49m\u001b[43mcloud_only\u001b[49m\u001b[43m,\u001b[49m\n\u001b[32m    845\u001b[39m \u001b[43m                                    \u001b[49m\u001b[43mverbose\u001b[49m\u001b[43m=\u001b[49m\u001b[43mverbose\u001b[49m\u001b[43m)\u001b[49m\n\u001b[32m    847\u001b[39m \u001b[38;5;28;01mreturn\u001b[39;00m manifest\n",
      "\u001b[36mFile \u001b[39m\u001b[32m~/Documents/STScI/.conda/lib/python3.11/site-packages/astroquery/mast/observations.py:702\u001b[39m, in \u001b[36mObservationsClass._download_files\u001b[39m\u001b[34m(self, products, base_dir, flat, cache, cloud_only, verbose)\u001b[39m\n\u001b[32m    699\u001b[39m     local_path = os.path.join(local_path, os.path.basename(data_product[\u001b[33m'\u001b[39m\u001b[33mproductFilename\u001b[39m\u001b[33m'\u001b[39m]))\n\u001b[32m    701\u001b[39m     \u001b[38;5;66;03m# download the files\u001b[39;00m\n\u001b[32m--> \u001b[39m\u001b[32m702\u001b[39m     status, msg, url = \u001b[38;5;28;43mself\u001b[39;49m\u001b[43m.\u001b[49m\u001b[43mdownload_file\u001b[49m\u001b[43m(\u001b[49m\u001b[43mdata_product\u001b[49m\u001b[43m[\u001b[49m\u001b[33;43m\"\u001b[39;49m\u001b[33;43mdataURI\u001b[39;49m\u001b[33;43m\"\u001b[39;49m\u001b[43m]\u001b[49m\u001b[43m,\u001b[49m\u001b[43m \u001b[49m\u001b[43mlocal_path\u001b[49m\u001b[43m=\u001b[49m\u001b[43mlocal_path\u001b[49m\u001b[43m,\u001b[49m\n\u001b[32m    703\u001b[39m \u001b[43m                                          \u001b[49m\u001b[43mcache\u001b[49m\u001b[43m=\u001b[49m\u001b[43mcache\u001b[49m\u001b[43m,\u001b[49m\u001b[43m \u001b[49m\u001b[43mcloud_only\u001b[49m\u001b[43m=\u001b[49m\u001b[43mcloud_only\u001b[49m\u001b[43m,\u001b[49m\u001b[43m \u001b[49m\u001b[43mverbose\u001b[49m\u001b[43m=\u001b[49m\u001b[43mverbose\u001b[49m\u001b[43m)\u001b[49m\n\u001b[32m    705\u001b[39m     manifest_array.append([local_path, status, msg, url])\n\u001b[32m    707\u001b[39m manifest = Table(rows=manifest_array, names=(\u001b[33m'\u001b[39m\u001b[33mLocal Path\u001b[39m\u001b[33m'\u001b[39m, \u001b[33m'\u001b[39m\u001b[33mStatus\u001b[39m\u001b[33m'\u001b[39m, \u001b[33m'\u001b[39m\u001b[33mMessage\u001b[39m\u001b[33m'\u001b[39m, \u001b[33m\"\u001b[39m\u001b[33mURL\u001b[39m\u001b[33m\"\u001b[39m))\n",
      "\u001b[36mFile \u001b[39m\u001b[32m~/Documents/STScI/.conda/lib/python3.11/site-packages/astroquery/mast/observations.py:644\u001b[39m, in \u001b[36mObservationsClass.download_file\u001b[39m\u001b[34m(self, uri, local_path, base_url, cache, cloud_only, verbose)\u001b[39m\n\u001b[32m    640\u001b[39m             \u001b[38;5;28mself\u001b[39m._download_file(escaped_url, local_path,\n\u001b[32m    641\u001b[39m                                 cache=cache, head_safe=\u001b[38;5;28;01mTrue\u001b[39;00m, continuation=\u001b[38;5;28;01mFalse\u001b[39;00m,\n\u001b[32m    642\u001b[39m                                 verbose=verbose)\n\u001b[32m    643\u001b[39m \u001b[38;5;28;01melse\u001b[39;00m:\n\u001b[32m--> \u001b[39m\u001b[32m644\u001b[39m     \u001b[38;5;28;43mself\u001b[39;49m\u001b[43m.\u001b[49m\u001b[43m_download_file\u001b[49m\u001b[43m(\u001b[49m\u001b[43mescaped_url\u001b[49m\u001b[43m,\u001b[49m\u001b[43m \u001b[49m\u001b[43mlocal_path\u001b[49m\u001b[43m,\u001b[49m\n\u001b[32m    645\u001b[39m \u001b[43m                        \u001b[49m\u001b[43mcache\u001b[49m\u001b[43m=\u001b[49m\u001b[43mcache\u001b[49m\u001b[43m,\u001b[49m\u001b[43m \u001b[49m\u001b[43mhead_safe\u001b[49m\u001b[43m=\u001b[49m\u001b[38;5;28;43;01mTrue\u001b[39;49;00m\u001b[43m,\u001b[49m\u001b[43m \u001b[49m\u001b[43mcontinuation\u001b[49m\u001b[43m=\u001b[49m\u001b[38;5;28;43;01mFalse\u001b[39;49;00m\u001b[43m,\u001b[49m\n\u001b[32m    646\u001b[39m \u001b[43m                        \u001b[49m\u001b[43mverbose\u001b[49m\u001b[43m=\u001b[49m\u001b[43mverbose\u001b[49m\u001b[43m)\u001b[49m\n\u001b[32m    648\u001b[39m \u001b[38;5;66;03m# check if file exists also this is where would perform md5,\u001b[39;00m\n\u001b[32m    649\u001b[39m \u001b[38;5;66;03m# and also check the filesize if the database reliably reported file sizes\u001b[39;00m\n\u001b[32m    650\u001b[39m \u001b[38;5;28;01mif\u001b[39;00m (\u001b[38;5;129;01mnot\u001b[39;00m os.path.isfile(local_path)) \u001b[38;5;129;01mand\u001b[39;00m (status != \u001b[33m\"\u001b[39m\u001b[33mSKIPPED\u001b[39m\u001b[33m\"\u001b[39m):\n",
      "\u001b[36mFile \u001b[39m\u001b[32m~/Documents/STScI/.conda/lib/python3.11/site-packages/astroquery/query.py:505\u001b[39m, in \u001b[36mBaseQuery._download_file\u001b[39m\u001b[34m(self, url, local_filepath, timeout, auth, continuation, cache, method, head_safe, verbose, **kwargs)\u001b[39m\n\u001b[32m    502\u001b[39m \u001b[38;5;28;01mwith\u001b[39;00m ProgressBarOrSpinner(length, \u001b[33mf\u001b[39m\u001b[33m'\u001b[39m\u001b[33mDownloading URL \u001b[39m\u001b[38;5;132;01m{\u001b[39;00murl\u001b[38;5;132;01m}\u001b[39;00m\u001b[33m to \u001b[39m\u001b[38;5;132;01m{\u001b[39;00mlocal_filepath\u001b[38;5;132;01m}\u001b[39;00m\u001b[33m ...\u001b[39m\u001b[33m'\u001b[39m,\n\u001b[32m    503\u001b[39m                           file=progress_stream) \u001b[38;5;28;01mas\u001b[39;00m pb:\n\u001b[32m    504\u001b[39m     \u001b[38;5;28;01mwith\u001b[39;00m \u001b[38;5;28mopen\u001b[39m(local_filepath, open_mode) \u001b[38;5;28;01mas\u001b[39;00m f:\n\u001b[32m--> \u001b[39m\u001b[32m505\u001b[39m \u001b[43m        \u001b[49m\u001b[38;5;28;43;01mfor\u001b[39;49;00m\u001b[43m \u001b[49m\u001b[43mblock\u001b[49m\u001b[43m \u001b[49m\u001b[38;5;129;43;01min\u001b[39;49;00m\u001b[43m \u001b[49m\u001b[43mresponse\u001b[49m\u001b[43m.\u001b[49m\u001b[43miter_content\u001b[49m\u001b[43m(\u001b[49m\u001b[43mblocksize\u001b[49m\u001b[43m)\u001b[49m\u001b[43m:\u001b[49m\n\u001b[32m    506\u001b[39m \u001b[43m            \u001b[49m\u001b[43mf\u001b[49m\u001b[43m.\u001b[49m\u001b[43mwrite\u001b[49m\u001b[43m(\u001b[49m\u001b[43mblock\u001b[49m\u001b[43m)\u001b[49m\n\u001b[32m    507\u001b[39m \u001b[43m            \u001b[49m\u001b[43mbytes_read\u001b[49m\u001b[43m \u001b[49m\u001b[43m+\u001b[49m\u001b[43m=\u001b[49m\u001b[43m \u001b[49m\u001b[38;5;28;43mlen\u001b[39;49m\u001b[43m(\u001b[49m\u001b[43mblock\u001b[49m\u001b[43m)\u001b[49m\n",
      "\u001b[36mFile \u001b[39m\u001b[32m~/Documents/STScI/.conda/lib/python3.11/site-packages/requests/models.py:820\u001b[39m, in \u001b[36mResponse.iter_content.<locals>.generate\u001b[39m\u001b[34m()\u001b[39m\n\u001b[32m    818\u001b[39m \u001b[38;5;28;01mif\u001b[39;00m \u001b[38;5;28mhasattr\u001b[39m(\u001b[38;5;28mself\u001b[39m.raw, \u001b[33m\"\u001b[39m\u001b[33mstream\u001b[39m\u001b[33m\"\u001b[39m):\n\u001b[32m    819\u001b[39m     \u001b[38;5;28;01mtry\u001b[39;00m:\n\u001b[32m--> \u001b[39m\u001b[32m820\u001b[39m         \u001b[38;5;28;01myield from\u001b[39;00m \u001b[38;5;28mself\u001b[39m.raw.stream(chunk_size, decode_content=\u001b[38;5;28;01mTrue\u001b[39;00m)\n\u001b[32m    821\u001b[39m     \u001b[38;5;28;01mexcept\u001b[39;00m ProtocolError \u001b[38;5;28;01mas\u001b[39;00m e:\n\u001b[32m    822\u001b[39m         \u001b[38;5;28;01mraise\u001b[39;00m ChunkedEncodingError(e)\n",
      "\u001b[36mFile \u001b[39m\u001b[32m~/Documents/STScI/.conda/lib/python3.11/site-packages/urllib3/response.py:1066\u001b[39m, in \u001b[36mHTTPResponse.stream\u001b[39m\u001b[34m(self, amt, decode_content)\u001b[39m\n\u001b[32m   1064\u001b[39m \u001b[38;5;28;01melse\u001b[39;00m:\n\u001b[32m   1065\u001b[39m     \u001b[38;5;28;01mwhile\u001b[39;00m \u001b[38;5;129;01mnot\u001b[39;00m is_fp_closed(\u001b[38;5;28mself\u001b[39m._fp) \u001b[38;5;129;01mor\u001b[39;00m \u001b[38;5;28mlen\u001b[39m(\u001b[38;5;28mself\u001b[39m._decoded_buffer) > \u001b[32m0\u001b[39m:\n\u001b[32m-> \u001b[39m\u001b[32m1066\u001b[39m         data = \u001b[38;5;28;43mself\u001b[39;49m\u001b[43m.\u001b[49m\u001b[43mread\u001b[49m\u001b[43m(\u001b[49m\u001b[43mamt\u001b[49m\u001b[43m=\u001b[49m\u001b[43mamt\u001b[49m\u001b[43m,\u001b[49m\u001b[43m \u001b[49m\u001b[43mdecode_content\u001b[49m\u001b[43m=\u001b[49m\u001b[43mdecode_content\u001b[49m\u001b[43m)\u001b[49m\n\u001b[32m   1068\u001b[39m         \u001b[38;5;28;01mif\u001b[39;00m data:\n\u001b[32m   1069\u001b[39m             \u001b[38;5;28;01myield\u001b[39;00m data\n",
      "\u001b[36mFile \u001b[39m\u001b[32m~/Documents/STScI/.conda/lib/python3.11/site-packages/urllib3/response.py:955\u001b[39m, in \u001b[36mHTTPResponse.read\u001b[39m\u001b[34m(self, amt, decode_content, cache_content)\u001b[39m\n\u001b[32m    952\u001b[39m     \u001b[38;5;28;01mif\u001b[39;00m \u001b[38;5;28mlen\u001b[39m(\u001b[38;5;28mself\u001b[39m._decoded_buffer) >= amt:\n\u001b[32m    953\u001b[39m         \u001b[38;5;28;01mreturn\u001b[39;00m \u001b[38;5;28mself\u001b[39m._decoded_buffer.get(amt)\n\u001b[32m--> \u001b[39m\u001b[32m955\u001b[39m data = \u001b[38;5;28;43mself\u001b[39;49m\u001b[43m.\u001b[49m\u001b[43m_raw_read\u001b[49m\u001b[43m(\u001b[49m\u001b[43mamt\u001b[49m\u001b[43m)\u001b[49m\n\u001b[32m    957\u001b[39m flush_decoder = amt \u001b[38;5;129;01mis\u001b[39;00m \u001b[38;5;28;01mNone\u001b[39;00m \u001b[38;5;129;01mor\u001b[39;00m (amt != \u001b[32m0\u001b[39m \u001b[38;5;129;01mand\u001b[39;00m \u001b[38;5;129;01mnot\u001b[39;00m data)\n\u001b[32m    959\u001b[39m \u001b[38;5;28;01mif\u001b[39;00m \u001b[38;5;129;01mnot\u001b[39;00m data \u001b[38;5;129;01mand\u001b[39;00m \u001b[38;5;28mlen\u001b[39m(\u001b[38;5;28mself\u001b[39m._decoded_buffer) == \u001b[32m0\u001b[39m:\n",
      "\u001b[36mFile \u001b[39m\u001b[32m~/Documents/STScI/.conda/lib/python3.11/site-packages/urllib3/response.py:879\u001b[39m, in \u001b[36mHTTPResponse._raw_read\u001b[39m\u001b[34m(self, amt, read1)\u001b[39m\n\u001b[32m    876\u001b[39m fp_closed = \u001b[38;5;28mgetattr\u001b[39m(\u001b[38;5;28mself\u001b[39m._fp, \u001b[33m\"\u001b[39m\u001b[33mclosed\u001b[39m\u001b[33m\"\u001b[39m, \u001b[38;5;28;01mFalse\u001b[39;00m)\n\u001b[32m    878\u001b[39m \u001b[38;5;28;01mwith\u001b[39;00m \u001b[38;5;28mself\u001b[39m._error_catcher():\n\u001b[32m--> \u001b[39m\u001b[32m879\u001b[39m     data = \u001b[38;5;28;43mself\u001b[39;49m\u001b[43m.\u001b[49m\u001b[43m_fp_read\u001b[49m\u001b[43m(\u001b[49m\u001b[43mamt\u001b[49m\u001b[43m,\u001b[49m\u001b[43m \u001b[49m\u001b[43mread1\u001b[49m\u001b[43m=\u001b[49m\u001b[43mread1\u001b[49m\u001b[43m)\u001b[49m \u001b[38;5;28;01mif\u001b[39;00m \u001b[38;5;129;01mnot\u001b[39;00m fp_closed \u001b[38;5;28;01melse\u001b[39;00m \u001b[33mb\u001b[39m\u001b[33m\"\u001b[39m\u001b[33m\"\u001b[39m\n\u001b[32m    880\u001b[39m     \u001b[38;5;28;01mif\u001b[39;00m amt \u001b[38;5;129;01mis\u001b[39;00m \u001b[38;5;129;01mnot\u001b[39;00m \u001b[38;5;28;01mNone\u001b[39;00m \u001b[38;5;129;01mand\u001b[39;00m amt != \u001b[32m0\u001b[39m \u001b[38;5;129;01mand\u001b[39;00m \u001b[38;5;129;01mnot\u001b[39;00m data:\n\u001b[32m    881\u001b[39m         \u001b[38;5;66;03m# Platform-specific: Buggy versions of Python.\u001b[39;00m\n\u001b[32m    882\u001b[39m         \u001b[38;5;66;03m# Close the connection when no data is returned\u001b[39;00m\n\u001b[32m   (...)\u001b[39m\u001b[32m    887\u001b[39m         \u001b[38;5;66;03m# not properly close the connection in all cases. There is\u001b[39;00m\n\u001b[32m    888\u001b[39m         \u001b[38;5;66;03m# no harm in redundantly calling close.\u001b[39;00m\n\u001b[32m    889\u001b[39m         \u001b[38;5;28mself\u001b[39m._fp.close()\n",
      "\u001b[36mFile \u001b[39m\u001b[32m~/Documents/STScI/.conda/lib/python3.11/site-packages/urllib3/response.py:862\u001b[39m, in \u001b[36mHTTPResponse._fp_read\u001b[39m\u001b[34m(self, amt, read1)\u001b[39m\n\u001b[32m    859\u001b[39m     \u001b[38;5;28;01mreturn\u001b[39;00m \u001b[38;5;28mself\u001b[39m._fp.read1(amt) \u001b[38;5;28;01mif\u001b[39;00m amt \u001b[38;5;129;01mis\u001b[39;00m \u001b[38;5;129;01mnot\u001b[39;00m \u001b[38;5;28;01mNone\u001b[39;00m \u001b[38;5;28;01melse\u001b[39;00m \u001b[38;5;28mself\u001b[39m._fp.read1()\n\u001b[32m    860\u001b[39m \u001b[38;5;28;01melse\u001b[39;00m:\n\u001b[32m    861\u001b[39m     \u001b[38;5;66;03m# StringIO doesn't like amt=None\u001b[39;00m\n\u001b[32m--> \u001b[39m\u001b[32m862\u001b[39m     \u001b[38;5;28;01mreturn\u001b[39;00m \u001b[38;5;28;43mself\u001b[39;49m\u001b[43m.\u001b[49m\u001b[43m_fp\u001b[49m\u001b[43m.\u001b[49m\u001b[43mread\u001b[49m\u001b[43m(\u001b[49m\u001b[43mamt\u001b[49m\u001b[43m)\u001b[49m \u001b[38;5;28;01mif\u001b[39;00m amt \u001b[38;5;129;01mis\u001b[39;00m \u001b[38;5;129;01mnot\u001b[39;00m \u001b[38;5;28;01mNone\u001b[39;00m \u001b[38;5;28;01melse\u001b[39;00m \u001b[38;5;28mself\u001b[39m._fp.read()\n",
      "\u001b[36mFile \u001b[39m\u001b[32m~/Documents/STScI/.conda/lib/python3.11/http/client.py:473\u001b[39m, in \u001b[36mHTTPResponse.read\u001b[39m\u001b[34m(self, amt)\u001b[39m\n\u001b[32m    470\u001b[39m \u001b[38;5;28;01mif\u001b[39;00m \u001b[38;5;28mself\u001b[39m.length \u001b[38;5;129;01mis\u001b[39;00m \u001b[38;5;129;01mnot\u001b[39;00m \u001b[38;5;28;01mNone\u001b[39;00m \u001b[38;5;129;01mand\u001b[39;00m amt > \u001b[38;5;28mself\u001b[39m.length:\n\u001b[32m    471\u001b[39m     \u001b[38;5;66;03m# clip the read to the \"end of response\"\u001b[39;00m\n\u001b[32m    472\u001b[39m     amt = \u001b[38;5;28mself\u001b[39m.length\n\u001b[32m--> \u001b[39m\u001b[32m473\u001b[39m s = \u001b[38;5;28mself\u001b[39m.fp.read(amt)\n\u001b[32m    474\u001b[39m \u001b[38;5;28;01mif\u001b[39;00m \u001b[38;5;129;01mnot\u001b[39;00m s \u001b[38;5;129;01mand\u001b[39;00m amt:\n\u001b[32m    475\u001b[39m     \u001b[38;5;66;03m# Ideally, we would raise IncompleteRead if the content-length\u001b[39;00m\n\u001b[32m    476\u001b[39m     \u001b[38;5;66;03m# wasn't satisfied, but it might break compatibility.\u001b[39;00m\n\u001b[32m    477\u001b[39m     \u001b[38;5;28mself\u001b[39m._close_conn()\n",
      "\u001b[36mFile \u001b[39m\u001b[32m~/Documents/STScI/.conda/lib/python3.11/socket.py:706\u001b[39m, in \u001b[36mSocketIO.readinto\u001b[39m\u001b[34m(self, b)\u001b[39m\n\u001b[32m    704\u001b[39m \u001b[38;5;28;01mwhile\u001b[39;00m \u001b[38;5;28;01mTrue\u001b[39;00m:\n\u001b[32m    705\u001b[39m     \u001b[38;5;28;01mtry\u001b[39;00m:\n\u001b[32m--> \u001b[39m\u001b[32m706\u001b[39m         \u001b[38;5;28;01mreturn\u001b[39;00m \u001b[38;5;28;43mself\u001b[39;49m\u001b[43m.\u001b[49m\u001b[43m_sock\u001b[49m\u001b[43m.\u001b[49m\u001b[43mrecv_into\u001b[49m\u001b[43m(\u001b[49m\u001b[43mb\u001b[49m\u001b[43m)\u001b[49m\n\u001b[32m    707\u001b[39m     \u001b[38;5;28;01mexcept\u001b[39;00m timeout:\n\u001b[32m    708\u001b[39m         \u001b[38;5;28mself\u001b[39m._timeout_occurred = \u001b[38;5;28;01mTrue\u001b[39;00m\n",
      "\u001b[36mFile \u001b[39m\u001b[32m~/Documents/STScI/.conda/lib/python3.11/ssl.py:1314\u001b[39m, in \u001b[36mSSLSocket.recv_into\u001b[39m\u001b[34m(self, buffer, nbytes, flags)\u001b[39m\n\u001b[32m   1310\u001b[39m     \u001b[38;5;28;01mif\u001b[39;00m flags != \u001b[32m0\u001b[39m:\n\u001b[32m   1311\u001b[39m         \u001b[38;5;28;01mraise\u001b[39;00m \u001b[38;5;167;01mValueError\u001b[39;00m(\n\u001b[32m   1312\u001b[39m           \u001b[33m\"\u001b[39m\u001b[33mnon-zero flags not allowed in calls to recv_into() on \u001b[39m\u001b[38;5;132;01m%s\u001b[39;00m\u001b[33m\"\u001b[39m %\n\u001b[32m   1313\u001b[39m           \u001b[38;5;28mself\u001b[39m.\u001b[34m__class__\u001b[39m)\n\u001b[32m-> \u001b[39m\u001b[32m1314\u001b[39m     \u001b[38;5;28;01mreturn\u001b[39;00m \u001b[38;5;28;43mself\u001b[39;49m\u001b[43m.\u001b[49m\u001b[43mread\u001b[49m\u001b[43m(\u001b[49m\u001b[43mnbytes\u001b[49m\u001b[43m,\u001b[49m\u001b[43m \u001b[49m\u001b[43mbuffer\u001b[49m\u001b[43m)\u001b[49m\n\u001b[32m   1315\u001b[39m \u001b[38;5;28;01melse\u001b[39;00m:\n\u001b[32m   1316\u001b[39m     \u001b[38;5;28;01mreturn\u001b[39;00m \u001b[38;5;28msuper\u001b[39m().recv_into(buffer, nbytes, flags)\n",
      "\u001b[36mFile \u001b[39m\u001b[32m~/Documents/STScI/.conda/lib/python3.11/ssl.py:1166\u001b[39m, in \u001b[36mSSLSocket.read\u001b[39m\u001b[34m(self, len, buffer)\u001b[39m\n\u001b[32m   1164\u001b[39m \u001b[38;5;28;01mtry\u001b[39;00m:\n\u001b[32m   1165\u001b[39m     \u001b[38;5;28;01mif\u001b[39;00m buffer \u001b[38;5;129;01mis\u001b[39;00m \u001b[38;5;129;01mnot\u001b[39;00m \u001b[38;5;28;01mNone\u001b[39;00m:\n\u001b[32m-> \u001b[39m\u001b[32m1166\u001b[39m         \u001b[38;5;28;01mreturn\u001b[39;00m \u001b[38;5;28;43mself\u001b[39;49m\u001b[43m.\u001b[49m\u001b[43m_sslobj\u001b[49m\u001b[43m.\u001b[49m\u001b[43mread\u001b[49m\u001b[43m(\u001b[49m\u001b[38;5;28;43mlen\u001b[39;49m\u001b[43m,\u001b[49m\u001b[43m \u001b[49m\u001b[43mbuffer\u001b[49m\u001b[43m)\u001b[49m\n\u001b[32m   1167\u001b[39m     \u001b[38;5;28;01melse\u001b[39;00m:\n\u001b[32m   1168\u001b[39m         \u001b[38;5;28;01mreturn\u001b[39;00m \u001b[38;5;28mself\u001b[39m._sslobj.read(\u001b[38;5;28mlen\u001b[39m)\n",
      "\u001b[31mKeyboardInterrupt\u001b[39m: "
     ]
    }
   ],
   "source": [
    "for i in range(len(df['resolved_coord'])):\n",
    "    save_images_supernova(i)"
   ]
  },
  {
   "cell_type": "code",
   "execution_count": null,
   "id": "da48cbf3",
   "metadata": {},
   "outputs": [],
   "source": [
    "def HST_aperture(resolved_coordinate_index):\n",
    "    \"\"\"\n",
    "    For HST images, use the aperature techinique to go through and find PSF photometry\n",
    "    Parameters:\n",
    "        resolved_coordinate_index: integer, the index number of the query\n",
    "    Returns:\n",
    "        - Full image of the field\n",
    "        - Image of the supernova\n",
    "        - Print final aperture result\n",
    "    \"\"\"\n",
    "    RA = df['RA'][resolved_coordinate_index]\n",
    "    DEC = df['Dec'][resolved_coordinate_index]\n",
    "    resolved_coord = df['resolved_coord'][resolved_coordinate_index]\n",
    "\n",
    "    files = glob.glob(\"pantheon_data_folder/{}/mastDownload/HST/*/*flt.fits\".format(resolved_coord))\n",
    "    #If there are NO HST IMAGES exit\n",
    "    if len(files) == 0:\n",
    "        print(\"No HST images\")\n",
    "        exit\n",
    "\n",
    "    #RIGHT NOW THIS IS 0 THIS WILL NEED TO CHANGE\n",
    "    image_num = 0\n",
    "\n",
    "    #Takes the data from the file\n",
    "\n",
    "    ref_image = files[image_num]\n",
    "    ref_fits = fits.open(ref_image)\n",
    "    ref_data = fits.open(ref_image)['SCI',1].data\n",
    "\n",
    "    #Creating the visual of the image region\n",
    "    norm1 = simple_norm(ref_data,stretch='linear',min_cut=-1,max_cut=10)\n",
    "    plt.imshow(ref_data, origin='lower',norm=norm1,cmap='gray')\n",
    "    plt.gca().tick_params(labelcolor='none',axis='both',color='none')\n",
    "    plt.title(\"Image of Full File {} for coord {}\".format(image_num, resolved_coord))\n",
    "    plt.show()\n",
    "\n",
    "\n",
    "    #Taking the supernova position and zooming in on this image + creating image\n",
    "    sn_location = SkyCoord(ra=RA*u.degree, dec=DEC*u.degree, frame='icrs')\n",
    "    ref_y,ref_x = skycoord_to_pixel(sn_location,wcs.WCS(ref_fits['SCI',1],ref_fits))\n",
    "\n",
    "    #400 by 400 image\n",
    "    full_cutout = extract_array(ref_data,(400,400),(ref_x,ref_y))\n",
    "    ref_cutout = extract_array(ref_data,(11,11),(ref_x,ref_y))\n",
    "    norm1 = simple_norm(full_cutout,stretch='linear',vmin=-1,vmax=10)\n",
    "    #Image in black and grey\n",
    "    plt.imshow(ref_cutout, origin='lower',\n",
    "                      norm=norm1,cmap='gray')\n",
    "    #Target Region over it in Red\n",
    "    plt.imshow(ref_cutout, origin='lower',\n",
    "                      norm=norm1,cmap='reds')\n",
    "    plt.title(\"400 by 400 {}\".format(resolved_coord))\n",
    "    plt.gca().tick_params(labelcolor='none',axis='both',color='none')\n",
    "    plt.show()\n",
    "\n",
    "    #more Zoomed in\n",
    "    ref_cutout = extract_array(ref_data,(11,11),(ref_x,ref_y))\n",
    "    norm1 = simple_norm(ref_cutout,stretch='linear',vmin=-1,vmax=10)\n",
    "    plt.imshow(ref_cutout, origin='lower',\n",
    "                      norm=norm1,cmap='gray')\n",
    "    plt.title(resolved_coord)\n",
    "    plt.gca().tick_params(labelcolor='none',axis='both',color='none')\n",
    "    plt.show()\n",
    "    print (files)\n",
    "\n",
    "    #Final Aperature result\n",
    "    hst_obs = space_phot.observation2(files)\n",
    "    hst_obs.aperture_photometry(sn_location,radius=3,\n",
    "                        skyan_in=5,skyan_out=7)\n",
    "    print(hst_obs.aperture_result.phot_cal_table)\n"
   ]
  },
  {
   "cell_type": "code",
   "execution_count": null,
   "id": "9173969f",
   "metadata": {},
   "outputs": [],
   "source": [
    "#Create a function that will take the index of the resolved coordinate index and do analysis on the files in that subgroup\n",
    "\n",
    "def HST_PSF_function(resolved_coordinate_index):\n",
    "    \"\"\"\n",
    "    For Hubble Space Telescope (HST) images, go through and find fluxes of the supernova after cleaning (PSF)\n",
    "    Params:\n",
    "        resolved_coordinate_index: integer, the index number of the query\n",
    "    Returns:\n",
    "        - Full image of the field\n",
    "        - Image of the supernova\n",
    "        - PSF model\n",
    "        - PSF photometry overall\n",
    "    \"\"\"\n",
    "    \n",
    "    RA = df['RA'][resolved_coordinate_index]\n",
    "    DEC = df['Dec'][resolved_coordinate_index]\n",
    "    resolved_coord = df['resolved_coord'][resolved_coordinate_index]\n",
    "\n",
    "    files = glob.glob(\"pantheon_data_folder/{}/mastDownload/HST/*/*flt.fits\".format(resolved_coord))\n",
    "    #If there are NO HST IMAGES exit\n",
    "    if len(files) == 0:\n",
    "        print(\"No HST images\")\n",
    "        exit\n",
    "    \n",
    "    #RIGHT NOW THIS IS 0 THIS WILL NEED TO CHANGE\n",
    "    image_num = 0\n",
    "\n",
    "    #Takes the data from the file\n",
    "\n",
    "    ref_image = files[image_num]\n",
    "    ref_fits = fits.open(ref_image)\n",
    "    ref_data = fits.open(ref_image)['SCI',1].data\n",
    "\n",
    "    #Creating the visual of the image region\n",
    "    norm1 = simple_norm(ref_data,stretch='linear',min_cut=-1,max_cut=10)\n",
    "    plt.imshow(ref_data, origin='lower',norm=norm1,cmap='gray')\n",
    "    plt.gca().tick_params(labelcolor='none',axis='both',color='none')\n",
    "    plt.title(\"Image of File {} for coord {}\".format(image_num, resolved_coord))\n",
    "    plt.show()\n",
    "\n",
    "    #Taking the supernova position and zooming in on this image + creating image\n",
    "    sn_location = SkyCoord(ra=RA*u.degree, dec=DEC*u.degree, frame='icrs')\n",
    "    ref_y,ref_x = skycoord_to_pixel(sn_location,wcs.WCS(ref_fits['SCI',1],ref_fits))\n",
    "    ref_cutout = extract_array(ref_data,(11,11),(ref_x,ref_y))\n",
    "    norm1 = simple_norm(ref_cutout,stretch='linear',vmin=-1,vmax=10)\n",
    "    plt.imshow(ref_cutout, origin='lower',\n",
    "                      norm=norm1,cmap='gray')\n",
    "    plt.title(resolved_coord)\n",
    "    plt.gca().tick_params(labelcolor='none',axis='both',color='none')\n",
    "    plt.show()\n",
    "    print (files)\n",
    "    \"\"\"\n",
    "    hst_obs = space_phot.observation2(files)\n",
    "    print(hst_obs)\n",
    "    psfs = space_phot.get_hst_psf(hst_obs,sn_location)\n",
    "    plt.imshow(psfs[0].data)\n",
    "    plt.show()\n",
    "    \"\"\"\n",
    "\n",
    "\n",
    "    \n",
    "\n",
    "HST_PSF_function(2)\n"
   ]
  },
  {
   "cell_type": "code",
   "execution_count": null,
   "id": "1e4d95aa",
   "metadata": {},
   "outputs": [],
   "source": [
    "files = glob.glob('pantheon_data_folder/*/mastDownload/HST/*/*flt.fits')\n",
    "print(len(files))\n",
    "\n",
    "ref_image = files[0]\n",
    "ref_fits = fits.open(ref_image)\n",
    "ref_data = fits.open(ref_image)['SCI',1].data\n",
    "norm1 = simple_norm(ref_data,stretch='linear',min_cut=-1,max_cut=10)\n",
    "\n",
    "plt.imshow(ref_data, origin='lower',norm=norm1,cmap='gray')\n",
    "plt.gca().tick_params(labelcolor='none',axis='both',color='none')\n",
    "plt.show()"
   ]
  },
  {
   "cell_type": "code",
   "execution_count": null,
   "id": "254bec15",
   "metadata": {},
   "outputs": [],
   "source": [
    "sn_location = SkyCoord('21:29:40.2110','+0:05:24.154',unit=(u.hourangle,u.deg))\n",
    "ref_y,ref_x = skycoord_to_pixel(sn_location,wcs.WCS(ref_fits['SCI',1],ref_fits))\n",
    "ref_cutout = extract_array(ref_data,(11,11),(ref_x,ref_y))\n",
    "norm1 = simple_norm(ref_cutout,stretch='linear',min_cut=-1,max_cut=10)\n",
    "plt.imshow(ref_cutout, origin='lower',\n",
    "                      norm=norm1,cmap='gray')\n",
    "plt.title('SN2022riv')\n",
    "plt.gca().tick_params(labelcolor='none',axis='both',color='none')\n",
    "plt.show()"
   ]
  },
  {
   "cell_type": "code",
   "execution_count": null,
   "id": "1436c64c",
   "metadata": {},
   "outputs": [],
   "source": [
    "resolved_coordinate_index = 2\n",
    "RA = df['RA'][resolved_coordinate_index]\n",
    "DEC = df['Dec'][resolved_coordinate_index]\n",
    "resolved_coord = df['resolved_coord'][resolved_coordinate_index]\n",
    "\n",
    "files = glob.glob(\"pantheon_data_folder/{}/mastDownload/HST/*/*flt.fits\".format(resolved_coord))\n",
    "\n",
    "print(len(files))\n",
    "#If there are NO HST IMAGES exit\n",
    "\n",
    "\n",
    "#RIGHT NOW THIS IS 0 THIS WILL NEED TO CHANGE\n",
    "ref_image = files[0]\n",
    "ref_fits = fits.open(ref_image)\n",
    "ref_data = fits.open(ref_image)['SCI',1].data\n",
    "norm1 = simple_norm(ref_data,stretch='linear',min_cut=-1,max_cut=10)\n",
    "\n",
    "plt.imshow(ref_data, origin='lower',norm=norm1,cmap='gray')\n",
    "plt.gca().tick_params(labelcolor='none',axis='both',color='none')\n",
    "plt.show()\n",
    "\"\"\"\n",
    "sn_location = SkyCoord(ra=RA*u.degree, dec=DEC*u.degree, frame='icrs')\n",
    "ref_y,ref_x = skycoord_to_pixel(sn_location,wcs.WCS(ref_fits['SCI',1],ref_fits)) # pyright: ignore[reportUndefinedVariable]\n",
    "ref_cutout = extract_array(ref_data,(11,11),(ref_x,ref_y))\n",
    "norm1 = simple_norm(ref_cutout,stretch='linear',vmin=-1,vmax=10)\n",
    "plt.imshow(ref_cutout, origin='lower',\n",
    "                    norm=norm1,cmap='gray')\n",
    "plt.title(resolved_coord)\n",
    "plt.gca().tick_params(labelcolor='none',axis='both',color='none')\n",
    "plt.show()\n",
    "\"\"\""
   ]
  }
 ],
 "metadata": {
  "kernelspec": {
   "display_name": "Python 3",
   "language": "python",
   "name": "python3"
  },
  "language_info": {
   "codemirror_mode": {
    "name": "ipython",
    "version": 3
   },
   "file_extension": ".py",
   "mimetype": "text/x-python",
   "name": "python",
   "nbconvert_exporter": "python",
   "pygments_lexer": "ipython3",
   "version": "3.11.8"
  }
 },
 "nbformat": 4,
 "nbformat_minor": 5
}
